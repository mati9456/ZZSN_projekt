{
 "cells": [
  {
   "cell_type": "code",
   "execution_count": 1,
   "id": "6c6cf0a65b0163f2",
   "metadata": {
    "collapsed": false
   },
   "outputs": [],
   "source": [
    "### pakiety - potrzebne w colabie\n",
    "# !pip install datasets\n",
    "# !pip install torchaudio==0.10.0+cu113 -f https://download.pytorch.org/whl/cu113/torch_stable.html\n",
    "# !pip install jiwer\n",
    "# !pip install transformers[torch]\n",
    "# !pip install accelerate==0.30.0"
   ]
  },
  {
   "cell_type": "code",
   "execution_count": 2,
   "id": "8d1fedf2093e64db",
   "metadata": {
    "collapsed": false
   },
   "outputs": [],
   "source": [
    "### login do huggingface - potrzebny w colabie\n",
    "# from huggingface_hub import notebook_login\n",
    "# notebook_login()"
   ]
  },
  {
   "cell_type": "code",
   "execution_count": 3,
   "id": "173462673728906b",
   "metadata": {
    "collapsed": false
   },
   "outputs": [],
   "source": [
    "from datasets import load_dataset, load_metric, Audio\n",
    "\n",
    "common_voice_train = load_dataset(\"mozilla-foundation/common_voice_17_0\", \"pl\", split=\"train\")\n",
    "common_voice_test = load_dataset(\"mozilla-foundation/common_voice_17_0\", \"pl\", split=\"test\")\n",
    "\n",
    "# ograniczenie wielkości datasetów do testów\n",
    "#common_voice_train = common_voice_train.select(range(1024))\n",
    "common_voice_test = common_voice_test.select(range(1024))"
   ]
  },
  {
   "cell_type": "code",
   "execution_count": 4,
   "id": "5f2ccd639d1d0da3",
   "metadata": {
    "collapsed": false
   },
   "outputs": [],
   "source": [
    "common_voice_train = common_voice_train.remove_columns([\"accent\", \"age\", \"client_id\", \"down_votes\", \"gender\", \"locale\", \"segment\", \"up_votes\"])\n",
    "common_voice_test = common_voice_test.remove_columns([\"accent\", \"age\", \"client_id\", \"down_votes\", \"gender\", \"locale\", \"segment\", \"up_votes\"])"
   ]
  },
  {
   "cell_type": "code",
   "execution_count": 5,
   "id": "7d34718663840dbd",
   "metadata": {
    "collapsed": false
   },
   "outputs": [
    {
     "data": {
      "text/html": [
       "<table border=\"1\" class=\"dataframe\">\n",
       "  <thead>\n",
       "    <tr style=\"text-align: right;\">\n",
       "      <th></th>\n",
       "      <th>sentence</th>\n",
       "      <th>variant</th>\n",
       "    </tr>\n",
       "  </thead>\n",
       "  <tbody>\n",
       "    <tr>\n",
       "      <th>0</th>\n",
       "      <td>Były to bardzo trudne dyskusje, ponieważ na ich szali było życie ludzkie</td>\n",
       "      <td></td>\n",
       "    </tr>\n",
       "    <tr>\n",
       "      <th>1</th>\n",
       "      <td>Głosowanie odbędzie się wkrótce, w wyznaczonym czasie</td>\n",
       "      <td></td>\n",
       "    </tr>\n",
       "    <tr>\n",
       "      <th>2</th>\n",
       "      <td>\"Po co miałem ją mieszać do tego?\"</td>\n",
       "      <td></td>\n",
       "    </tr>\n",
       "    <tr>\n",
       "      <th>3</th>\n",
       "      <td>\"W spojrzeniu i ruchach miał teraz jakąś ociężałość starca.\"</td>\n",
       "      <td></td>\n",
       "    </tr>\n",
       "    <tr>\n",
       "      <th>4</th>\n",
       "      <td>\"Wesele odbyło się z wielką wspaniałością.\"</td>\n",
       "      <td></td>\n",
       "    </tr>\n",
       "    <tr>\n",
       "      <th>5</th>\n",
       "      <td>Te fakty zadecydowały o naszym stanowisku podczas głosowania nad tym sprawozdaniem</td>\n",
       "      <td></td>\n",
       "    </tr>\n",
       "    <tr>\n",
       "      <th>6</th>\n",
       "      <td>jak Unia Europejska powinna zaprezentować się obywatelom europejskim w nadchodzącym roku?</td>\n",
       "      <td></td>\n",
       "    </tr>\n",
       "    <tr>\n",
       "      <th>7</th>\n",
       "      <td>Zali wytrzymamy do godziny modlitw o głodzie — i kto nas później pożywi.</td>\n",
       "      <td></td>\n",
       "    </tr>\n",
       "    <tr>\n",
       "      <th>8</th>\n",
       "      <td>\"Holmes uśmiechnął się.\"</td>\n",
       "      <td></td>\n",
       "    </tr>\n",
       "    <tr>\n",
       "      <th>9</th>\n",
       "      <td>Debata, którą prowadzimy nie jest debatą ideologiczną</td>\n",
       "      <td></td>\n",
       "    </tr>\n",
       "  </tbody>\n",
       "</table>"
      ],
      "text/plain": [
       "<IPython.core.display.HTML object>"
      ]
     },
     "metadata": {},
     "output_type": "display_data"
    }
   ],
   "source": [
    "from datasets import ClassLabel\n",
    "import random\n",
    "import pandas as pd\n",
    "from IPython.display import display, HTML\n",
    "\n",
    "def show_random_elements(dataset, num_examples=10):\n",
    "    assert num_examples <= len(dataset), \"Can't pick more elements than there are in the dataset.\"\n",
    "    picks = []\n",
    "    for _ in range(num_examples):\n",
    "        pick = random.randint(0, len(dataset)-1)\n",
    "        while pick in picks:\n",
    "            pick = random.randint(0, len(dataset)-1)\n",
    "        picks.append(pick)\n",
    "    \n",
    "    df = pd.DataFrame(dataset[picks])\n",
    "    display(HTML(df.to_html()))\n",
    "\n",
    "show_random_elements(common_voice_train.remove_columns([\"path\", \"audio\"]), num_examples=10)"
   ]
  },
  {
   "cell_type": "code",
   "execution_count": 6,
   "id": "d60b01d5b6dc365a",
   "metadata": {
    "collapsed": false
   },
   "outputs": [],
   "source": [
    "import re\n",
    "chars_to_remove_regex = '[\\,\\?\\.\\!\\-\\;\\:\\\"\\“\\%\\‘\\”\\�\\'\\«\\»\\–\\—\\’\\„\\…]'\n",
    "\n",
    "def remove_special_characters(batch):\n",
    "    batch[\"sentence\"] = re.sub(chars_to_remove_regex, '', batch[\"sentence\"]).lower()\n",
    "    return batch"
   ]
  },
  {
   "cell_type": "code",
   "execution_count": 7,
   "id": "2125955715f30771",
   "metadata": {
    "collapsed": false
   },
   "outputs": [
    {
     "data": {
      "text/html": [
       "<table border=\"1\" class=\"dataframe\">\n",
       "  <thead>\n",
       "    <tr style=\"text-align: right;\">\n",
       "      <th></th>\n",
       "      <th>sentence</th>\n",
       "      <th>variant</th>\n",
       "    </tr>\n",
       "  </thead>\n",
       "  <tbody>\n",
       "    <tr>\n",
       "      <th>0</th>\n",
       "      <td>otóż ojciec odstąpił mi swoje młyny i ja jestem teraz bogatszy</td>\n",
       "      <td></td>\n",
       "    </tr>\n",
       "    <tr>\n",
       "      <th>1</th>\n",
       "      <td>komisja może również zostać wezwana do podjęcia dalszych działań w tym temacie</td>\n",
       "      <td></td>\n",
       "    </tr>\n",
       "    <tr>\n",
       "      <th>2</th>\n",
       "      <td>obawiał się bowiem że jeśli zostanie to odbierze jej tę wodę</td>\n",
       "      <td></td>\n",
       "    </tr>\n",
       "    <tr>\n",
       "      <th>3</th>\n",
       "      <td>niekiedy mam wrażenie że prawne wybiegi są tylko pretekstem</td>\n",
       "      <td></td>\n",
       "    </tr>\n",
       "    <tr>\n",
       "      <th>4</th>\n",
       "      <td>europa pilnie musi dokończyć to co rozpoczęła</td>\n",
       "      <td></td>\n",
       "    </tr>\n",
       "    <tr>\n",
       "      <th>5</th>\n",
       "      <td>komu go oddadzą</td>\n",
       "      <td></td>\n",
       "    </tr>\n",
       "    <tr>\n",
       "      <th>6</th>\n",
       "      <td>nie każmy im czekać dłużej</td>\n",
       "      <td></td>\n",
       "    </tr>\n",
       "    <tr>\n",
       "      <th>7</th>\n",
       "      <td>jakie przestępstwo popełniły aby być skazanym na takie życie</td>\n",
       "      <td></td>\n",
       "    </tr>\n",
       "    <tr>\n",
       "      <th>8</th>\n",
       "      <td>mam na myśli intergrupę</td>\n",
       "      <td></td>\n",
       "    </tr>\n",
       "    <tr>\n",
       "      <th>9</th>\n",
       "      <td>dziękuję za pani wyczerpującą i szczegółową odpowiedź</td>\n",
       "      <td></td>\n",
       "    </tr>\n",
       "  </tbody>\n",
       "</table>"
      ],
      "text/plain": [
       "<IPython.core.display.HTML object>"
      ]
     },
     "metadata": {},
     "output_type": "display_data"
    }
   ],
   "source": [
    "common_voice_train = common_voice_train.map(remove_special_characters)\n",
    "common_voice_test = common_voice_test.map(remove_special_characters)\n",
    "\n",
    "show_random_elements(common_voice_train.remove_columns([\"path\",\"audio\"]))"
   ]
  },
  {
   "cell_type": "code",
   "execution_count": 8,
   "id": "86bc54297453a95e",
   "metadata": {
    "collapsed": false
   },
   "outputs": [],
   "source": [
    "def replace_hatted_characters(batch):\n",
    "    batch[\"sentence\"] = re.sub('[ą]', 'a', batch[\"sentence\"])\n",
    "    batch[\"sentence\"] = re.sub('[ę]', 'e', batch[\"sentence\"])\n",
    "    batch[\"sentence\"] = re.sub('[ó]', 'u', batch[\"sentence\"])\n",
    "    batch[\"sentence\"] = re.sub('[ł]', 'l', batch[\"sentence\"])\n",
    "    batch[\"sentence\"] = re.sub('[ż]', 'rz', batch[\"sentence\"])\n",
    "    batch[\"sentence\"] = re.sub('[ń]', 'ni', batch[\"sentence\"])\n",
    "    batch[\"sentence\"] = re.sub('[ć]', 'ci', batch[\"sentence\"])\n",
    "    batch[\"sentence\"] = re.sub('[ś]', 'si', batch[\"sentence\"])\n",
    "    batch[\"sentence\"] = re.sub('[ź]', 'zi', batch[\"sentence\"])\n",
    "    batch[\"sentence\"] = re.sub('[ü]', 'u', batch[\"sentence\"])\n",
    "    return batch\n",
    "\n",
    "common_voice_train = common_voice_train.map(replace_hatted_characters)\n",
    "common_voice_test = common_voice_test.map(replace_hatted_characters)"
   ]
  },
  {
   "cell_type": "code",
   "execution_count": 9,
   "id": "712541f9aea8bfe3",
   "metadata": {
    "collapsed": false
   },
   "outputs": [
    {
     "data": {
      "application/vnd.jupyter.widget-view+json": {
       "model_id": "2389820831f845b188abe894dfa1aca1",
       "version_major": 2,
       "version_minor": 0
      },
      "text/plain": [
       "Map:   0%|          | 0/20729 [00:00<?, ? examples/s]"
      ]
     },
     "metadata": {},
     "output_type": "display_data"
    },
    {
     "data": {
      "application/vnd.jupyter.widget-view+json": {
       "model_id": "275694e033c24a4ab8724c0fb0b898bd",
       "version_major": 2,
       "version_minor": 0
      },
      "text/plain": [
       "Map:   0%|          | 0/1024 [00:00<?, ? examples/s]"
      ]
     },
     "metadata": {},
     "output_type": "display_data"
    }
   ],
   "source": [
    "def extract_all_chars(batch):\n",
    "  all_text = \" \".join(batch[\"sentence\"])\n",
    "  vocab = list(set(all_text))\n",
    "  return {\"vocab\": [vocab], \"all_text\": [all_text]}\n",
    "\n",
    "vocab_train = common_voice_train.map(extract_all_chars, batched=True, batch_size=-1, keep_in_memory=True, remove_columns=common_voice_train.column_names)\n",
    "vocab_test = common_voice_test.map(extract_all_chars, batched=True, batch_size=-1, keep_in_memory=True, remove_columns=common_voice_test.column_names)"
   ]
  },
  {
   "cell_type": "code",
   "execution_count": 10,
   "id": "a8c59ef4e11a9df3",
   "metadata": {
    "collapsed": false
   },
   "outputs": [],
   "source": [
    "vocab_list = list(set(vocab_train[\"vocab\"][0]) | set(vocab_test[\"vocab\"][0]))"
   ]
  },
  {
   "cell_type": "code",
   "execution_count": 11,
   "id": "2815c5b4d38fb119",
   "metadata": {
    "collapsed": false
   },
   "outputs": [
    {
     "data": {
      "text/plain": [
       "{' ': 0,\n",
       " 'a': 1,\n",
       " 'b': 2,\n",
       " 'c': 3,\n",
       " 'd': 4,\n",
       " 'e': 5,\n",
       " 'f': 6,\n",
       " 'g': 7,\n",
       " 'h': 8,\n",
       " 'i': 9,\n",
       " 'j': 10,\n",
       " 'k': 11,\n",
       " 'l': 12,\n",
       " 'm': 13,\n",
       " 'n': 14,\n",
       " 'o': 15,\n",
       " 'p': 16,\n",
       " 'q': 17,\n",
       " 'r': 18,\n",
       " 's': 19,\n",
       " 't': 20,\n",
       " 'u': 21,\n",
       " 'v': 22,\n",
       " 'w': 23,\n",
       " 'x': 24,\n",
       " 'y': 25,\n",
       " 'z': 26}"
      ]
     },
     "execution_count": 11,
     "metadata": {},
     "output_type": "execute_result"
    }
   ],
   "source": [
    "vocab_dict = {v: k for k, v in enumerate(sorted(vocab_list))}\n",
    "vocab_dict"
   ]
  },
  {
   "cell_type": "code",
   "execution_count": 12,
   "id": "99d95a63a1a07a13",
   "metadata": {
    "collapsed": false
   },
   "outputs": [],
   "source": [
    "vocab_dict[\"|\"] = vocab_dict[\" \"]\n",
    "del vocab_dict[\" \"]"
   ]
  },
  {
   "cell_type": "code",
   "execution_count": 13,
   "id": "3eef6bb48784d4b4",
   "metadata": {
    "collapsed": false
   },
   "outputs": [
    {
     "data": {
      "text/plain": [
       "29"
      ]
     },
     "execution_count": 13,
     "metadata": {},
     "output_type": "execute_result"
    }
   ],
   "source": [
    "vocab_dict[\"[UNK]\"] = len(vocab_dict)\n",
    "vocab_dict[\"[PAD]\"] = len(vocab_dict)\n",
    "len(vocab_dict)"
   ]
  },
  {
   "cell_type": "code",
   "execution_count": 14,
   "id": "72b1abb9f84e60d5",
   "metadata": {
    "collapsed": false
   },
   "outputs": [],
   "source": [
    "import json\n",
    "with open('vocab.json', 'w') as vocab_file:\n",
    "    json.dump(vocab_dict, vocab_file)"
   ]
  },
  {
   "cell_type": "code",
   "execution_count": 15,
   "id": "1c9976a9fc796161",
   "metadata": {
    "collapsed": false
   },
   "outputs": [],
   "source": [
    "from transformers import Wav2Vec2CTCTokenizer\n",
    "\n",
    "tokenizer = Wav2Vec2CTCTokenizer.from_pretrained(\"./\", unk_token=\"[UNK]\", pad_token=\"[PAD]\", word_delimiter_token=\"|\")"
   ]
  },
  {
   "cell_type": "code",
   "execution_count": 16,
   "id": "5fb66b15fb092fd2",
   "metadata": {
    "collapsed": false
   },
   "outputs": [],
   "source": [
    "from transformers import Wav2Vec2FeatureExtractor\n",
    "\n",
    "feature_extractor = Wav2Vec2FeatureExtractor(feature_size=1, sampling_rate=16000, padding_value=0.0, do_normalize=True, return_attention_mask=True)"
   ]
  },
  {
   "cell_type": "code",
   "execution_count": 17,
   "id": "b44122f42e0a0b3b",
   "metadata": {
    "collapsed": false
   },
   "outputs": [],
   "source": [
    "from transformers import Wav2Vec2Processor\n",
    "\n",
    "processor = Wav2Vec2Processor(feature_extractor=feature_extractor, tokenizer=tokenizer)"
   ]
  },
  {
   "cell_type": "code",
   "execution_count": 18,
   "id": "ef57b6fbbae731d5",
   "metadata": {
    "collapsed": false
   },
   "outputs": [
    {
     "data": {
      "text/plain": [
       "'/home/mati/.cache/huggingface/datasets/downloads/extracted/ce100de2fe6aaf90a46e818cb55859d23995530367b5864185bd5a28ddb13e88/pl_train_0/common_voice_pl_21655246.mp3'"
      ]
     },
     "execution_count": 18,
     "metadata": {},
     "output_type": "execute_result"
    }
   ],
   "source": [
    "common_voice_train[0][\"path\"]"
   ]
  },
  {
   "cell_type": "code",
   "execution_count": 19,
   "id": "4c1f41349a215eed",
   "metadata": {
    "collapsed": false
   },
   "outputs": [
    {
     "data": {
      "text/plain": [
       "{'path': '/home/mati/.cache/huggingface/datasets/downloads/extracted/ce100de2fe6aaf90a46e818cb55859d23995530367b5864185bd5a28ddb13e88/pl_train_0/common_voice_pl_21655246.mp3',\n",
       " 'array': array([ 0.00000000e+00,  0.00000000e+00,  0.00000000e+00, ...,\n",
       "        -2.05379274e-06, -3.55337511e-06, -4.30422733e-06]),\n",
       " 'sampling_rate': 48000}"
      ]
     },
     "execution_count": 19,
     "metadata": {},
     "output_type": "execute_result"
    }
   ],
   "source": [
    "common_voice_train[0][\"audio\"]"
   ]
  },
  {
   "cell_type": "code",
   "execution_count": 20,
   "id": "c2831c2b93b4e12",
   "metadata": {
    "collapsed": false
   },
   "outputs": [],
   "source": [
    "common_voice_train = common_voice_train.cast_column(\"audio\", Audio(sampling_rate=16_000))\n",
    "common_voice_test = common_voice_test.cast_column(\"audio\", Audio(sampling_rate=16_000))"
   ]
  },
  {
   "cell_type": "code",
   "execution_count": 21,
   "id": "c65eee69b23e9725",
   "metadata": {
    "collapsed": false
   },
   "outputs": [
    {
     "data": {
      "text/plain": [
       "{'path': '/home/mati/.cache/huggingface/datasets/downloads/extracted/ce100de2fe6aaf90a46e818cb55859d23995530367b5864185bd5a28ddb13e88/pl_train_0/common_voice_pl_21655246.mp3',\n",
       " 'array': array([-2.96461532e-21,  3.17637355e-21, -2.11758237e-20, ...,\n",
       "         7.11472239e-07, -3.45709395e-07, -2.75473758e-06]),\n",
       " 'sampling_rate': 16000}"
      ]
     },
     "execution_count": 21,
     "metadata": {},
     "output_type": "execute_result"
    }
   ],
   "source": [
    "common_voice_train[0][\"audio\"]"
   ]
  },
  {
   "cell_type": "code",
   "execution_count": 22,
   "id": "8669461d6cc27376",
   "metadata": {
    "collapsed": false
   },
   "outputs": [
    {
     "name": "stdout",
     "output_type": "stream",
     "text": [
      "to dosyci dla mnie i dla ciebie\n"
     ]
    },
    {
     "data": {
      "text/html": [
       "\n",
       "                <audio  controls=\"controls\" autoplay=\"autoplay\">\n",
       "                    <source src=\"data:audio/wav;base64,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\" type=\"audio/wav\" />\n",
       "                    Your browser does not support the audio element.\n",
       "                </audio>\n",
       "              "
      ],
      "text/plain": [
       "<IPython.lib.display.Audio object>"
      ]
     },
     "execution_count": 22,
     "metadata": {},
     "output_type": "execute_result"
    }
   ],
   "source": [
    "import IPython.display as ipd\n",
    "import numpy as np\n",
    "import random\n",
    "\n",
    "rand_int = random.randint(0, len(common_voice_train)-1)\n",
    "\n",
    "print(common_voice_train[rand_int][\"sentence\"])\n",
    "ipd.Audio(data=common_voice_train[rand_int][\"audio\"][\"array\"], autoplay=True, rate=16000)"
   ]
  },
  {
   "cell_type": "code",
   "execution_count": 23,
   "id": "4d95877d23a1e256",
   "metadata": {
    "collapsed": false
   },
   "outputs": [
    {
     "name": "stdout",
     "output_type": "stream",
     "text": [
      "Target text: zdaje mi sie rze to spokojne strony i morze muglbym tu osiasici\n",
      "Input array shape: (77184,)\n",
      "Sampling rate: 16000\n"
     ]
    }
   ],
   "source": [
    "rand_int = random.randint(0, len(common_voice_train)-1)\n",
    "\n",
    "print(\"Target text:\", common_voice_train[rand_int][\"sentence\"])\n",
    "print(\"Input array shape:\", common_voice_train[rand_int][\"audio\"][\"array\"].shape)\n",
    "print(\"Sampling rate:\", common_voice_train[rand_int][\"audio\"][\"sampling_rate\"])"
   ]
  },
  {
   "cell_type": "code",
   "execution_count": 24,
   "id": "e7ee2281291e4d09",
   "metadata": {
    "collapsed": false
   },
   "outputs": [],
   "source": [
    "def prepare_dataset(batch):\n",
    "    audio = batch[\"audio\"]\n",
    "\n",
    "    # batched output is \"un-batched\"\n",
    "    batch[\"input_values\"] = processor(audio[\"array\"], sampling_rate=audio[\"sampling_rate\"]).input_values[0]\n",
    "    batch[\"input_length\"] = len(batch[\"input_values\"])\n",
    "    \n",
    "    with processor.as_target_processor():\n",
    "        batch[\"labels\"] = processor(batch[\"sentence\"]).input_ids\n",
    "    return batch"
   ]
  },
  {
   "cell_type": "code",
   "execution_count": 25,
   "id": "eff031b390b4c137",
   "metadata": {
    "collapsed": false
   },
   "outputs": [],
   "source": [
    "common_voice_train = common_voice_train.map(prepare_dataset, remove_columns=common_voice_train.column_names)\n",
    "common_voice_test = common_voice_test.map(prepare_dataset, remove_columns=common_voice_test.column_names)"
   ]
  },
  {
   "cell_type": "code",
   "execution_count": 26,
   "id": "6e8290b26e508942",
   "metadata": {
    "collapsed": false
   },
   "outputs": [
    {
     "name": "stdout",
     "output_type": "stream",
     "text": [
      "['input_values', 'input_length', 'labels']\n"
     ]
    }
   ],
   "source": [
    "print(common_voice_train.column_names)"
   ]
  },
  {
   "cell_type": "code",
   "execution_count": 27,
   "id": "3dc405d84e41fec7",
   "metadata": {
    "collapsed": false
   },
   "outputs": [],
   "source": [
    "import torch\n",
    "\n",
    "from dataclasses import dataclass, field\n",
    "from typing import Any, Dict, List, Optional, Union\n",
    "\n",
    "@dataclass\n",
    "class DataCollatorCTCWithPadding:\n",
    "    \"\"\"\n",
    "    Data collator that will dynamically pad the inputs received.\n",
    "    Args:\n",
    "        processor (:class:`~transformers.Wav2Vec2Processor`)\n",
    "            The processor used for proccessing the data.\n",
    "        padding (:obj:`bool`, :obj:`str` or :class:`~transformers.tokenization_utils_base.PaddingStrategy`, `optional`, defaults to :obj:`True`):\n",
    "            Select a strategy to pad the returned sequences (according to the model's padding side and padding index)\n",
    "            among:\n",
    "            * :obj:`True` or :obj:`'longest'`: Pad to the longest sequence in the batch (or no padding if only a single\n",
    "              sequence if provided).\n",
    "            * :obj:`'max_length'`: Pad to a maximum length specified with the argument :obj:`max_length` or to the\n",
    "              maximum acceptable input length for the model if that argument is not provided.\n",
    "            * :obj:`False` or :obj:`'do_not_pad'` (default): No padding (i.e., can output a batch with sequences of\n",
    "              different lengths).\n",
    "    \"\"\"\n",
    "\n",
    "    processor: Wav2Vec2Processor\n",
    "    padding: Union[bool, str] = True\n",
    "\n",
    "    def __call__(self, features: List[Dict[str, Union[List[int], torch.Tensor]]]) -> Dict[str, torch.Tensor]:\n",
    "        # split inputs and labels since they have to be of different lenghts and need\n",
    "        # different padding methods\n",
    "        input_features = [{\"input_values\": feature[\"input_values\"]} for feature in features]\n",
    "        label_features = [{\"input_ids\": feature[\"labels\"]} for feature in features]\n",
    "\n",
    "        batch = self.processor.pad(\n",
    "            input_features,\n",
    "            padding=self.padding,\n",
    "            return_tensors=\"pt\",\n",
    "        )\n",
    "        with self.processor.as_target_processor():\n",
    "            labels_batch = self.processor.pad(\n",
    "                label_features,\n",
    "                padding=self.padding,\n",
    "                return_tensors=\"pt\",\n",
    "            )\n",
    "\n",
    "        # replace padding with -100 to ignore loss correctly\n",
    "        labels = labels_batch[\"input_ids\"].masked_fill(labels_batch.attention_mask.ne(1), -100)\n",
    "\n",
    "        batch[\"labels\"] = labels\n",
    "\n",
    "        return batch"
   ]
  },
  {
   "cell_type": "code",
   "execution_count": 28,
   "id": "a388bae405696a06",
   "metadata": {
    "collapsed": false
   },
   "outputs": [],
   "source": [
    "data_collator = DataCollatorCTCWithPadding(processor=processor, padding=True)"
   ]
  },
  {
   "cell_type": "code",
   "execution_count": 29,
   "id": "8250c3bfbf7605ef",
   "metadata": {
    "collapsed": false
   },
   "outputs": [
    {
     "name": "stderr",
     "output_type": "stream",
     "text": [
      "/tmp/ipykernel_84752/24688115.py:1: FutureWarning: load_metric is deprecated and will be removed in the next major version of datasets. Use 'evaluate.load' instead, from the new library 🤗 Evaluate: https://huggingface.co/docs/evaluate\n",
      "  wer_metric = load_metric(\"wer\")\n"
     ]
    }
   ],
   "source": [
    "wer_metric = load_metric(\"wer\")"
   ]
  },
  {
   "cell_type": "code",
   "execution_count": 30,
   "id": "1535c1e3b9d8f2f9",
   "metadata": {
    "collapsed": false
   },
   "outputs": [],
   "source": [
    "def compute_metrics(pred):\n",
    "    pred_logits = pred.predictions\n",
    "    pred_ids = np.argmax(pred_logits, axis=-1)\n",
    "\n",
    "    pred.label_ids[pred.label_ids == -100] = processor.tokenizer.pad_token_id\n",
    "\n",
    "    pred_str = processor.batch_decode(pred_ids)\n",
    "    # we do not want to group tokens when computing the metrics\n",
    "    label_str = processor.batch_decode(pred.label_ids, group_tokens=False)\n",
    "\n",
    "    wer = wer_metric.compute(predictions=pred_str, references=label_str)\n",
    "\n",
    "    return {\"wer\": wer}"
   ]
  },
  {
   "cell_type": "code",
   "execution_count": 31,
   "id": "450c5dc04ec3d3b2",
   "metadata": {
    "collapsed": false
   },
   "outputs": [],
   "source": [
    "from transformers import Wav2Vec2ForCTC\n",
    "\n",
    "model = Wav2Vec2ForCTC.from_pretrained(\n",
    "    #\"facebook/wav2vec2-base-960h\", \n",
    "    \"./out/checkpoint-3200\",\n",
    "    attention_dropout=0.0,\n",
    "    hidden_dropout=0.0,\n",
    "    feat_proj_dropout=0.0,\n",
    "    mask_time_prob=0.05,\n",
    "    layerdrop=0.0,\n",
    "    ctc_loss_reduction=\"mean\", \n",
    "    pad_token_id=processor.tokenizer.pad_token_id,\n",
    "    vocab_size=len(processor.tokenizer),\n",
    "    ignore_mismatched_sizes=True\n",
    ")"
   ]
  },
  {
   "cell_type": "code",
   "execution_count": 32,
   "id": "112fe921",
   "metadata": {},
   "outputs": [],
   "source": [
    "def change_grad(module, on):\n",
    "    for param in module.parameters():\n",
    "        param.requires_grad=on \n",
    "    module.requires_grad=on"
   ]
  },
  {
   "cell_type": "code",
   "execution_count": 33,
   "id": "e8c2c66d",
   "metadata": {},
   "outputs": [],
   "source": [
    "change_grad(model, True)"
   ]
  },
  {
   "cell_type": "code",
   "execution_count": 34,
   "id": "2ed43e40b9127a1a",
   "metadata": {
    "collapsed": false
   },
   "outputs": [],
   "source": [
    "model.freeze_feature_encoder()"
   ]
  },
  {
   "cell_type": "code",
   "execution_count": 35,
   "id": "bcae25e41e6c44d7",
   "metadata": {
    "collapsed": false
   },
   "outputs": [],
   "source": [
    "from transformers import TrainingArguments\n",
    "\n",
    "training_args = TrainingArguments(\n",
    "  output_dir=\"out\",\n",
    "  group_by_length=True,\n",
    "  per_device_train_batch_size=8,\n",
    "  gradient_accumulation_steps=4,\n",
    "  eval_accumulation_steps=4, \n",
    "  eval_strategy=\"steps\",\n",
    "  num_train_epochs=30, # powinno być około 30 \n",
    "  gradient_checkpointing=True,\n",
    "  fp16=True,\n",
    "  save_steps=400,\n",
    "  eval_steps=400,\n",
    "  logging_steps=400,\n",
    "  learning_rate=3e-4,\n",
    "  warmup_steps=500,\n",
    "  save_total_limit=-1,\n",
    ")"
   ]
  },
  {
   "cell_type": "code",
   "execution_count": 36,
   "id": "a3da34147caccf64",
   "metadata": {
    "collapsed": false
   },
   "outputs": [],
   "source": [
    "from transformers import Trainer\n",
    "\n",
    "trainer = Trainer(\n",
    "    model=model,\n",
    "    data_collator=data_collator,\n",
    "    args=training_args,\n",
    "    compute_metrics=compute_metrics,\n",
    "    train_dataset=common_voice_train,\n",
    "    eval_dataset=common_voice_test,\n",
    "    tokenizer=processor.feature_extractor,\n",
    "    resume_from_checkpoint=True\n",
    ")"
   ]
  },
  {
   "cell_type": "code",
   "execution_count": 37,
   "id": "a84d9e9a3e315a92",
   "metadata": {
    "collapsed": false
   },
   "outputs": [
    {
     "name": "stderr",
     "output_type": "stream",
     "text": [
      "/home/mati/repo/ZZSN_projekt/.venv/lib/python3.10/site-packages/transformers/models/wav2vec2/processing_wav2vec2.py:156: UserWarning: `as_target_processor` is deprecated and will be removed in v5 of Transformers. You can process your labels by using the argument `text` of the regular `__call__` method (either in the same call as your audio inputs, or in a separate call.\n",
      "  warnings.warn(\n",
      "/home/mati/repo/ZZSN_projekt/.venv/lib/python3.10/site-packages/torch/utils/checkpoint.py:464: UserWarning: torch.utils.checkpoint: the use_reentrant parameter should be passed explicitly. In version 2.4 we will raise an exception if use_reentrant is not passed. use_reentrant=False is recommended, but if you need to preserve the current default behavior, you can pass use_reentrant=True. Refer to docs for more details on the differences between the two variants.\n",
      "  warnings.warn(\n"
     ]
    },
    {
     "data": {
      "text/html": [
       "\n",
       "    <div>\n",
       "      \n",
       "      <progress value='196' max='19440' style='width:300px; height:20px; vertical-align: middle;'></progress>\n",
       "      [  196/19440 05:19 < 8:48:36, 0.61 it/s, Epoch 0.30/30]\n",
       "    </div>\n",
       "    <table border=\"1\" class=\"dataframe\">\n",
       "  <thead>\n",
       " <tr style=\"text-align: left;\">\n",
       "      <th>Step</th>\n",
       "      <th>Training Loss</th>\n",
       "      <th>Validation Loss</th>\n",
       "    </tr>\n",
       "  </thead>\n",
       "  <tbody>\n",
       "  </tbody>\n",
       "</table><p>"
      ],
      "text/plain": [
       "<IPython.core.display.HTML object>"
      ]
     },
     "metadata": {},
     "output_type": "display_data"
    }
   ],
   "source": [
    "trainer.train()"
   ]
  },
  {
   "cell_type": "code",
   "execution_count": null,
   "id": "d4e41cf2b7818be1",
   "metadata": {
    "collapsed": false,
    "is_executing": true
   },
   "outputs": [],
   "source": [
    "model = Wav2Vec2ForCTC.from_pretrained(\"out\").to(\"cuda\")\n",
    "processor = Wav2Vec2Processor.from_pretrained(\"out\")"
   ]
  },
  {
   "cell_type": "code",
   "execution_count": null,
   "id": "22da2c0e24f93202",
   "metadata": {
    "collapsed": false,
    "is_executing": true
   },
   "outputs": [],
   "source": [
    "input_dict = processor(common_voice_test[0][\"input_values\"], return_tensors=\"pt\", padding=True)\n",
    "\n",
    "logits = model(input_dict.input_values.to(\"cuda\")).logits\n",
    "\n",
    "pred_ids = torch.argmax(logits, dim=-1)[0]"
   ]
  },
  {
   "cell_type": "code",
   "execution_count": null,
   "id": "64104e8f1f2813d9",
   "metadata": {
    "collapsed": false,
    "is_executing": true
   },
   "outputs": [],
   "source": [
    "print(\"Prediction:\")\n",
    "print(processor.decode(pred_ids))"
   ]
  }
 ],
 "metadata": {
  "kernelspec": {
   "display_name": "Python 3",
   "language": "python",
   "name": "python3"
  },
  "language_info": {
   "codemirror_mode": {
    "name": "ipython",
    "version": 3
   },
   "file_extension": ".py",
   "mimetype": "text/x-python",
   "name": "python",
   "nbconvert_exporter": "python",
   "pygments_lexer": "ipython3",
   "version": "3.10.12"
  }
 },
 "nbformat": 4,
 "nbformat_minor": 5
}

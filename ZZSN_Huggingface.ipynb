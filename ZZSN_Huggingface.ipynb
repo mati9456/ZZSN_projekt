{
 "cells": [
  {
   "cell_type": "code",
   "execution_count": null,
   "outputs": [],
   "source": [
    "import torch\n",
    "import torchaudio\n",
    "from transformers import Wav2Vec2Processor, HubertForCTC\n",
    "\n",
    "# Load the pretrained HUBERT model and the corresponding processor\n",
    "processor = Wav2Vec2Processor.from_pretrained(\"facebook/hubert-large-ls960-ft\")\n",
    "model = HubertForCTC.from_pretrained(\"facebook/hubert-large-ls960-ft\")\n",
    "\n",
    "# Function to transcribe audio using the Hubert model\n",
    "def transcribe_audio(file_path):\n",
    "    # Load audio file\n",
    "    waveform, sample_rate = torchaudio.load(file_path)\n",
    "    \n",
    "    # Ensure the audio file is in the correct format\n",
    "    if sample_rate != 16000:\n",
    "        waveform = torchaudio.transforms.Resample(orig_freq=sample_rate, new_freq=16000)(waveform)\n",
    "    \n",
    "    # Ensure the waveform is 1D (single channel)\n",
    "    if waveform.ndim > 1:\n",
    "        waveform = waveform.mean(dim=0)  # Convert to mono by averaging channels\n",
    "\n",
    "    # Preprocess the audio file\n",
    "    inputs = processor(waveform, sampling_rate=16000, return_tensors=\"pt\", padding=True)\n",
    "    \n",
    "    # Perform inference\n",
    "    with torch.no_grad():\n",
    "        logits = model(**inputs).logits\n",
    "    \n",
    "    # Decode the output\n",
    "    predicted_ids = torch.argmax(logits, dim=-1)\n",
    "    transcription = processor.batch_decode(predicted_ids)\n",
    "    \n",
    "    return transcription[0]\n",
    "\n",
    "# Example usage\n",
    "audio_file = \"corpus/clips/common_voice_pl_20547774.mp3\"\n",
    "transcription = transcribe_audio(audio_file)\n",
    "print(\"Transcription:\", transcription)"
   ],
   "metadata": {
    "collapsed": false
   },
   "id": "80d9be3cb1267e63"
  },
  {
   "cell_type": "code",
   "execution_count": null,
   "outputs": [],
   "source": [
    "from datasets import load_dataset\n",
    "\n",
    "cv = load_dataset(\"mozilla-foundation/common_voice_17_0\", \"pl\", split=\"train\")\n",
    "print(cv[0])"
   ],
   "metadata": {
    "collapsed": false
   },
   "id": "1fe9bee89661106a"
  },
  {
   "cell_type": "code",
   "execution_count": null,
   "outputs": [],
   "source": [
    "import IPython\n",
    "\n",
    "sample = cv[1]  # Change index as needed\n",
    "\n",
    "print(f\"Sentence: {sample['sentence']}\")\n",
    "\n",
    "audio_file = sample['path']\n",
    "transcription = transcribe_audio(audio_file)\n",
    "print(\"Transcription:\", transcription)\n",
    "IPython.display.Audio(data=audio_file, rate=16000)"
   ],
   "metadata": {
    "collapsed": false
   },
   "id": "5dbb00745cedc2f0"
  },
  {
   "cell_type": "code",
   "execution_count": null,
   "outputs": [],
   "source": [],
   "metadata": {
    "collapsed": false
   },
   "id": "9c87c5979aaab703"
  }
 ],
 "metadata": {
  "kernelspec": {
   "display_name": "Python 3",
   "language": "python",
   "name": "python3"
  },
  "language_info": {
   "codemirror_mode": {
    "name": "ipython",
    "version": 2
   },
   "file_extension": ".py",
   "mimetype": "text/x-python",
   "name": "python",
   "nbconvert_exporter": "python",
   "pygments_lexer": "ipython2",
   "version": "2.7.6"
  }
 },
 "nbformat": 4,
 "nbformat_minor": 5
}

{
 "cells": [
  {
   "cell_type": "code",
   "execution_count": null,
   "id": "6c6cf0a65b0163f2",
   "metadata": {
    "collapsed": false
   },
   "outputs": [],
   "source": [
    "### pakiety - potrzebne w colabie\n",
    "# !pip install datasets\n",
    "# !pip install torchaudio==0.10.0+cu113 -f https://download.pytorch.org/whl/cu113/torch_stable.html\n",
    "# !pip install jiwer\n",
    "# !pip install transformers[torch]\n",
    "# !pip install accelerate==0.30.0"
   ]
  },
  {
   "cell_type": "code",
   "execution_count": null,
   "id": "8d1fedf2093e64db",
   "metadata": {
    "collapsed": false
   },
   "outputs": [],
   "source": [
    "### login do huggingface - potrzebny w colabie\n",
    "# from huggingface_hub import notebook_login\n",
    "# notebook_login()"
   ]
  },
  {
   "cell_type": "code",
   "execution_count": 2,
   "id": "173462673728906b",
   "metadata": {
    "collapsed": false
   },
   "outputs": [],
   "source": [
    "from datasets import load_dataset, load_metric, Audio\n",
    "\n",
    "common_voice_train = load_dataset(\"mozilla-foundation/common_voice_17_0\", \"pl\", split=\"train\")\n",
    "common_voice_test = load_dataset(\"mozilla-foundation/common_voice_17_0\", \"pl\", split=\"test\")\n",
    "common_voice_eval = load_dataset(\"mozilla-foundation/common_voice_17_0\", \"pl\", split=\"validation\")\n",
    "\n",
    "# ograniczenie wielkości datasetów do testów\n",
    "#common_voice_train = common_voice_train.select(range(1024))\n",
    "#common_voice_test = common_voice_test.select(range(64))"
   ]
  },
  {
   "cell_type": "code",
   "execution_count": 3,
   "id": "5f2ccd639d1d0da3",
   "metadata": {
    "collapsed": false
   },
   "outputs": [],
   "source": [
    "common_voice_train = common_voice_train.remove_columns([\"accent\", \"age\", \"client_id\", \"down_votes\", \"gender\", \"locale\", \"segment\", \"up_votes\"])\n",
    "common_voice_test = common_voice_test.remove_columns([\"accent\", \"age\", \"client_id\", \"down_votes\", \"gender\", \"locale\", \"segment\", \"up_votes\"])\n",
    "common_voice_eval = common_voice_eval.remove_columns([\"accent\", \"age\", \"client_id\", \"down_votes\", \"gender\", \"locale\", \"segment\", \"up_votes\"])"
   ]
  },
  {
   "cell_type": "code",
   "execution_count": 4,
   "id": "7d34718663840dbd",
   "metadata": {
    "collapsed": false
   },
   "outputs": [
    {
     "data": {
      "text/html": [
       "<table border=\"1\" class=\"dataframe\">\n",
       "  <thead>\n",
       "    <tr style=\"text-align: right;\">\n",
       "      <th></th>\n",
       "      <th>sentence</th>\n",
       "      <th>variant</th>\n",
       "    </tr>\n",
       "  </thead>\n",
       "  <tbody>\n",
       "    <tr>\n",
       "      <th>0</th>\n",
       "      <td>Na przykład w Niderlandach świadczą one pewne usługi w zakresie pomocy społecznej</td>\n",
       "      <td></td>\n",
       "    </tr>\n",
       "    <tr>\n",
       "      <th>1</th>\n",
       "      <td>Wszyscy posługują się jednym językiem europejskim, aby rozwiązywać wspólne europejskie problemy</td>\n",
       "      <td></td>\n",
       "    </tr>\n",
       "    <tr>\n",
       "      <th>2</th>\n",
       "      <td>Następnym punktem porządku obrad jest debata w sprawie</td>\n",
       "      <td></td>\n",
       "    </tr>\n",
       "    <tr>\n",
       "      <th>3</th>\n",
       "      <td>Chciałam poruszyć kwestię proceduralną, zanim przejdę do meritum</td>\n",
       "      <td></td>\n",
       "    </tr>\n",
       "    <tr>\n",
       "      <th>4</th>\n",
       "      <td>\"Dlatego nie pisali.\"</td>\n",
       "      <td></td>\n",
       "    </tr>\n",
       "    <tr>\n",
       "      <th>5</th>\n",
       "      <td>\"Liczba też dzieciobójstw i podrzuceń jest olbrzymią.\"</td>\n",
       "      <td></td>\n",
       "    </tr>\n",
       "    <tr>\n",
       "      <th>6</th>\n",
       "      <td>Szczęka owa sprawiała wrażenie okrucieństwa i zawziętości. Czegoś jednak brakowało.</td>\n",
       "      <td></td>\n",
       "    </tr>\n",
       "    <tr>\n",
       "      <th>7</th>\n",
       "      <td>Obejmuje to środki spożywcze importowane z państw trzecich</td>\n",
       "      <td></td>\n",
       "    </tr>\n",
       "    <tr>\n",
       "      <th>8</th>\n",
       "      <td>Jak widzę, jest pan dzisiaj w dobrej formie</td>\n",
       "      <td></td>\n",
       "    </tr>\n",
       "    <tr>\n",
       "      <th>9</th>\n",
       "      <td>Nasze systemy oświatowe są inne</td>\n",
       "      <td></td>\n",
       "    </tr>\n",
       "  </tbody>\n",
       "</table>"
      ],
      "text/plain": [
       "<IPython.core.display.HTML object>"
      ]
     },
     "metadata": {},
     "output_type": "display_data"
    }
   ],
   "source": [
    "from datasets import ClassLabel\n",
    "import random\n",
    "import pandas as pd\n",
    "from IPython.display import display, HTML\n",
    "\n",
    "def show_random_elements(dataset, num_examples=10):\n",
    "    assert num_examples <= len(dataset), \"Can't pick more elements than there are in the dataset.\"\n",
    "    picks = []\n",
    "    for _ in range(num_examples):\n",
    "        pick = random.randint(0, len(dataset)-1)\n",
    "        while pick in picks:\n",
    "            pick = random.randint(0, len(dataset)-1)\n",
    "        picks.append(pick)\n",
    "    \n",
    "    df = pd.DataFrame(dataset[picks])\n",
    "    display(HTML(df.to_html()))\n",
    "\n",
    "show_random_elements(common_voice_train.remove_columns([\"path\", \"audio\"]), num_examples=10)"
   ]
  },
  {
   "cell_type": "code",
   "execution_count": 11,
   "id": "d60b01d5b6dc365a",
   "metadata": {
    "collapsed": false
   },
   "outputs": [],
   "source": [
    "import re\n",
    "chars_to_remove_regex = '[\\,\\?\\.\\!\\-\\;\\:\\\"\\“\\%\\‘\\”\\�\\'\\«\\»\\–\\—\\’\\„\\…]'\n",
    "\n",
    "def remove_special_characters(batch):\n",
    "    batch[\"sentence\"] = re.sub(chars_to_remove_regex, '', batch[\"sentence\"]).lower()\n",
    "    return batch"
   ]
  },
  {
   "cell_type": "code",
   "execution_count": 12,
   "id": "2125955715f30771",
   "metadata": {
    "collapsed": false
   },
   "outputs": [
    {
     "data": {
      "application/vnd.jupyter.widget-view+json": {
       "model_id": "2a274ddd50e84792a1244c43c9e2ee4b",
       "version_major": 2,
       "version_minor": 0
      },
      "text/plain": [
       "Map:   0%|          | 0/20729 [00:00<?, ? examples/s]"
      ]
     },
     "metadata": {},
     "output_type": "display_data"
    },
    {
     "data": {
      "application/vnd.jupyter.widget-view+json": {
       "model_id": "b7d1e0bcaf134473866befea0ba0b144",
       "version_major": 2,
       "version_minor": 0
      },
      "text/plain": [
       "Map:   0%|          | 0/9230 [00:00<?, ? examples/s]"
      ]
     },
     "metadata": {},
     "output_type": "display_data"
    },
    {
     "data": {
      "application/vnd.jupyter.widget-view+json": {
       "model_id": "c719f1da88d944e8af56329cfc06c923",
       "version_major": 2,
       "version_minor": 0
      },
      "text/plain": [
       "Map:   0%|          | 0/9230 [00:00<?, ? examples/s]"
      ]
     },
     "metadata": {},
     "output_type": "display_data"
    },
    {
     "data": {
      "text/html": [
       "<table border=\"1\" class=\"dataframe\">\n",
       "  <thead>\n",
       "    <tr style=\"text-align: right;\">\n",
       "      <th></th>\n",
       "      <th>sentence</th>\n",
       "      <th>variant</th>\n",
       "    </tr>\n",
       "  </thead>\n",
       "  <tbody>\n",
       "    <tr>\n",
       "      <th>0</th>\n",
       "      <td>w koncepcji tej mamy do czynienia z podstawowym nieporozumieniem</td>\n",
       "      <td></td>\n",
       "    </tr>\n",
       "    <tr>\n",
       "      <th>1</th>\n",
       "      <td>nie zrarzaja pana stosy przeszkud</td>\n",
       "      <td></td>\n",
       "    </tr>\n",
       "    <tr>\n",
       "      <th>2</th>\n",
       "      <td>zlorzony pakiet poprawek kompromisowych uzyskal poparcie grupy tylko z jednym wyjatkiem</td>\n",
       "      <td></td>\n",
       "    </tr>\n",
       "    <tr>\n",
       "      <th>3</th>\n",
       "      <td>na tej podstawie morzna zatem wyciagnaci pierwsze wnioski i upublicznici je pod koniec roku</td>\n",
       "      <td></td>\n",
       "    </tr>\n",
       "    <tr>\n",
       "      <th>4</th>\n",
       "      <td>mieszkanicy pulnocy okazali sie dotychczas odporniejsi nirz mieszkanicy poludnia</td>\n",
       "      <td></td>\n",
       "    </tr>\n",
       "    <tr>\n",
       "      <th>5</th>\n",
       "      <td>po pierwsze decyzja zostala podjeta z poszanowaniem kompetencji panistw czlonkowskich w zakresie przydzielania czestotliwosici</td>\n",
       "      <td></td>\n",
       "    </tr>\n",
       "    <tr>\n",
       "      <th>6</th>\n",
       "      <td>na przyklad piata swoboda jest czesicia polityki spolecznej</td>\n",
       "      <td></td>\n",
       "    </tr>\n",
       "    <tr>\n",
       "      <th>7</th>\n",
       "      <td>wezwala ona innych ustawodawcuw aby podarzali za tym przykladem</td>\n",
       "      <td></td>\n",
       "    </tr>\n",
       "    <tr>\n",
       "      <th>8</th>\n",
       "      <td>mam szczesicie rze spotkalem sie tak predko z bratem</td>\n",
       "      <td></td>\n",
       "    </tr>\n",
       "    <tr>\n",
       "      <th>9</th>\n",
       "      <td>nie moge wyjechaci gdyrz calym moim majatkiem jest sklep</td>\n",
       "      <td></td>\n",
       "    </tr>\n",
       "  </tbody>\n",
       "</table>"
      ],
      "text/plain": [
       "<IPython.core.display.HTML object>"
      ]
     },
     "metadata": {},
     "output_type": "display_data"
    }
   ],
   "source": [
    "common_voice_train = common_voice_train.map(remove_special_characters)\n",
    "common_voice_test = common_voice_test.map(remove_special_characters)\n",
    "common_voice_eval = common_voice_eval.map(remove_special_characters)\n",
    "\n",
    "show_random_elements(common_voice_train.remove_columns([\"path\",\"audio\"]))"
   ]
  },
  {
   "cell_type": "code",
   "execution_count": 14,
   "id": "86bc54297453a95e",
   "metadata": {
    "collapsed": false
   },
   "outputs": [
    {
     "data": {
      "application/vnd.jupyter.widget-view+json": {
       "model_id": "7a9c1d80e827422b93ea5e5f5113cb6b",
       "version_major": 2,
       "version_minor": 0
      },
      "text/plain": [
       "Map:   0%|          | 0/20729 [00:00<?, ? examples/s]"
      ]
     },
     "metadata": {},
     "output_type": "display_data"
    },
    {
     "data": {
      "application/vnd.jupyter.widget-view+json": {
       "model_id": "2192ed182f6e4825899e51cac8064833",
       "version_major": 2,
       "version_minor": 0
      },
      "text/plain": [
       "Map:   0%|          | 0/9230 [00:00<?, ? examples/s]"
      ]
     },
     "metadata": {},
     "output_type": "display_data"
    },
    {
     "data": {
      "application/vnd.jupyter.widget-view+json": {
       "model_id": "bd91a9bba64e49228c749f6e1ac1f5a7",
       "version_major": 2,
       "version_minor": 0
      },
      "text/plain": [
       "Map:   0%|          | 0/9230 [00:00<?, ? examples/s]"
      ]
     },
     "metadata": {},
     "output_type": "display_data"
    }
   ],
   "source": [
    "def replace_hatted_characters(batch):\n",
    "    batch[\"sentence\"] = re.sub('[ą]', 'a', batch[\"sentence\"])\n",
    "    batch[\"sentence\"] = re.sub('[ę]', 'e', batch[\"sentence\"])\n",
    "    batch[\"sentence\"] = re.sub('[ó]', 'u', batch[\"sentence\"])\n",
    "    batch[\"sentence\"] = re.sub('[ł]', 'l', batch[\"sentence\"])\n",
    "    batch[\"sentence\"] = re.sub('[ż]', 'rz', batch[\"sentence\"])\n",
    "    batch[\"sentence\"] = re.sub('[ń]', 'ni', batch[\"sentence\"])\n",
    "    batch[\"sentence\"] = re.sub('[ć]', 'ci', batch[\"sentence\"])\n",
    "    batch[\"sentence\"] = re.sub('[ś]', 'si', batch[\"sentence\"])\n",
    "    batch[\"sentence\"] = re.sub('[ź]', 'zi', batch[\"sentence\"])\n",
    "    batch[\"sentence\"] = re.sub('[ü]', 'u', batch[\"sentence\"])\n",
    "    return batch\n",
    "\n",
    "common_voice_train = common_voice_train.map(replace_hatted_characters)\n",
    "common_voice_test = common_voice_test.map(replace_hatted_characters)\n",
    "common_voice_eval = common_voice_eval.map(replace_hatted_characters)"
   ]
  },
  {
   "cell_type": "code",
   "execution_count": 15,
   "id": "712541f9aea8bfe3",
   "metadata": {
    "collapsed": false
   },
   "outputs": [
    {
     "data": {
      "application/vnd.jupyter.widget-view+json": {
       "model_id": "a0619630a22046b589ac9e32f14885e2",
       "version_major": 2,
       "version_minor": 0
      },
      "text/plain": [
       "Map:   0%|          | 0/20729 [00:00<?, ? examples/s]"
      ]
     },
     "metadata": {},
     "output_type": "display_data"
    },
    {
     "data": {
      "application/vnd.jupyter.widget-view+json": {
       "model_id": "c50bf6687d1e4e058840e280a2020347",
       "version_major": 2,
       "version_minor": 0
      },
      "text/plain": [
       "Map:   0%|          | 0/9230 [00:00<?, ? examples/s]"
      ]
     },
     "metadata": {},
     "output_type": "display_data"
    },
    {
     "data": {
      "application/vnd.jupyter.widget-view+json": {
       "model_id": "b41ada044f474711bf1268e3ca84da39",
       "version_major": 2,
       "version_minor": 0
      },
      "text/plain": [
       "Map:   0%|          | 0/9230 [00:00<?, ? examples/s]"
      ]
     },
     "metadata": {},
     "output_type": "display_data"
    }
   ],
   "source": [
    "def extract_all_chars(batch):\n",
    "  all_text = \" \".join(batch[\"sentence\"])\n",
    "  vocab = list(set(all_text))\n",
    "  return {\"vocab\": [vocab], \"all_text\": [all_text]}\n",
    "\n",
    "vocab_train = common_voice_train.map(extract_all_chars, batched=True, batch_size=-1, keep_in_memory=True, remove_columns=common_voice_train.column_names)\n",
    "vocab_test = common_voice_test.map(extract_all_chars, batched=True, batch_size=-1, keep_in_memory=True, remove_columns=common_voice_test.column_names)\n",
    "vocab_eval = common_voice_eval.map(extract_all_chars, batched=True, batch_size=-1, keep_in_memory=True, remove_columns=common_voice_test.column_names)"
   ]
  },
  {
   "cell_type": "code",
   "execution_count": 16,
   "id": "a8c59ef4e11a9df3",
   "metadata": {
    "collapsed": false
   },
   "outputs": [],
   "source": [
    "vocab_list = list(set(vocab_train[\"vocab\"][0]) | set(vocab_test[\"vocab\"][0]))"
   ]
  },
  {
   "cell_type": "code",
   "execution_count": 17,
   "id": "2815c5b4d38fb119",
   "metadata": {
    "collapsed": false
   },
   "outputs": [
    {
     "data": {
      "text/plain": [
       "{' ': 0,\n",
       " 'a': 1,\n",
       " 'b': 2,\n",
       " 'c': 3,\n",
       " 'd': 4,\n",
       " 'e': 5,\n",
       " 'f': 6,\n",
       " 'g': 7,\n",
       " 'h': 8,\n",
       " 'i': 9,\n",
       " 'j': 10,\n",
       " 'k': 11,\n",
       " 'l': 12,\n",
       " 'm': 13,\n",
       " 'n': 14,\n",
       " 'o': 15,\n",
       " 'p': 16,\n",
       " 'q': 17,\n",
       " 'r': 18,\n",
       " 's': 19,\n",
       " 't': 20,\n",
       " 'u': 21,\n",
       " 'v': 22,\n",
       " 'w': 23,\n",
       " 'x': 24,\n",
       " 'y': 25,\n",
       " 'z': 26}"
      ]
     },
     "execution_count": 17,
     "metadata": {},
     "output_type": "execute_result"
    }
   ],
   "source": [
    "vocab_dict = {v: k for k, v in enumerate(sorted(vocab_list))}\n",
    "vocab_dict"
   ]
  },
  {
   "cell_type": "code",
   "execution_count": 18,
   "id": "99d95a63a1a07a13",
   "metadata": {
    "collapsed": false
   },
   "outputs": [],
   "source": [
    "vocab_dict[\"|\"] = vocab_dict[\" \"]\n",
    "del vocab_dict[\" \"]"
   ]
  },
  {
   "cell_type": "code",
   "execution_count": 19,
   "id": "3eef6bb48784d4b4",
   "metadata": {
    "collapsed": false
   },
   "outputs": [
    {
     "data": {
      "text/plain": [
       "29"
      ]
     },
     "execution_count": 19,
     "metadata": {},
     "output_type": "execute_result"
    }
   ],
   "source": [
    "vocab_dict[\"[UNK]\"] = len(vocab_dict)\n",
    "vocab_dict[\"[PAD]\"] = len(vocab_dict)\n",
    "len(vocab_dict)"
   ]
  },
  {
   "cell_type": "code",
   "execution_count": 20,
   "id": "72b1abb9f84e60d5",
   "metadata": {
    "collapsed": false
   },
   "outputs": [],
   "source": [
    "import json\n",
    "with open('vocab.json', 'w') as vocab_file:\n",
    "    json.dump(vocab_dict, vocab_file)"
   ]
  },
  {
   "cell_type": "code",
   "execution_count": 21,
   "id": "1c9976a9fc796161",
   "metadata": {
    "collapsed": false
   },
   "outputs": [],
   "source": [
    "from transformers import Wav2Vec2CTCTokenizer\n",
    "\n",
    "tokenizer = Wav2Vec2CTCTokenizer.from_pretrained(\"./\", unk_token=\"[UNK]\", pad_token=\"[PAD]\", word_delimiter_token=\"|\")"
   ]
  },
  {
   "cell_type": "code",
   "execution_count": 22,
   "id": "5fb66b15fb092fd2",
   "metadata": {
    "collapsed": false
   },
   "outputs": [],
   "source": [
    "from transformers import Wav2Vec2FeatureExtractor\n",
    "\n",
    "feature_extractor = Wav2Vec2FeatureExtractor(feature_size=1, sampling_rate=16000, padding_value=0.0, do_normalize=True, return_attention_mask=True)"
   ]
  },
  {
   "cell_type": "code",
   "execution_count": 23,
   "id": "b44122f42e0a0b3b",
   "metadata": {
    "collapsed": false
   },
   "outputs": [],
   "source": [
    "from transformers import Wav2Vec2Processor\n",
    "\n",
    "processor = Wav2Vec2Processor(feature_extractor=feature_extractor, tokenizer=tokenizer)"
   ]
  },
  {
   "cell_type": "code",
   "execution_count": 24,
   "id": "ef57b6fbbae731d5",
   "metadata": {
    "collapsed": false
   },
   "outputs": [
    {
     "data": {
      "text/plain": [
       "'/home/mati/.cache/huggingface/datasets/downloads/extracted/ce100de2fe6aaf90a46e818cb55859d23995530367b5864185bd5a28ddb13e88/pl_train_0/common_voice_pl_21655246.mp3'"
      ]
     },
     "execution_count": 24,
     "metadata": {},
     "output_type": "execute_result"
    }
   ],
   "source": [
    "common_voice_train[0][\"path\"]"
   ]
  },
  {
   "cell_type": "code",
   "execution_count": 25,
   "id": "4c1f41349a215eed",
   "metadata": {
    "collapsed": false
   },
   "outputs": [
    {
     "data": {
      "text/plain": [
       "{'path': '/home/mati/.cache/huggingface/datasets/downloads/extracted/ce100de2fe6aaf90a46e818cb55859d23995530367b5864185bd5a28ddb13e88/pl_train_0/common_voice_pl_21655246.mp3',\n",
       " 'array': array([ 0.00000000e+00,  0.00000000e+00,  0.00000000e+00, ...,\n",
       "        -2.05379274e-06, -3.55337511e-06, -4.30422733e-06]),\n",
       " 'sampling_rate': 48000}"
      ]
     },
     "execution_count": 25,
     "metadata": {},
     "output_type": "execute_result"
    }
   ],
   "source": [
    "common_voice_train[0][\"audio\"]"
   ]
  },
  {
   "cell_type": "code",
   "execution_count": 27,
   "id": "c2831c2b93b4e12",
   "metadata": {
    "collapsed": false
   },
   "outputs": [],
   "source": [
    "common_voice_train = common_voice_train.cast_column(\"audio\", Audio(sampling_rate=16_000))\n",
    "common_voice_test = common_voice_test.cast_column(\"audio\", Audio(sampling_rate=16_000))\n",
    "common_voice_eval = common_voice_eval.cast_column(\"audio\", Audio(sampling_rate=16_000))"
   ]
  },
  {
   "cell_type": "code",
   "execution_count": 28,
   "id": "c65eee69b23e9725",
   "metadata": {
    "collapsed": false
   },
   "outputs": [
    {
     "data": {
      "text/plain": [
       "{'path': '/home/mati/.cache/huggingface/datasets/downloads/extracted/ce100de2fe6aaf90a46e818cb55859d23995530367b5864185bd5a28ddb13e88/pl_train_0/common_voice_pl_21655246.mp3',\n",
       " 'array': array([-2.96461532e-21,  3.17637355e-21, -2.11758237e-20, ...,\n",
       "         7.11472239e-07, -3.45709395e-07, -2.75473758e-06]),\n",
       " 'sampling_rate': 16000}"
      ]
     },
     "execution_count": 28,
     "metadata": {},
     "output_type": "execute_result"
    }
   ],
   "source": [
    "common_voice_train[0][\"audio\"]"
   ]
  },
  {
   "cell_type": "code",
   "execution_count": 29,
   "id": "8669461d6cc27376",
   "metadata": {
    "collapsed": false
   },
   "outputs": [
    {
     "name": "stdout",
     "output_type": "stream",
     "text": [
      "co z niego za gluptas\n"
     ]
    },
    {
     "data": {
      "text/html": [
       "\n",
       "                <audio  controls=\"controls\" autoplay=\"autoplay\">\n",
       "                    <source src=\"data:audio/wav;base64,UklGRiRcAQBXQVZFZm10IBAAAAABAAEAgD4AAAB9AAACABAAZGF0YQBcAQAAAAAAAAAAAAAAAAAAAAAAAAAAAAAAAAAAAAAAAAAAAAAAAAAAAAAAAAAAAAAAAAAAAAAAAAAAAAAAAAAAAAAAAAAAAAAAAAAAAAAAAAAAAAAAAAAAAAAAAAAAAAAAAAAAAAAAAAAAAAAAAAAAAAAAAAAAAAAAAAAAAAAAAAAAAAAAAAAAAAAAAAAAAAAAAAAAAAAAAAAAAAAAAAAAAAAAAAAAAAAAAAAAAAAAAAAAAAAAAAAAAAAAAAAAAAAAAAAAAAAAAAAAAAAAAAAAAAAAAAAAAAAAAAAAAAAAAAAAAAAAAAAAAAAAAAAAAAAAAAAAAAAAAAAAAAAAAAAAAAAAAAAAAAAAAAAAAAAAAAAAAAAAAAAAAAAAAAAAAAAAAAAAAAAAAAAAAAAAAAAAAAAAAAAAAAAAAAAAAAAAAAAAAAAAAAAAAAAAAAAAAAAAAAAAAAAAAAAAAAAAAAAAAAAAAAAAAAAAAAAAAAAAAAAAAAAAAAAAAAAAAAAAAAAAAAAAAAAAAAAAAAAAAAAAAAAAAAAAAAAAAAAAAAAAAAAAAAAAAAAAAAAAAAAAAAAAAAAAAAAAAAAAAAAAAAAAAAAAAAAAAAAAAAAAAAAAAAAAAAAAAAAAAAAAAAAAAAAAAAAAAAAAAAAAAAAAAAAAAAAAAAAAAAAAAAAAAAAAAAAAAAAAAAAAAAAAAAAAAAAAAAAAAAAAAAAAAAAAAAAAAAAAAAAAAAAAAAAAAAAAAAAAAAAAAAAAAAAAAAAAAAAAAAAAAAAAAAAAAAAAAAAAAAAAAAAAAAAAAAAAAAAAAAAAAAAAAAAAAAAAAAAAAAAAAAAAAAAAAAAAAAAAAAAAAAAAAAAAAAAAAAAAAAAAAAAAAAAAAAAAAAAAAAAAAAAAAAAAAAAAAAAAAAAAAAAAAAAAAAAAAAAAAAAAAAAAAAAAAAAAAAAAAAAAAAAAAAAAAAAAAAAAAAAAAAAAAAAAAAAAAAAAAAAAAAAAAAAAAQAAAAAAAQAAAAAAAgACAAEAAQABAAAAAAACAAIAAQABAAAA/f/9//3//f/7//v//f/9//3//v/+//z//v8AAAAAAgAAAAEAAwADAAQABQAFAAcACAAGAAQABgAFAAEAAAABAP7/AAADAAUAAgD+//v/9f/7//r/9//4//n//v/6//j/9//4//n/9//4//n/+//9/wEA///4//r////6/wAAAAD6/wMABgADAAYAAQAAAAcACQAJAPf/AwD9/wUAAAALAMT/S/9U/0b/Of81/z//Qv83/y3/PP82/y//P/81/zD/Lf8+/0D/Sv9Q/z//Pv8y/zz/Qv84/z//Of86/zz/Pv9A/0L/P/9D/0H/OP86/zz/P/87/0H/Vf9O/0L/VP9S/0z/Rf9V/1L/TP9Z/1f/Vf9H/0n/SP9G/0j/Rv9M/2H/Vf9P/1j/Vf9W/1r/V/9i/2P/V/9c/1n/Tv9c/2P/Sf9f/2z/Z/9q/1P/TP9r/2r/Zv9W/1X/W/9Y/3j/Y/9H/z//ZP9j/0f/QP8r/zT/RP9Y/0n/O/9L/1//a/9O/y3/H/9M/2v/UP9A/zP/QP9R/2H/Iv8G/1T/f/9i/wj//v47/4X/iv82/xv/QP93/2f/Qf8a/xz/gf+N/0T/G/9C/2n/f/9s/wz/Cv8y/2X/ZP8Y/z//fP9+/2D/Of8T/yz/av9l/2r/Vf80/0n/S/9F/0X/Pv84/0P/Vf9P/0P/Tv9m/2n/Vv9H/0L/Pf9M/0z/Xf+A/2//VP9B/zP/Rv9V/1P/Wf9S/0X/Xv9n/1D/Qv9D/1H/Wf9h/2D/U/9D/0T/TP9H/0b/O/9D/1z/ZP9h/1L/Rf9N/1n/Wv9W/0b/Rf9Y/1T/Tv9i/1j/S/9N/z3/S/9U/0v/S/86/zv/VP9X/0r/Sf9Z/1n/Qv88/zf/Pf9R/1f/T/8//1L/Wf9E/zn/I/8l/0n/Zf9k/1T/Uv9F/1z/Y/9F/0T/QP9P/1X/Tv85/zf/W/9l/17/UP9L/zz/R/9k/1X/Uv9c/27/c/9h/1j/Wv9Y/1L/Y/9a/0r/Y/9X/2H/df9d/2X/Zv9W/1P/XP9q/3T/cv9m/2v/bf9k/2b/Zf9c/2f/df9x/2b/af9T/1X/bf9w/3z/cP9y/33/gv9s/1z/af9u/43/jP9+/3r/bv95/3f/Zv9n/4D/f/9y/4D/jf+M/4X/hP+D/27/dv+D/4f/lP+P/47/jP+A/3D/hP9+/4H/i/98/5P/kf99/4j/kv+X/5n/lv+P/4z/jf+S/4n/ef99/5H/jf+R/5//nP+X/4P/g/97/3r/jv+i/5T/jf+b/5r/oP+Y/4j/h/99/4X/jv+P/4j/kv+b/4H/fP9+/4z/jP+H/4z/ff96/4L/iP+D/4n/k/+R/5v/hv9x/3n/fP92/4f/hP9+/4//lf+S/3z/dP+G/4H/gv+U/3//hP+N/3H/bf9o/1b/Y/9z/17/YP+A/3z/c/9r/2H/bf93/3L/bP9f/2T/aP9q/3L/cv98/3n/bP9n/2b/Vf9f/2j/Yv9h/1v/Zv91/3L/bv9y/13/YP9u/2j/a/9j/2b/bP9f/2T/Yv9c/2f/cP9u/2X/WP9X/2T/b/9j/1P/Z/9v/2j/Wf9a/2L/Zf9v/2D/Uf9d/3H/bf9W/1H/W/9l/2D/W/9X/2P/cf9k/1b/Uv9l/2T/X/9R/0z/X/9o/2L/Uv9r/3P/ZP9m/2X/Wv9b/1v/Xv9g/1b/VP9V/1v/Y/9r/2b/XP9h/2f/Z/9j/0//Uv9i/1X/Wf9n/1D/Xf9x/13/Uv9L/1f/Wf9X/1X/T/9Y/1n/UP9N/1f/Z/9i/13/ZP9n/17/av9o/2D/Yv9c/2H/Wv9i/2D/Z/9u/2b/YP9f/2f/Z/9Y/0//RP9J/2T/W/9a/1z/Zf9w/2X/Xf9e/1z/XP9j/2T/ZP9o/2P/Yf9o/2n/bv91/23/cf9w/3L/e/9x/3n/g/+A/4j/iP+K/5b/jf+J/4j/jf+G/4T/iv+K/4z/h/+K/4P/if+J/5D/j/+I/4z/g/+C/4b/kP+N/5D/h/+B/4j/gf+G/47/iv+J/5v/nP+U/5f/l/+d/6T/nv+W/5L/mf+k/5b/kv+c/57/mv+e/6j/o/+l/6D/m/+c/5v/nf+d/53/nP+h/6b/pf+g/6v/qf+i/6z/sf+p/63/tf+2/7L/qP+z/7H/uv+9/6z/rv+5/7//sv+r/6//q/+v/7H/o/+f/6P/rP+s/6v/rf+h/5//pP+q/7X/qP+m/7T/tf+4/7n/wP/D/7j/uf/A/7z/tf+8/8D/wP/C/8D/vP+2/7X/sv+z/7X/vP+4/7b/wv/B/8H/xf/A/8H/vv+1/73/rv+z/7r/tf/A/8D/zf/W/9P/yf/G/8X/zf/N/8r/1v/N/8j/z//O/8j/x//N/9b/1P/E/83/1//X/+H/4v/k/97/0f/O/9H/z//L/9b/4v/n/+j/4P/Z/8//0//N/9H/2//S/+X/4v/a/9v/2f/f/9v/3//c/9f/0//S/9n/1f/P/9H/2P/j/+f/4v/e/9n/3P/g/9r/3P/h/+X/3v/X/9z/1f/L/9H/1f/R/8j/0f/X/9T/4//Z/9n/2v/S/9v/3v/m/93/3P/f/+H/7f/p/+3/2f/Q/9//3P/l/+f/4//v/+v/5//r/+L/8f/k/+H/5P/a/+n/3//i/+L/3f/e/9b/3P/i/+D/4v/i/+v/3P/g/9//4f/y/+z/8P/h/+f/6f/l/+n/9P8AAPf/9f/1/+v/7v/j/+X/9v/4//7/+//7//v/9f/o//H/8v/v//T/8//x//L/+v/v/+z/6v/x//D/6P/v/+z/4//o//P/8v/p/+b/8P/l/+L/4f/X/+D/5P/n/+L/3v/n/+n/3P/a/9v/1v/d/9r/0//W/9H/xv/K/8r/0v/R/83/zv/C/7r/vv/Q/8r/vf/C/8P/uv+3/7b/tP+t/6f/rv+y/7X/sP+w/7P/qv+u/6X/pv+o/6n/r/+c/57/n/+f/6D/o/+n/5v/kv+b/5n/lf+U/5T/mv+c/5X/h/+R/43/kv+M/4z/jv+E/4b/f/+D/3r/fP90/3j/gP92/27/cP9q/3H/eP9x/4D/b/9e/1z/Wf9Y/1r/Wv9Y/1P/V/9Y/0z/Vv9Z/1P/Uf9P/0//Qv9L/1n/T/9L/1T/TP9R/1b/Vv9V/0z/S/89/0v/SP9A/0v/Sv9I/0n/SP9O/0r/Sf9Y/07/S/9I/0n/RP9D/0n/Qf9E/0P/TP9K/0n/TP9E/03/Qf9L/1n/T/9W/0n/Pv9R/1n/T/9U/1L/SP9R/1H/VP9W/1n/Xv9U/1n/X/9U/0//Vv9Y/03/Rf9a/1z/Wv9p/1T/VP9c/1f/aP9r/2r/av9i/23/Y/9e/3H/av9v/2//aP9s/27/d/90/2H/a/90/3L/cv91/3z/bf90/4H/h/+I/4j/i/+O/4H/if+R/47/mf+T/5j/lv+c/6X/n/+k/6b/nv+r/6D/pP+q/6P/s/+1/7P/s/+z/7T/uf+4/8L/tP+v/7j/t//B/8f/wv/F/8r/yf/U/83/1//X/9n/1v/J/9X/2f/s/+b/4f/u/+T/6v/x/+r/7//o/+b/7//t//L/8v/2//7/9P/7/wIAAAAAAAkADAAEAA0AEgAXABIAEwAHAAsAFgAbACIAFgAVABIAHAAfAB8AIAAcABsAIwAoACkANQA6ADoAQAA6AD8ANwA3AE0APgBEAEwAOgBDAEoAUQBWAFEAWABPAEwAYwBaAE8ATQBNAFkAUwBZAFQAVABZAFsAWwBQAFkAYABiAGoAZgBoAGMAWwBgAF4AYQBbAFMAXQBnAGgAXQBlAGIAVwBiAGAAWQBRAFgAVwBVAFUASQBOAE4AUgBXAFMAWABQAEsAVwBHAFAAVQBVAF0ARgBOAEsARgBRAEcARQBKAEgATgBJAD0AQAA8AD8AQAA/ADcANAA9ADsAQABAAEUAOgA8ADwAMQA1ADIARQA1AC4ALwAcACQAGQAeABoAHAAoACEAHQAoACMAJgAiABoAIQAWACQAHAAVABAADQASAAMAEAAIAPr/AgD5/wAAAADx//P/8//0//X/6//q/+n/5f/p/+v/4//a/9b/2//j/9z/3//c/9X/4f/T/8X/xf/B/7//xv/C/8X/yv/A/8v/wP+9/8D/uv++/8P/wf/A/7//v/+8/7n/vv+6/7z/s/+x/6z/sv+x/7P/uv+p/6v/ov+V/6P/ov+g/53/pP+l/5j/nP+Q/5T/nf+e/5T/i/+J/5n/mf+X/5P/i/+X/5P/m/+S/4z/i/+H/4r/gP9+/4D/iP+Q/47/gf99/4X/if+G/37/ef+A/4L/hf+I/4f/j/+S/5T/jP+I/5f/jf+L/4z/iP+J/4P/if+C/4b/gv94/3//gP+I/5H/lv+N/5P/g/+I/5P/kf+U/4L/j/+K/4P/kP+K/5r/ov+Q/43/kP+O/5T/qv+Y/5n/ov+r/7P/if9//5b/uv++/7T/uf+0/6b/m/+R/7f/5P/O/57/nP+h/63/wP+7/7X/wP/H/8H/z/+0/7X/yv/e/8b/uP/P/8j/1P/W/8P/uP/I/+7/4P/K/9r/tv+x/9L/4P/Z/97/z//I/7j/o//S/+D/5f/w/97/4//L/8P/3P/v/wUA8P/k/+H/4v/O/93/8v/u/+7/5//+//P/8v/o/+D/6f/4/+3/8f8CAPH////9/wIABQACAPj/7/8jAAgAwv/Y//f/DQD///D/1v/Z//X/+P8HAPn/4//r/wUA9v/g/+j/9P8BABQA+P/Y/9X/9//8/wAA/f/t//f/5P/7/woAFAAKAPP/5v/6//v/9v8EAPn//P8XABEA6v/X//7/EwDx/wEA+v/l//H/BwDt/93/5//W/+j/8f/t/+b/7f8LAOL/mf/S/xIA/P/9/+7/3P/3/9n/5//3/wAA5v8iALv/Nv+GAGAAmf/9//H/sf8CAAsA4v/9/83/9//2/+H/7f/W/+f/3//W/9H/3f/e/+b/0v/J//3/y/+z/63/4f/h/9L/2f+Y/8T/x//u/9P/sv/R/9z/2//B/6//u//i/9j/1//J/9P/wv/G/73/rv/K/8H/xv/R/8X/uP+x/7v/zP+z/8T/zv+6/8D/vv+v/8L/y/+0/8b/2/+7/7T/r/+m/7n/r/+2/7X/xP/C/6z/mf+q/6L/mf+t/6b/tP+u/6//pP+W/5L/t/++/6f/rP+Y/67/vf+4/7L/pf+4/77/sP+b/63/pP+6/8H/t/+8/7D/0P/Q/8n/tv+8/7P/vv+3/8H/yP+8/8j/vf+7/77/sv+i/7b/of+s/6n/rP+5/8T/t/+9/7z/tf/G/7X/yv/G/8D/sv/I/8X/wP/L/8L/xv/H/8v/uf+x/7T/vv+x/7D/uf+j/73/yP+5/97/uP+s/9D/vf/L/87/wv/I/8H/sP+//8X/ov/B/7n/wf/U/6//0P/B/8//5f/O/9X/wf/G/93/2//Z/9v/yf/Q/9X/2f/q/9P/4f/r/+T/2f/i/+//2//6/+r/y//k/+T/7v8JAPH/3//W/9n/6f/3/+P/s//Y//3/7P/W/9n/AADz/93/9f/r/+7/8v/r/+n/0//O/97/6//3/9z/6f/Y/+P/7v/g//f/5P/s/9f/2v/j/wgA7//P//r/AQDs//b/AgDn/+j////5/9n/HQAAALn/y/8gAAQA1P/3/wMA/v/V//b/AADj/8P/8v/1//X/+P+2/+z/GQD7/zYA4v7M/2oBav9f/1kA+f/g/woAvP8fAOf/rP80AAMA6P/u/wQA+//z//7/+P/P/93/HgDW/+j/8//E/+b/5f/z/9f/9P+y//P/EwDN//7/1f/G/+n/KAD7/8D/1f/z//z/3P/K/+L/5P/5//P/zP/D/9b////l/9v/3P/8/+//u//T/wsADwDB/+T/+//j/wUA7f/Z/+r/7f/4//b/0//X/wAA4P/b/+j/1P/h/+D/7//p/8z/4P/1/9z/0f/0/+b/zf/y/wUA9f/T/9//DQACAMv/4/8MAOr/zP/M//z/6P/O//P/3v/I/8v/9v8CAMr/0//h/9b/yf/M/wYA9v/J/9P/2f/1/+//3f/q/+r/AgDp/+T//f/5////8v/0/wMA8f/0/w4AAwAKAO3/AAARAP//CAD3/xMAAgD8/wcABAAcABAAAgAQAAgADwAkABEAAgAGABcACQABACAAGgATAAoABwAkAA4AEwAwACEADwA3AB4ACgA6ACgAJQAmACEAJwAuAB8AJQANAAwAKwAfABQAJAAmACQAIwAYADEAJwAoACkAKQAnABkAGAAvADkANQA2ACsAGgA3AC8AKQBHACQAHAAdADsATwAoAAkAKgA+ADEALgAcACwAQAAsADEAMwAeAC8APQAuAC8APQAvADoAOQAbACwAOQAtAEIALQAlADQANQA/ACkAPgBCADwALgA8AFkAKwBBAFMALwA5AEIAOgA6ACgAQgBSADIAOAA4ADYAQQA1ADkAPgAzAEIAKgAsADcANQA8ACcANAAzADcANAA+AEIAHQAtAD4AOgA6AC4AOAAzADgARwAsADEAPgAsACcANQA4ACIAMgAvACEANgAgACUAMwAoACcAHwAeACMAKgAiABQAKAAoABcAIgAfABQAGAAaABkACAADABYAEAAPABYAAAAJABkACgAOAAIABgACAAkABwADAPr/6v8MAP3/7f/r//n/9//x//b/4v/d/+z/3P/e/wAA/P/Y/9//6//r//b/0f/l//j/7//+/+7/3f/q/+z/7P/j/9n/5f/h/+7/5v/Z/8r/wf/f/9X/zf/T/9H/3P/V/8n/yv/W/9L/1f/W/9b/z//c/9H/x//Q/8v/zv+7/7L/yP/R/7z/xP/A/8b/x//K/8L/u//D/8L/0v/A/8H/xv/C/8P/v/++/8v/xP/L/9f/wf+//7f/tv+4/7n/xf/G/7j/rP+z/7f/wf/J/8P/t/+4/8r/yf/S/73/xv/z/9z/xv+6/8j/1v/R/9X/zP/Q/8z/z//M/7z/yP/L/9H/2v/Q/9D/xP/J/9T/4f/u/97/0f/A/9j/3v/Y/97/3f/N/9b/8//T/8P/3f/h/+7/3/+3/8T/4v/7/9z/y//f/97/4P/Q/8f/z//Q/+7/AwAPABQAAADs/97/1f/j//X//v8DAAIACAD0/+3/6v/+//3/8P/5/9//6f8FAAkAAAD7//T/9f/8//X/7P/2//P/7v/3//L/7f/0//3/AgD1/+D/7f/t/9//4//k/+n/+f/r/+D/4//l/9H/yv/c/9v/4P/o//T/8P/n/+n/5f/e/+X/9f/4//H/5v/j/+3/6v/b/93/5f/p/+H/3v/W/9b/7f/q/8v/0f/b/+b/4f/K/8r/zP/Y//L////g/9X/1//K/8j/yv/E/9f/6f/l/+L/1v/J/9r/3P/I/9z/4v/k/+D/3P/m/+v/2//c/+f/0f/U/9j/zP/T/9n/3P/j/+D/4P/c/83/y//O/9v/4v/Z/9D/zf/Y/9X/2v/V/8//3//Z/8L/zf/J/73/5P/h/9f/zf/Y/9n/0P/Y/77/2//d/9n/0/+9/8D/xv/c/8//uv/L/83/0f/B/6//zP/J/9H/2//L/8f/vP/D/8v/0P/R/7z/uv/C/8j/v/+z/8L/vf+o/8P/wP+5/7//nf+c/7f/xf/F/9D/uv+q/7D/tP+5/8H/tf+2/8f/w//F/6j/of+n/7n/x/+7/7P/sv/F/8//yP+4/7z/zv/T/8j/u/+//8f/1//U/8f/yv/i/wMA4v+r/6X/1v/Y/8r/wv+4/9j//P/y/8D/zP/x/9n/v//I/8//2//m//H/8//9/+//4P/R/7f/vP+6/83/6f/t/wEABADw/+H/4//V/9f//v/g/8//2P/Y/+H/2P/k//r//v8DAAsABQD4/+f/4f/j/+T/+P8IAAsADwASAAYA9/8AAPD/5f/v//P/BwAOABUAJQAZABIABQABABQACwARABYAGQAqACcAJAAXABYAFgALAB0AGQAZAB0AIQAtAB4AKQAuADcAMgAmAC0AMgA2ADsALAAaACYAPwA/ADEAKgAhADMANAA2AD0ANQBFAFQAQAAxADUAQwBAAEsASwBRAFoAVwBeAFMAUgBYAFcAZgBuAF4AYQBdAFcASQBDAEoAWQBlAF8AUwBPAFgAVwBSAFIAYQBuAGMAWQBnAHIAbQBpAGsAaABjAGMAXgBVAGAAXgBkAGkAXwBVAFsAVwBWAGYAYABiAGsAXwBWAFkAYgBiAFkAUQBLAFMASgBJAFwAcABYAFgAbABiAFQAUABOAEkATgBlAFEAUgBpAGIATABPAGEAUQBcAFkAaABaAFoAZQBpAF0AWQBcAFIAUwBKAEcAQABMAFAATwBDAEoATAA+AEEAQQBCAEEAOgA3AD0APgA4ADkALwA3ADwAMQAxAB8AIQAvACMAFwAsADQAMQA5ACQAJgAxACkAJQAdACIAKAAoACkAJwAnACgAFQAOAC4AMQAsACUAFQAfADIAHQAHAAMAAwARAAoACwAPABoAIAAPAP//CgAEAPz//P/5//P/9v8CAPD////9//X/+P////f/2f/Y/+L/4P/c/+D/5//b/+T/6v/a/9z/2f/j/9r/0f/O/9//4P/Q/83/1//J/8L/w//J/8//wP/N/7z/yP/Y/9v/wv/F/9L/xf+//73/2//T/8v/yf/O/8n/yf/L/7j/xP/O/7r/vP/J/7r/xf/M/7n/uv+//8D/u/+4/73/vP+6/7X/sf/D/8r/wf/F/8T/sP/B/83/vv+4/7f/xP+//83/xP+0/7v/uP+2/7b/vv/B/7P/sP+1/7b/vv+4/67/rP+y/6T/tf+7/6X/sf++/6r/rP/A/77/u/+2/7H/s//C/7L/wf+//77/vP+u/7v/tP/H/7n/pv/B/7r/rv/M/8D/rP+9/8r/wf+1/8H/uf+m/7H/r/+0/7//tv+t/6P/sf+1/7D/rv+m/6v/sv+1/63/tP+w/7D/q/+e/6r/sv+//7X/uv+6/7n/uP+//8H/xf/N/8T/x//H/8j/yf/O/87/zP/O/8X/n//h//z/xv++/8n/vf+4//b/+v/K/8v/2//M/+j/6f/Y/83/yv/S//D/9P/G/8z/8f/h/9L/7P/K/83/zP/S/9//w/+y/6n/xf/W/9D/uf+l/7L/4v/h/73/w/+7/8T/yP/A/7r/r/++/73/wv/X/83/v/+9/9X/5f/a/83/zv/f/+D/5P/V/8//1//b/9v/zf/Q/9b/1f/J/9f/8f/p/9r/2//q/+D/5P/n/97/3//T/9j/2//k/83/wP/c/8X/xv/i/9f/zv/L/9n/1v/j/+T/wP/P/9b/yf/a/93/zv/R/9r/4//X/9D/1P/h/+X/2//g//L/4v/i//v/7f/o/+z/7f/z//T/5f/l/+v/+P/u/+r/AgD1//T//v/w//H/+f8BAAUA8P/+/wkA7v/9/woA7f/j//f/+f/j//f/CAD7//D/CwAFAPD/+v/3/+3/7P8AAPD/AAAWAAUABQAWAAwABAAWABYACgAIABQAAgD0//v/GgALAO3/EwAVAAAALwAxAPf/EgAOAPr/DAAXAAUAFAAZAAAAFQAYABIAAwALAA0AGQAEAP3/DgAQABIAEAAbAAEAAAApABAAFwApAAcAEgAfACcAGQAnAB0ADwAVACAAIAAjADkAGgAdACoAMgAzADAANgAvACgAQAA5ABcANwBGACwANQA/AD0ANQAxAEgANgAvAEIAPAA9AD4APgA3AE0ATQBNAEcALgBMAFIARABaAFoAUABTAGMAdQBMAEsAbQBUAEAAUQBRAEYARgBLAD8AOwBgAFgAXABaAFIAWgBNAE4ATABLAEUAPwBIAE8AOgBXAFUAQQBMAEoATQBBAEkAVwA+AEkAVQA6AEkASwBLAEkAPwBBAEAANwA9ADQAOgBBADkAQQA+AEwAQQA/AFEAWQBEADcAPwA+AEkAUwBAADUATgA9AEIASwA/ADoALABEAEYANABEAEEAJgAxAC4AIQAeACYAKQAbAB0AJQAiABAAFwAkAO//DQBHAPf/FwBAAO3/EAA5AAIAIwAoAAoALgAlABcAJgAdAAoAGwAfABAAFAAVAA0AEQAhABIADwATABAAAAD//wsAAgAFAAUADQAPAP3//P/+//f/8f/4////+v/9/wMA+//3/wAA8v/r/+b/9f/3/+P/+//2/+L/7P/0/+3/5f/z/+n/1f/p/+v/2//g/+T/3v/i/93/2f/j/+v/2P/P/9H/yf/Y/9r/0//T/8j/0P/Q/8f/1v/U/9T/2v/J/8j/0P/I/8r/1v/N/8//0f/F/8r/wf/E/8v/wf/K/9T/wf+//8f/yP/N/73/uf/H/7v/xP/K/7j/uf++/77/vv+7/7//yP+4/7X/wP+//8n/zf/D/8T/y//O/9n/yP+z/9L/y/+//9X/xP/C/8j/sf+8/8j/xv/P/8X/wf/H/7j/r/++/7z/tP/B/77/yP/V/8D/wP/N/8n/vP/E/8T/wP/F/83/zP/N/9T/z//N/8f/1f/N/77/0v/T/9n/0//W/9X/zv/Y/93/7P/i/+j/6P/h/+v/6P/s//D/6//u//z/8v/l/+v/7P/t/+b/7f/e/+f/7v/l//3/+P/4//f/9P/v/+z/7P/4/wcA9//1/////v/6//L/8v/6///////6/+X/9v///+X//f8PABIAEAAGAAYAEwAKAAgADgABAAkABgAFABcAEAAKABkAJAAoAC4AHwAdABsAGwAqAB0AHAAcAB0AFwAnADEAMgA1ACsALQAkACQAGwAXAB8AHQAWABcAIwAdACUAKwAoADQAKAArACcAIAAtACoAJgAvAEIANQAyADYANABDAEsAQABAADwALgAzACMAKQAqAB4ALgAwADAANQAmACUAJwAeACoAKgAuADQANAAnACoAOAAuAC4AKAAnADIAKgAmADUAKwAeACMAJQAhACQAIgAfACIAHAAbACoAHAAhACMADAAeABkAGwAhABgADwAVABAACwAYAAoACAAaABYAFwAiABUADgAMAA4AEgAMAAAAAwAUAA0ACQAUAAMADQANAP7/BQAPAAgA9f/0//j/9f/3//b/+P/9/+v/8v/4//L//P/1//L/AAAAAPT/8P/w//D/8v/z/+//8//u/+7/6f/g//H/4P/c/+L/1v/g/9r/2v/h/97/4f/W/+H/6f/f/9f/4f/j/9b/5//h/9r/2//g/9r/0P/Q/8//yf/F/8n/0v/O/8n/2v/R/9r/3P/Y/9j/0//b/9n/2v/k/9z/5//m/9z/6f/d/97/5//o/9v/1//O/9L/5f/Y/9r/6v/h/+f/8f/u//b/6v/m/+n/7P/i/9//4//i/+f/1v/j/+X/2v/m/+r/5P/g/+L/3P/Y/9z/1v/d/9n/0v/l/9z/5P/u/+7/5f/X/9j/3f/V/9H/2v/b/+T/5v/x/+X/7//s/9//4P/i/+b/1//X/9j/1v/W/93/4f/m/+v/8//v//D/6//r/+b/7P/k/+f/8//j//T/9P/p//P/8f/s//f/7f/v//X/8f/4//b/8f/u//7/AgD8/wAABAD7//r/BQACAAUAAAAEABcADwABAAoADAAOAAcA//8BAAcADgAWABYACgAPAAwAEwAVABoAHQAXABkAIAAXACEALAArADYAHgAjACEAFQAYABUAFwAWABUAEQAUABMADwASABwAJAAfAB8AHgAqAC4AIQAfABsAFgAdAB8AIAAnAB4AIwAtAB8AHAAfAB4AFgAfAC8AIgAoACIAFQAWAB4AJAAeACcAIgAjACUAIQAnACIAHAAjADMALQAqADgAOAA4ADYANgA1ADAALgAoACgAJgAmACYAJAAlAC4AKAAoADMAMgA0AC0AMAA+AEYANQA2AD8AOwAyAC8AKAAlADAAIQAhACwALQAiABkAHAAgACQAIwAoACYAHgAlACcAHwAhACUAIQAnACwANAAvACwAOAAxACgAIgAoAC0AKgA1ACoAKAAxAC0ANAAoACwAOAAzAC0AMQA+ADIAOQBKADkANwA7ADsAOQAtAD4ARQA0AD0ANwA0AC8ALwAzACYALQAtACkAMwA5ADkASQAzAC8ANQAoACsALwA0ADEAOwA1ADoAMQA3AEEAKABLAD4APAA5ADcATQAkADcAMAA4ADcAMQBAAEEAPQAzAEQAPgBBADoANgA4AEYAMQA0ADAALwA8ACYAKAAlADwALgA1ADUAMQAwADYAQAAsADYAMAA+ADoALQBDADYAKwA1AC4AMAAgADEALAAnACkAIQAsACkANQA0ADEAKAArACsAMAApACQAJgAkACkAIQAmACcAJwApACAAJQAkAB8AIAAcACoALQAwAC8ANAA0ADQAPQA6ADYANgA5ADAAOQBCADwAPgA5AC4AKAAzADgAIQAzAC0AJgApAC0AKwAqADQAKwAzAC8ALwAnADUAIgAiACUAIgArACcAMQAqADsALgAtACYAJQAiACAAIwArACkAHwAoACcAKwAzAD0AMQAzADQAMQAnACkAJwAtACoAJAA0ADsALQAbAC4AKAAhACcAIgAZABcAHgAgAB0AHwAlABkAGQAWAB4AHQAXABwAEQAQABcAGAAEAAQACQAJAAkA+v8DAP//9v/9//v/7//n/+v/4f/s/+z/7//w/+v/8v/m/+r/4//x//X/8P/+/+7/5P/t//b/8f/q//r/9//w/+f/5//l/9//5f/l/+b/4v/l/8//1//a/9P/2P/T/9T/1P/S/9n/1v/Z/9n/1//X/8//0//L/8j/yf/F/8f/0v/E/8T/zP/S/9L/1//H/8L/0f/O/9f/0v/O/8//0f/L/9b/xv+2/8H/wf/M/8j/vv/B/8P/0P/F/8D/w/+5/7f/uv+8/7b/t/+w/7v/tf+y/77/vP+5/7b/s/+w/6v/pv+m/6//uf+y/7L/s/+z/63/p/+s/63/q/+w/7P/nv+g/6T/of+k/5z/oP+f/5n/nf+m/6v/qP+v/7X/vP+0/7b/tf+2/8H/uf/E/8n/yP+6/7b/v/+9/7T/wv/F/7j/wP++/7P/sP+3/7j/uv+6/7P/rv+w/7D/s/+//7n/tv+7/7T/r//A/8T/uP/F/7//v//I/7r/v//D/8P/wv/F/8H/w//D/77/xv/W/9P/yf/N/8L/0P/Q/83/z//N/8v/0v/P/8j/0P/I/9P/0//V/83/xP/F/8P/z/+8/8f/y/+7/9H/w//D/8n/0P/J/9D/yv/J/9P/0f/U/8v/3P/P/9L/3v/h/+b/5P/s/97/3f/g/9T/4P/Y/9//3P/f/+f/3v/f/+T/5//d/+X/6P/k/+j/8v/q/+z/6P/m/+P/4f/n/+z/7f/p/+z/9f/z/+3/8f/s/+7/8v/w//L/+//2//v/9P/z//f/+/8JAA4ACQAJABIAEwAVABQAFgAeABoAGQAkACcAIAAOABsAHwAfACUAGwAbAB0AGQAZABQAFgAXABQAHQAXAB0AGAAfABUAEAAnABAAGQAjABIAJwAcAA4AGwAbACIAEAASABUACAAQAAwACAAWAAwAFgAhABMAGAAVAB8AIAAXACMAFwAUAB8AFQAdABUAGgAeABcAHQAdABoAGAAeABIAFAAXACUAIwAbAB8AGwAuACIAHgAjABgAIgAhAB0AGwAmACMAHAAoABwAKgAcAB4ALgAcACIALAAbAB0AKAAiAC0AIgAeACIAIgAfACYAKQAZABsAGwAYACYAHQAbACcAKAAiACkAKAAjACUAIQAyAB8AJAAlACAAIQAcACgAHwA1ADgAHQAwACcAIQAzACEAIwAhACYAKAApAC8AKwAlACgAJgAiACAAIgAhABwAJgAiACMAJQAiABgAHgAdABgAFAAeABkADwAZABUAFwAlABsAEgAgABEADwAMABIAEQAOABkAGAAbABsAGQAgABYALwAsABgAOAAhACkAOQAlADcAOQApADoALgAqADIAKQAwAEQANgAyADcAKgA3ADIAKgArADMAMAAuADUANQAuAC4ANAA7ADEAMwA5AC8AOgBDADwAQABEADoAOwA7ADsAOABIAEAAOABIAD8AOgA7ADcAQgA5ADAAQQAsACwAOwAyAD0ASwA7AD8ASQBBADsAPwBDAEEAOwA8AD0AOQA7AEwASgA6AE4AQQBDAEsAOQBBAEIAPgBAAEUAQwBGAEoARwBLAFAASQA9AE0AQAA8AEUAMABDAD0ANQBIADkANwA6ADMANwAvADUAPQA5AEAARwBDAD0ANAA1ADIALQA7ADEAMwAqACkAMgAsADMALAA8ADIAJwAxAC8AOwA8ADEAKwAtACcALwAmABkAIAAZACcAMQAeACkAIQAfACQAEAAkABQAEAAaABUAJwAXABoAJwAbABsAFQANAA0ACwANAAsAAAAAAAwABAACAP7/6f/t/+//6P/0//H/6P/v/+f/6f/5//f/9f/u/+7/+P/o/+L/6f/W/9z/5P/f/+z/6//2//r/6//z/+n/5f/u/+T/6P/n/+X/3v/t//b/5f/x/+z/1//Y/9z/1f/S/8f/zf/P/8j/1v/R/87/xv/H/8n/uP+7/8L/vf+//8X/yP/I/73/xv/G/7//uv+2/7L/sf+t/6f/sf+x/7P/uv/K/77/uv+t/6f/uv+r/6T/pf+i/57/m/+f/6b/p/+m/5v/lf+Z/5n/oP+f/6L/n/+W/5r/ov+c/5v/m/+g/6X/n/+X/5D/nf+T/5b/ov+U/57/oP+c/6X/pv+k/7H/ov+g/6T/nP+n/6D/lf+X/6X/l/+d/5z/lv+J/4j/mP+Q/57/oP+g/5v/mP+V/5j/n/+R/5T/lv+N/5L/jP+L/43/lv+c/5//of+a/6f/pf+Y/6T/pf+Y/5//nf+c/5z/lf+S/5//p/+l/57/m/+r/6L/rf+z/7L/r/+i/67/tP+9/77/vP/C/7//tv+0/73/uf++/8D/vv/E/8L/xv/I/83/0v/R/83/0P/C/8T/xf/L/8f/y//L/77/uf+2/8T/xf/P/8r/0v/C/8H/xv/R/8//w//N/8T/yf/F/8v/wP/P/87/v//S/8v/xv+8/8X/v/+9/8n/0v/V/8//3P/b/9z/0P/O/9L/0v/N/9n/3f/Z/+D/1//p/+D/5P/m/+f/2//S/9//0//Y/9f/4//X/9b/2P/g/+v/3f/f/+X/4f/m/+P/7v/u/97/7f/p//H/7P/o/+v/6//r//D/8v/q/+3/7P/w//z/9//5//3/9//w//f//f/y//j/7v/p/+n/6v/r/+P/5f/o/+X/3P/X/+P/4//a/+b/4//k/+f/7f/h/9f/3//e/+n/5v/r/+P/4P/w/+7/9P/8//v/+f/6//j/9v/z//3/CgAEAP3//P8SABUABAACAA4ADwD//wkACQACAAAAAQABAP7/AAD8/wMACwADAP//CgAHAAAACQAMABQAFQALABIADwASABgADwANAAEADwANAAIADQAIABMABwAAAA0ACQAAAAAACQACAPb/+v8HAAAA+v8QABMABQAFAAgACAAPABAAAwAOAA0ABQAKABIAEgAHABcAKQAaABMAFQAXABIADQAQAA4AGQAOABMAFgALABIAFAATAAoAEQAWAB0AGAAUACMAGQAJABEAGwAgABkAFwAgABkAGQAaABMAHAAdABEAGgAVABEAHwAYABIAHwAiABsAHgAcABoAHQARABAAIAAZAA4AFwAeABwADQAOABMAFAAbAB0AGQASAAwAEQAWABAAEAASABQADQARAA4ACgAOAAMAEQAaABEAFgAXAA8AFwAgABsAIwAhAB0AKAAtACYAIQAvACgAKgAwAC8AJAAXABoAHwArACEAJgAeACoAOAAtACgAKgAmAB8AKwArACsALgAwADQALwAkADAAMAAyADEAKAAkAB4AJQAfACMALAAmACcAHQAdACcAJwAkACUANAAoACYALAA0ACYAFgAlACkAHwAfAB8AHAAYABMAGgATABYAGAAQABMAIQAbABQAGQAYABEAGwAdABgAIQAbACQAIgAgAB0AKQAqABwAHgAaAB0AGAAgACkAHAAaABYAFgAeACEAHQAcACQAIQAjACUAJgAdABwAHwAgABQAHgAYABIAEAAHABMABQAKAAkACgAKABMABwALAA8AAQANABAABAD6/wgA/v8BAAIA8f/4/wQAAwDv//P/AAD1/wQACwADAAcA+v/2////AQACAP7/8P/1//7/AgAAAAwAGQANAAoABwADAAAA/P8AAP7/AAD+/+7/7//0//b/8v/1//D/5f/z//v/+v/6/wQACADu/wIAAwD6/wYA+/8CAAYA9P/t/+7/8P/+//7//v/x//z/9f/o//7/AwAAAPv/AwAAAO//BAAJAPL/BAD7/wMA+P/1/wQA+v/x/+P/9//6//7/8////+b/3//6/+T/7P/9//H/1//p/+f/3f/s/+j/3f/h/9//6P/w/+b/7f/v/+D/z//x/+//7f/j/+T/8//W/+f/5P/l/9//4v/Z/9z/7P/h//H/9v/3/+v/8P/d/+v/AwDm//D//f/j//7//v/x//T/x//r////4f/1/wcAz//S/+D/zv/1/93/6P/5/+7/3//z/+j/1v8CAO//9P/v/wIAAQDb/w0A/f/R/wIA/f/y/wMA9//2/+j/9P/1//7/8f/Y//n/9//U//3/CwDK/+3/+v/Y//3/9f/N/+T/6f/3//f/0//x//T/x//v/w0ABgADAOD/AQAPAAIAAQD//wcA/P/q//P/9v/k//T//f/d/8f/7/8TABYA6v8hANn/tv+f/wsA0gG7AGUAzwCn//X/0P/G/xwA9P/J/wgA7v+h////v/+a/9n/wf/V/w0Atv/2/wEAov8fABsABAAOABIA9/8RAPb/qP/+/+7/CQD9/9f/AgDy/9b/0f/e//H//P8NABYAKQA6AO3/AAAOAO7/AwD2/wcA//8CAAkA0P/g/9r/5P8PAML/+v8XAL//zv/r//n/2v/d//3/4v/3/8f/4f/8/6X/AADM/8f/CAC3/97/AADy/w0A9//u/xsA1P/R/0IA5//j//H/qv8hANf/3f8aAMr/7f+//87//v/M/8L/vf/f/87/2f/s/8D/AACT/wAAAABc/3YAjf9t/xoAN//p/8X/jv8jAOT/qv/H/9H/kf/O/6v/wP8YAI3//v8FAIv/z/+6/9D/+//K/8j/+v+1/6z/EgDY/2v/IACK/2T/PAB0/7j/FwCV/4v/2v+Q//X//f+f//T/gf+w/+//yf/P//r/k//S//H/Qv/u/7z/lv97/3P/HAB+/9//wf9t/x8ATv9//xkAmv/m//T/gf/1/6j/Zv8tAMj/kf/7/6T/lP+o/5D/nf+K/wwASf+P/97/B//7//v+nf8hALb+z/+v/0n/BgCA/w7/dv9z/3b/CwB7/wv/KgDY/uL+GQF1/pb/OgHL/aIA4f9i/tQA0v6c//n/ZP/M/9j/1/8U/1MAi/9y//n/G/8cAMn/Zf/w/6r/Rv97/2oAPv9//38ABP75APz+0f6VAaD9NAG9/7n9OQLT/W3/dwGT/eIAN/9N/3YAB/8EAND/PP/n/6r/r/+w/wIACgC0/noA/P4zADYAGP/XANP+OAAkABz/HwBU//kAov4PAJgAG/7mAaz9QwCxAaD8gQLm/ij+PAJX/eoAEQB5/v4AuP5zAA0AW/8wAIb/+/+r/2T/lQBt/wn/xwAS/+3/OwDk//L/9f5AALr/mP+1/vsAsP9M/8IAf/+wAHT+2ADr/1H+JQHn/mEA8f9a/+UAiP5xAGL/SP9hAPn/Yf8sAJn/KgDz/2D+ywGX/sT/JwE///b+fwHr/uv/8QAK/agCWf66/ykC8/2FANH/Wv9K/+gA3P7BAO0A2vzaA6P97P0VBF78CwDGAYT8ZAK8/3T+YAEu/jIC7v1zAOUApf0JAnr+4f/uAAD+MAGp/agBnQBc/DkESvy9AZcAafxuBP37DQFjACf/agAA/nMDRP1zAXX/8v4nAar9RwCZANb/0ADd/j7+7AK3/LgBjADu/YkCmf2eAGgAev8S/wEAuv+AAJQB3fxWAr39AgC7Aaf9yAG8/mb/gQD0/1r/tQAcAHT9VQLfAP77cwMn/yj9vQOZ/SMAdgBO/jYBvP9sAGf93P+UAon+TP9+Ai/8mgLH/pP97gTN+5QBvv91/xcBVv+5/7j/kQAr/rABsf3kAKgB7/6MACUA/wBK+/oCtv0pArUAxv3NAsD79gFG/nEBy//g/2YA8f8gAOP8DQNl/V0A6QH//k0ATv5lAYX+fAFA/3n+hgF+/fQANP/TARP+bv+dA9768AM6/yr9EwT9/KYAawGy/e//3wC1/lsDewHZ+GMCUgGe/K0EEQBg/VAAff9yAOoARf73/kYAHgCDAhEB2fz5AVL8RQBXBDn8GQLt/gz/eQCXAYj/Iv8ZAvb60AE8A/z7WALk/EYAaQHHAKb/5Pv4Avj7CgTQAgL6IwSL/FD+nAV8+AsHc/27/DYEY/00A6757gLDAAn91QG0AHf+tv/zAJT7XgIRAef6fwbN/T7/3AKE+70AyAA7/0//3QJH/vj+kAApAfr+BP/aAWX9SgCl/9v/sf7bAHoBeP0TASP/owKe+4wAlwSH+QcGl/x6+gIJCfz7/JkGsf0C+yQFY/zx/4kD0/v2AKoBefz0/2oDDfm4A3MBWPtOBJH+5//o/cQA5v9pAFACv/oyBpD9Dv31AXgB9PpVAFMCFv2UBDH7VAAQ/2X9vQH9/nr/rAUE+bcCJgFZ/AECpvyMBEP7BgOu/yL7DATyACL7EgGXAsX5UQMIAaH6+QUs+Qv/tgZA9jIHMvu2/sYDPvvzAw796gOg/YMAivuAA6wB3vqYB8b4GQYB/Hz8FQXw+T8CgP5qAMH9gf/ZAO/7SAD0AgX/Bv+VAqH+U/yWA9795P+sA5P4kAcc/Bz8zwak9a4BhQI5/G8Hd/8X+6ABzP0o+S4E3QUm9rYIV/xq/JcF1PnABoL2lAKtATH7Dwih+G0BHP/f+eUEEP/k/ez/cgPg+6r+kgIO+9kF/P3t+tcF2/xB/vsCTvuc/1IDzv+r/ecAd/5I/ZYFGfvj/z8DHfdIBhEAnf2+A/D42QFDAh78af40BKn9Fv3wAqb85gML/pL8FgTG/XkBxQJC/l7+0f+H/cIAfgOe+zf+YQLH+WYCAgRB+Q8G7fy++toDNP3cBcj/zf39/nP9jACB/F4DtP94/+r/Qv+jAR78VwJr/jIBk/yx/CgNpPf7/z4GevSuAzD+eP16A938XwH4/m//nf8kAEQD8fho/y0F5vgSBtT+U/kmBhn5YwLx/iz+ywC4/AkHTf2dBHb6EP7OAnr9Ugk4968CXfy4/6oBg/eeCpv1fwY8AST0xwzH+OX7PAos+vL9mwvZ98MAhwHT950I1Pxp/gMBxP7m+K4G5QZX9DEKOfl0+kcIovmvAF4GHv1z/+0Kh/UI/ZEEzPauBZgEuvSLAGIIAfjLCaf+QvgQCFv2/f9DBGYEwv1UAVr8BPtJDoL0sQS6AgnwpgZW/u3+3gNB/6r70QGQAXj5rgMz/kb+SgvM+IT8cg2M96wBAQcF9e/+WQBi++IExAZ69iUFgQLo83kIYvz1/LAHEP0qBkMGWPp1/5L6LPsvBkX+mAW7/A/6mgK6+lAIA/9F+7YCSPleA0sGtP4cBAz+F/eFBML+wP3jA7j6wwKU/Oj+nAEG/ikJE/fb/y0H4PxwB937vf9x/B75EgkQAgMChwDt/ZP6cv4pAzT5MwBS/7D8ag1J/BL9rgWf72YEGgWP+lkL7v6E/hEBNvnjACkAyv5rBIv/BPpXBUr4ePxsDqH7vf5+Aqv3dwSo/V36rgqY/sz6DgXx9zr7vQXW+s8F2wBm/ugDdP6n/nT9rQG4/bEE2QHK/WAAbPfSC2j8VPqRAvPyFgm7BEH8rgFL+hD9iAfZ+JoEfAbd898FnQFF/g0JfPri+lME//j6BaEESPTMCSL6svdnCNn8jABmA7H/9ff7AkcDXf+C/rT94P8VAAYA1QOlB3H5Hv++A3T1Av/cCNb8Gwe//4L2rghU9VL/swSu9jII2P9v/UcC8v5J+FoIwQO8+KMGkP+P/ioB7v+B/SILWfop+ogGpfItAar7fPokCM4CXQGBA4z/b/eBBlcCufqPA2cBSQOxA5/54vpgAyn7uwGMAWX/tv74/D0A5AA6B+r6kwDHBDD+9QDH++QAx/2i+ZkCcwCOA60Aufrw/Hf+ywP3/jkA/gQrATIDwf39Bs0F2/43/HD5qgRZ+WICpwOU9i/+LwCg+e0GXf/9+twD4vrhB8v9WAABB7f8QgKX/cgA0AD0/9b9W/2W/jr9rQG6/RD/uP1XAucA6QV7/Wr+hQSpADUDLfzvA2X79P0eB9j6bPz2A1f7wPtN/ET34QR8BEb9Vw04AhP8zAS880wC9QQ+8vQLDQQE/lsJYPlO+e78lvSS+/kKjvoEAmMAV/dJB2MG5wPq+jr8xgAE+2UEuANLBucB8PskAkQALvrc+gwAB/XiB9D/mvjgCSz6UAS//8n1EwY6/oP6yQRe/gT/SAmr/gH7Tf/qAB/4af+u/w/8cAeX97QCLQQG/An/MAAU/IkD/QH47fcGTwi0/SoLNv6l873+o/6V/z8FbACZBbX6dPS5B8AA1PmMBgb/0/2WB7D4V/yx/fj8LAYYAikBvQSb/uL9pQF0+9L+Bv6TApMAMvsSBtkAwfQqAx4CcPNyB0YBePi6CqL+ngC3BXP8rf8xAlv6cwLGBIn3FQkp/Ur2Wwis+Gr91Aa++tb8SwE3+gMB+AY0+kcE2f5m+oMIqf8I+XcDjQEf+qIL//5U+woLrfjY/r0DuvaiBY8B4vabCC3/WfwoCcT8Iv3h/Cn5X/57A3IB0v5GAvv/0ADyANj76/95AO3+DAlyBhf8p/4X/gkAsANf/0UG6QK0+lT8jf3w/K76oP4pBDEBRQHI/37+2gAi/U7+egG2/q0BewOZ/BwFSgVx/RQCU/9p+jMCZAFj/vkAN//VAGsAkv4QAbL9PPw5/k367ALNAIr+EwiH/oL+hgL6+sUAuf7yAisGlPxuAk0GAwZ1ATX+nv4H/q7/eANy/pQBEgWY+ncAWP4o+bIB0vum/xsGKPbtAI4FdPwTCd4FNf84AQwAe/wh/icDwABeBrUIkgKRAqn7m/yv/ij5ff8hA579tv+o/2wArgAd+x3+m/jh/oALofzQ/y4FO/vMCSoAKfxQBrL3YgIeCUv8gwT3Am70WwHb/TX6CQWI+6D7tf/L/w8BZgCw+0H7D/8v+0j+Yf/i/in+iv6vAcD+nwI5BDT+efhqAA0CNQL0BwEEIAROASb/awXlBH3+pgVs/0T8oQa7A34EeAEQ/hQBaQKDAsEB5/6z/XwD1QR1AgsBLgSG/Er6PQjC/4IE3wKC+vkFXgFRAJ0FEP56/BIEmvxeAHkEgP2kAV7/5ftn/wj9pvlq/IX7yfb5+7L9zPk4/83+WPtT+Rn83P9+/cX6gf0L+x38hgDv/j0D5/1t/Ab8hvj3/SP+a/qb/T8Avf0gAJ8CKvqC+8b+aPt7AM8AiAB//7wCfgD9BM8HDf8qBUEC0wByBkMFvwNBBVAG6AWOB5UEtAabBoP9XAcqC4kAzwjXB3/8ewwqC5EDdg5T/ooEzgvqAAcJFAhsCW0IpQMKC1EHWAHICj8DYPs7B9kCNvvhBUEADvxbBbr4SvZ1/wz0VO2K/Lz3GfDK/kP4k/SC+gTz+/TA8Lfs5fK07Ifw+fU19XX3O/LX77zz+e8g7U7yzu1q7dj1xPOB8hb3/PkA+ZL1mfqg+ML2IvyP+sj+dgVsBewISQ0+CWgMlgm9CKoPLgtSDJ8MCA0UFAMSvxEvFKsP5A47DzMQog7HEKYQKg44FDsUTBJpFaIXkgxYCgYT/w/WC4UMqw9QDNMO2BAtDSkQzAeTAdcAAgGz+4D/IQIo8r4EAP5O9I0Dh/CX8m3xeub+7njuI/DL81TuoO5X7vbt8fBG6vPpCufT56PtnemV7TrsMex27B7pY+yf6HPmsOYq5nPm7+vD733zF/mU98n5Rfmu+rr8fP2dAakGVwjeCvARUxAaFZYWwhNbEzMR4BLEEE8ThhBbES0VixDmE78REQ55DLsIpQgaBhgI8QnNBggL0AoGB5kPMg70ByAMDwoTCu4MYAxtDi8OfQ4gDi8MehBHDasJhQu7AyYDgAbmAI4DxQcX/mb+3wCa9s74IPod95n1fvSv90Xxi/IP9ofvpPVV8gru1PmW6mHl1vjN7OroIvIe5OHlPOxj43zsze6q36nnQOip2QXjDuLr15jhU+BP2sXkRuVy4n/t4+lR6Yj1e+/n9Nj+0/jO/w4GSgXXDd4P0hG4GCMV+xVKGaYZbRpkGhgaZBfZGFAXiBVNF4kRIA+tDMMIawiUBmYGsgavB5YEHAZPCdAIvQ3/DRQNJhASELkRChfTF4sZahuPF/UYqxnBGCIYWxd3EtUMAxFdDyIMxglaCXUFXQD7BBH9BPhX/NzzCfcs+EH1hfyL8nDxmfK+7//v2uoI9LXxAes787XtiOIC5fnl8eHh5gjkv9++44PgPNzs3TfcCdak1y3YINhi2cPWCtNb0tvUANUn3MbhvuC55Wnl7emN8rv0Xvrt/RoBUQdcDEEOwBfMHG8cKyBLIBUiwiRsJAcl7iUFINkhHSRSHvYd1xvOFwcR7A1VDhAKRgm0BngD1QWNBtkFQAgNCAsJ3AhBC1MQUxJEFT8UDxc0G1IZHxk5HeMbKxszFz0X5RnIFeUVORFrE1UQbwcECLIBsv8IAI769/6o/aj0lADs+y7x/f2c8AXyAgP89KrxE/ee8Dz01Pbi7WXwhfC45qTq6O7y5PHpGOzx3mjj6+Cu1wfeR9eZ08DaENbk1bTV1dO01avRMs9o0NHSdtUa2mThfOO16J/thfDO+bb87v60CNMIrQsBFmYY1B3GJFInXSfeKW4sgiuLKwIpMyaoIwIiUiPsHlUdsxwlFq0SxA0QCnQJPAU5AogEKAZ6BtMJ/wunC88KfAxXEpMTbRdBG6sZZxvVH/Yggh45IichbR+BIWweTR3yGRMXsA/TDuMTmQVjB+4Md/9NBG8DY/YVAJz8aPAHAfr5hvOrAm71MvND95zxSPdN9GXx9/Xx8p3xF/E56JHsiOvn4+7p6+LD4UzpjeOy4MXgE9wJ3MzcQNlc1pjVENjH1BXU4tUZ1DfWotQs1kDZMNwA4DHjderE7OPyA/vo/WED4AYYCz8RIhVLHDIiySNgKWEriytgLkUtqy4MLxUrcSj4JQAlWySJIjkfNhk5FpQTohCyDpIM8A6QDCEMQA+QDWAPHBBXD6AOABK/ESkToBosF6ga9Br7FbMYQxWXFQQWkRGkDKIIqAj/B+UG6QOw/OD7UvoQ9QX2oPCJ9W7zz+sW+ITwevKM9P7pqPGK7RHxSe9H5yDwy+ls7cryG+a16U3orN7B48TjZ98Z42Dk1Nom4R3mo9Zr4CfjF9iD3NvaX9nj3P/ckNtr42zcUdaF3vjWJNYJ1ITV6NcR1prfm9/k4VrmKOwJ7zvzI/0V+2oCuggjCjMT9BtfITomqSyvKV4tczEJLm4y/C+5LfcudSnELHAuHCZWJu8hRhoAHAAWcBFWFbsRNRCSFMASYhN5E24NqwuhDqcPvw1XFC0YUhH0E7UWiA6gDysSDwmACHAHkwADBWoCx/tCAq36X+4k9Wfv4OVT8ODyBei27PrurOPk7XPuw+Xn7+fqA+WF7UbpZeXt7yrsQewI73joY+3n5Kfoa/D25WTr4+su5dPqROiH4sXrJOIg4bTqiN0b45roDOCe4KDj+uDK4RLgFN9L5Zbc7d0R4wXcPuIS4s/XmN5V4a7cu+gX7d/pxfKM95/2lP9uBiAFtg27E+cQHhpxIVok2SsoK30tSDF7MiczzTKIM0UyQTEkL+IwMjCrLR8qwyaoJPkgwiCyIJAggxd4EyQU9w70EOkRHA/zDroRhg6iCDkR/w8PAW8J4Q56BLoCAgcmB+T/Xfkc+Yf2efY+/M/t3+6S8JDsvPJh53Dy1+gT54XxfuWy9APp1Oc89w7oT+wH8aPsBPbx7G3udPuH6ZbtO/yc7PXrOfoS6z7ypvhK6X78FfQg72/9RfD47n33UvG47WXw8e0C9ZDw0usx83nxd/Bz8QPxlu5C8UXuruyE9Djuvu4Q98zwEPHy8uzvLfCp8Tzwj+kN78LwAPEW+ib91v5XAj0GDAg6CzYOrhW0FEwY0yKrJiQtaDQ6NuQw8zjsNgMzQjmvNFcvvTBNLzsrjC4qKT4hthoIGjsSQQxFDVwI3QkPBCgOhAYq/fsKy/7x924GuPX28ncKS+1U+zUE5Oxl/pT5CPU6+3H6a/Ey+avx8vJ//jPqbwHP8Wjm5gG75+vuvfkZ5D/vpvJa4Hz0cPAx5dT0A/GE7uHpA/ZD6q7qP/bl6ubw0e/A71Lzcvga73bwGvxS7k3wJvh58kP2IPOf9vb2S/he+rP68PmV9WH9JPU59qb4Y/XZ+v/4s/ca/Dn46vws+prye/xM9Rz3Xvt69kP6AvpI+IP46fsa+e30yfox+Oj3xPdH+aT97Ph3+63/FAR3AgYKcwuyDekVIBWVGZMc3CA/HDUjrCkFIjAlyiQgKFAn+x4TIzEjRRygGicdURnNGrQS4RRUGvgJThMUCjsFBhDl+GQLVgiQ90kGd/zM+b8AFANL8X34mP338dD+gPjN8NECFO0B898IYOXO/SMA4OqpAVT4ofBRAov60ut1A+j6Oe30CaX2S/gBBznrTgEz/E32DgUc9OP+7/9J+n0BbPmxAnz9APip/+/4K/0P+o0B5fiV+G0BmvJ++Z0BiPOq+Or7fvUh/oH77fWj+Wz8RvRV/lT5PvWP/Cj4rvuY9xH9Bfqm/739TfNCBE33M/uXAsb0yANm/dv7FwT29Tv8mgMo9Ir9xwOU8Kf93vq28/cCe/U59nb/q/Rc+PoE8fUF+g8H8+/oAzcF0flGBUb/6QL6BPMHegOvBM4I+Qa8BUcNcgQsBkgMFAOhC7kD2wdcDP0EEQkEBj0IHgJPCocIa/+ADv4BhwqHCJkCeQvoBZoDMAb3A1wAig03/zEEiQks/PUI/QIg/U0HyvuAAV4CN/4RAuT7MwWo/Tv7Of3UAH/5d/mcALv1W/tM/gv1YPv8/Yz15fve9wv8AvZU9MQCKPMH+aD+Z/CeAUn7A/OC/g721feY/YH1PfkP/PP19Px19dD5TPjX9/n9PvOQ9sT7cvmo8xb9g/l99mMAvfNl+6H9Cu29/V35rPa2+8D0M/zj9BX36gBo9WP16gCm9FD0+fw3+6b2m/4d/BX0DgK+9/f2ewAa9gj5JwRI9av9EQb1878Dwvte+BgFF/prAzEBvfzJAEUCmP+VAbIG2P76BNr/wQZPByED3gX8BDUKvQDyDPEI/wO6DsoEFgTaCxgF1glACwkCQA4+CLkEHQ0LBgcEIAhkB7IDEgeEB6gEtgXJAxYF0f6sBZ4FofmUBoMA8wC3A478vAIw/DT+z/7Z/S8CIfvZ/w8A7/5j/4H8bP64/WP7gv6qAUf6WQK2/Fn9wwHz96wH8P4U9xoHkv7c+ysGmP1kAHMBcvzvA5j+2f31Air/2f2aAlb+LPv9AQn9hflfAb/7rPo2AfT2cv5zAJb17QAg/C75UwBd+B76lf4L98n7U/6B99X9xPq89w/9bPnb97z/+fhv+MwCWvhc/RQA4fkP/on9Mvyd/YD82v0YAgr5wgE3Avv6bQWq/i0ABAJHAJUCXQBAArYBDP7d/wUDRgKOBKAB+wULBS8BgQbsAUEEUwUyAbUD7wN0AJQGJgRVAEIIbQKLA9cFDwPCA5YDKQKNBIUGFQG9BzYDngIUCSMBcwasB6gC8AMQAwYC2AOJA6kAawAzBBYDqADDBRkC6ACDAokAlgL8/3L+NgHAAKr+owCj/SgAEAIf/NwDLAEt/C4CZv6a/kD/aP4iAdv+cwD7/R39pwFC/goBWP8f/YMA2PuJ/pT/D/wO/zr+c/xg/qn/nv9fAJf+pvy5/oL7Qf1R/1j6tP5o/Wv8bv+j/N/8pPtg/KX7EPtw+pr5XvyI+Sb8Y/6H+8r+7vxH+1j9xPoe/dD9P/uV/BL9Evyr/OsAMv9tATQE6wCNA6IBkAFEAfb91P/m/vj9hABoAFgAEwTwAkEDIgSPAXUCogCk/7EAMwD7AUwD0AJ9Az0D0QP6A48DnwWBAikBMgQFA4UCOwQABYkEagRABkAFGgOGBGYCJwLzA/gAEANpBDQCmgR9BGAE2QSdA7IE1wIrAYABp/+1/8IA3f/RATADBAECAlACbf/J/yQAWACrAD7/dwB8/8D+owDq/x4B/AH2/8//Ev+s/tj+Bv4A/wr/0/2c/v3+Df7Q/yAAqf/NAGMAn/8J/n381PtV/NP9QP43/kz/uf91/uD8dvxO/K37LPvl+sH6TvqD+Rr6EftA+nL7sfwq/Wb9qPtA+7n6kvlk+S35Yvp8+078B/0Z/dH+Af/M/jz+v/ss+vz3sPdm+E34yPk1+kD9LAASAJgCmQPqAkMCYP9Y/sP9rPsc/Uf+cv7R/kb/6AFABNIEggSnA6oClgHLAX8CzQELAggBogIMBs4F9AWiBZwDugOLAnMCKARsA8UDzgISAygEsAQKBQoFZwT/BPYE1AMZBfsD4gPTAzkDEARrAmMBDQK0AHUBBAH7/rz/wgBX/wQA0gGAAMQB8v/T/9IA6P5K/yIAXP9EALEB/wAnAcL/yP6j/nj/J/+Y/m39vfuL/t0AU/8yAHb/Xf0e/kf99P2+/ef7Z/zH/4r/sf61/mX99fzn+yL6oPlH+fL20Pll+mL57/uG/K78HP0J/Kb5uPeR9VX1ovhH+VP5sPt9+mn64voC+kL4Q/eF9Sv00fT68tbzSvU79rn5dvtX+/38hvwa+/r6Cvuf++z68vrC/Bf++/0T/Wf9B/4S/uv+qP5m/SX80fwZ/mP+dACKAfcAggHlAjcFaAbUBagFcAVvBLoDlwSbBfwFIgeMCOcJuwk8CDoI9wetBwwI+gdxCF8JWAkdC44NRQxMDMMLUArICp4IIwZvBU8DPwJ2AQcCswO8AjcCEQLIAk0C7AFIBIoEpwJGAhACQgK3ASQBkQEmAUX/ff57/5L+EP6G/Wb9Xf3P+9b61Ppn+kP59Pek9w34tvet94v4lfh899X4vPnl9wz31fXl9Kv20/Wf9Pf1M/Xk85nzAPMR8zj0RPOJ8tvzXvMg8t3y4PG+8IDwC+/S7gXvSO5O7qzusO/R8Kjwg/AR8Lvv4O5d7ljvAPEz8YDxLPIS8m3ylfJb8730q/SQ9U/3Pvis+dP6Pv0B/yQADwItA3oELAaGB0EJbAoAC+IM8Q6jED8SzRK/E6UVJxcEGaEZQRo9GnsaaBwJHEkcGh0qHG0c7RuqGqUapRkyGRAYjBbMFsIWgxUSFIYSYRGxD+0NnwyoClIJiAfKBhYHQAXoA9MCWAA7APf+6v1t/mr8pvrB+ff4qfgn+G73T/b39CL1GvZo9r31DPUV9Evzw/LS8ofxjfAr8UjwTfHX8b7wGfHh79/uv+6h7FTst+sC6tLou+fY5/fmPuXq46Xil+GT4ETfod4X3ozdCN2c3b7dity827TbZdsf28naqtpl3NLdvOBS5MXnZuzI8DP1Ovrz/u0DJAmAD8sV2RqCIP0lXSv9MJc2RztKP6BCvEXBR+xJC0t7Sy1NSE07TShNGExHSnVHSkTMQKE8SziFM7Iu6ym6JXQhix3yGAgUoxBLDFMInASfAM/84fj19aT0zvKx8B7vj+1J7OLqlel66Kvn/+ZA5nDllOXs5ajlqeUp5U7k5+TE5MLk9OQc5BPk4eNb5JjkeuRH4x/iG+K84KLfwt2y2gnYsdTp0Y/OEcszyVTGWMMewSu+LLpYt+C0B7Njs9u1vLpswDrGMcvl0ALYEt9r5qTsyvL2+VcAmQmtEzUbxCKbKAQuljT8OTg+2UAyQShCaUTFRwdMoU5pT71Q4FHdUmhTFFIpUFtNvkpgSE5G2URHQi8/0zuzN0Q0/TAoLVApzSStH/kaGBd9E68QXg2MCVoGxwKd/2781/je9QnyWe8y7Uzq9ukB6dnnuufc5pPml+Zz5uHly+XD5ePkNuQj48XiAOK04C3hpOAG3xDdANsV2cDWVNTZ0NrMosn3xpTDm8D0vXS5HLa/s3ywS67nqy2qFKoFqzquuLK2uIHAncfJzRrVCt3C5ELsCvQR/f4FQQ9hGDAg6ih8MPU1KTsEP+FBB0RDRflFwUZpR0lIYkl+SadJdknRSEdIF0fZRWREfUOoQt5AsD7IO3A5gTcLNXwyXS/3KxspECfgJA8iyR4PG6QX1xRhEjgPFgzECPYELQK9/079avqe9yb14/IT8iHxqe9D7qvsGuwF7NrrS+xB7H7rLOtu6mzppOgW55vlzOSE4sXfhd0j26rZddes0yHP58kOxdnARbwKuFOyR61Lqi+naKYdpjOl3qSnpqaq/7AfuiDCyMgGzwvWKN9O6DzxCvkHANMITRJqHDcmSS6jM2Y2lDrrPudCPEaERh5FZ0O0Q7FEXEUXRupD30CiPpY9Sz3qO+Q5NDZkM2ozvTRDNag0fDJvLoksgitgKhwp+CYRJKch6CAJIIUeIhzLGMwUgBJ6ECwOTgtlBy8EDAK5AEEAD//3/Pj7Q/qf+SL5v/f29hH25PXq9Xv1IPWI8wPxee9L7cjqXejS5Pjgadzp2PfVgtIMz8nK/cXtwP+7YLbdsFmsk6hXpbGjZaIEoeigAqISpRKq57AeuazAR8l/0sba2+Ij61vzr/tTBScPsxm6IgIr3DH6NtY7EEDiQxFHt0kzSsxJt0lmSX5IDUjrRudErkP0QQ5AMz4kPCk6RziiNvo1EzbHNFAzizGnL/ItDyw7KmoogCblJK0iMSBBHmsbkxksF3kU0BGoDgUMZQnHBqQEtAGk/hP9ofpl+fn3g/Wa9Iry7vFJ8pjxlfGI8GXv1e7a7HvqbegH5U3iCd8Z25HX2tMU0KnLrMfCwva9brhMs7Ou1KgIpcegtZxEmy+aRJkpmrGbeZ5dpAurqLPhvDXFPc731iLfm+hP8gP7bAQQDZ0VjB4cKP0vIDWwOtw9ekBVRDBHsUgySaJIikfGRyFI3kejRqtEmkLEQOM/pz4FPXQ75DkjOR85CDhxNr00iDKFMV8w3S6HLNMpqye2JQIk2yGsH9McmhopGRkXlxRFET4OgQwmClgH0AXZAnf/3f5P/W77Bvsw+ZP3mPc797v2YvYV9dPz6PK/8EvuXeuw5pnibt7c2WjWaNJWztfJesWXwbe7NbYHsUireqamoRqeApuplx2W0ZPGkmKU6ZVKm8eiu6nYs0G9zMXJ0GbZmuJ67Fb05P5DCKAQdxpXIi0qRjEmNgc7kT5QQUNE9EWcRnhGIEbGRbBFL0W5QzBC+z9BPgI9CTy9Oqk44jaPNcs0HTTgMwcyTDDVLxkviC5iLcMrcymqJpEkqyKMH84cThpSFz4UEBI3D50KUQgrBT4B//+1/VD6Svjl9iH1D/U+9OLy/PN989jzKPbV9R/2W/dT9RL0nfNA8f3u8Ou26G7kS98f25zVrtDszNvG1sGxvYa3NLPWrTyn9KFlnN+YXpY4lTiUpJI+lCmWeJrkoyKrfbTowHrJhdTV4GXpvvJg/DEFNQ8kGbsiZCroMIM3vTs/P2RDskSCRQxHx0YERi1E0UGLP1k9LDzfO786ejoAOsc4/DiaN303UzjEN1U5yzmVOEA4njb4NAs1LzNmMWAvYCxrKuUmxyQtIXUcAxktFnITkRHkDv4KDAkCBagCIgIAABH9/fvo+o74c/j4+Mn3Rvex+AP4T/f390j2hPWY9NjxdPAe7Z/p+efe5FTgi91h1wLR5cy6xwDEi7/yu+W2QbLBroeqyaZ3otSeZZoil3KVqZPck32UZZVZmAidH6NDrZO2bcK5zp/Y3eWy75D64QVtELgZ0yMpLZ80FTyoQXpGZkljTZJMFEzRTHVKtUkVSMlDMEEaP9A8vj3qPWM+Nj6APA49RD8NQoFB+kAAQjhA1z9AQBM/KT0tO1A4ATYANCUx5ywaKKwkTiGfHpoa7xSTEgEPdgjpB0QFn/8C/o37ifqT+lL33PaL9XXzP/R68pjy8vIH8WnxPfK27zTviOzm6Ozn0OQT4/jgF90m2iHXetGjza3JGcbxwiy93rndt6y0irGbsbCwAK5Aq9enO6YBpB+iW6BgngWdpp36nPicVqJXpcio768Zt/u+kMq+1AjgU+4Q+hkEgA3JGfMkjS0UNi4+fkOXSNJMTU6oUHJSW1AcTdVN+UunSAxHNUakRlNJ3kooSk1La0yWTa5NCE/zTq1O+E0gTI5MdUwGSwlHC0TaQT9A/DoHNrswTil9JoohsRtsFnER0ArDBQMBA/7B+m30wu8D65btFeou47/kUuVw4XTiueOO4Brj8OFy4IDhxeC33hve+NvM2DXbudn31vfVudS/0qTQ3c+ez1XPFs3yzQzOuM+6z33M1c5bz6jQB9Tg0UHQrtNQ0V3REdYA1GfQc803zArLpsj+xjbCtr9GxPbDFMH4xkrJessg0lPVCd8M6LPrPvHH/fcM+Bg5IKUo0zNtPPtEAEmqTu5TF1bBVrtYb19KY6NebFppYqFnSWh4Zl9gl2BCYnBeOFlOXfBcFlXxUBJQvlAtTb9Dcjs0PFE4JDLJKVUhkR6oG6cVZxC3DqUJSAKb+cH2L/MP60ni1NyD26nWOdCJygXIz8hYxibAP8E4w2W/5Ly9vuHCK8LFxcbHFMflysjO29Kc0yPWgtdS1dHWE98K3mLcpt6l3wrkoOO15SfmROTK5RLn0+ao61jsuumd6/3rDPQQ+KD2+/eH+JD5GPzIAIMA1P8I/YP5Qvnd+3X7q/k19zDyY/SW9Eb02+ov503o595Z4fnkptxO1sDT482x10TegdqD3jHiFuq58iYAUgiUD98ZGyE1Lgw9rkmmSztOT1LkXqZkJmGFZCVidGC7XZxf915nXdZYz1FyUfdOC0/DSKo+0zfFNvUz7iwEJ3AhdiBFGJcVmRPFEJIPhAe//2z5ov2Q+v7ucOy97Zrk2ttX2u3XMtT7zhvOgsbPwVXGRL14ugzGkMWvwt3E98PdzIbP3sie0n7ajd2b3lngQeWk5qHkdulR8ufzwfFX7ZPwXvE87Tnusu6b6DPpvenD4OHeyt7/3jPhQ92T2cfZLdYV0QrWWdfO1FrR185I1IHPN8vAyDjHNck7zBbKWciKzcXYcuUf60r8ygryD+8aoCykO+JJJlS0U2Vag2NwZyBorGoub3pr/2gaaOJoDmaVYlFe5liLXhtcmU7iRiVIRUOxP6M6UzR6MfMrCie3IIcdDR7yG4IQYg2JEF4L3gIJ/23/dP1m+x71Jew369/lG+CJ33DZv9VJ1IrP9cucz9/T3dEAzG/NqNMO10XWM9io30bfT9115gvtyOub7SbyE/SF8/74KfsZ9mT0mPIU81n7ZvRj6Vfr4euW59XmzehL4o/fXuGY3mbaZdut2N7YH94u3inbMdyi4ILc2tkX31flmuSt38Pe/+K14qPaqNuH3hXZ4dbu2mHgd+Bc4S/e4OQi9Ur+PQedDO0T7xoZIhsvxT1xQxRJukhRSblVG1vJV4xVblspXWxfDl46WAVXJlk+WWVUr1IPULdL5USjPiE7tzjoNjguGSd6Jk4nhCGiGKQZvBuhFn8RJxIHDIYGCQMTAq3/NP14/xn0BOte6ELohujh35ja79nt1DXWB9dg1PTTbNO301HU6NT22J/aVtnE3mbfqeJO5ePmd+4z8XTwOeyP6sPw6vUQ8iHw5Oyx693yUvSV8PjpQemC5pXhFeCt4bzgT9xG30zcw9Rd2Erf59uZ3FHbLdWJ1tDVtNeb2tneMOAM2xvaV9YB04bXr9kw0x7UQ85ny3DPCc9A3A7rLesZ5P/s3vzUChoO5BOcIlosIjEHMoo59UnWUtBRf1G8VMNcGWJyXmZd/mKVYJ5caly8W69WSFFbSmVHakP4PNg52TWQLiIpXisGK/klEh6hGLEWxRXKE1kNswhcBg/9OPlF/VD+vvii8PvoQutR73nmft6J3svdQdlK2U3Un9HA0h/RGtha3Avcodq814rZFOT77LLsue487MLqwO+v9NX5+fhM9+n4YPjB83ztwO9w9LH2Yu/g5LbkQeZC5urjG+RH5bbk9d9g3pPcDdkB1/fYMOCd4lniyN4Y1+DWyN/75jXfMNUL0gbR99Xv1ODTc9Tq2WvXWs07zmTXA99X3cjaUtoT3hDlqOto9Cz6ffp0+Zr/7Q7RGb0lGSg6JhcsGjhCPxBFAEvaRo1GsUkBUaJUdVA+SiNKYEyPTJNKK0XmRNVFgz11NzEybi5zKwApRigvIlIdsRk5FngTxBTUEAMNownlBT0GEwmhB3oBdPuv9Sv3+vpk+9n9qPaV6H7k8Odt66fqS+025OPbldxn3sjmkewb7fXoLeRI5rHpvO4h9WH29PSR8BPwjveP+sH3mPsT+e3xkfK29OPwluuG5xfjpuDt4jThGdxg2BnUaNdr2n7Yf9py247TY9BH0aXVetxQ4/jdStPF1evZceKf6T/lTN3c4HTl0eOo5fjjed7E5M3uG+gu4azhWd+Y4cLoxuY2333kSen36CzuAPH483D9xQEwBVkOZRLUFcse8SUuK7Q2xDh/Oxo++zpkQDtGzklMSF5ImEfsQ4pBGkN+QzxAfDpFMgMvdSrRJ+onhSIfHZscPhu3FgsU2hGmD4ETThjVE0QO+ApfB2MKgw28DR4N6gN4/N/6hfh9+er79vrY8x/v6ud25cfojeoQ7zjtjOYd4ePmBOjM5JrmOeRr40Tp5e3q8KPuy+WP5f3qyvLT9dLtxd+K3DDj1ua66j/pIeIh39nh1uIc3x/dvts82KLWtNYA1vzSx80gzDzLP9Hi2DLXONL+yjLMnNIP247d9dms1XXVpdcH1xvX2ddg2gfYZdtB4RXqiPX1+oj+vwR2EFMcBCukNsQ7nUJ9RkFLfVShXNxggWI/ZKdjyGEjYhVjFWJDY1NfIViNUrFMN0m+RslCCTzfNRstYSNFH0Yb3Bm7FxYVzxT1DX4LFQu9B+kFvgd1BHL9OQGbAVj55ffI843uY/RQ9sbwsudY4XXde9sQ3iLiSOJ54OTcmth72RbdWePf537l2t/V3BHeVeLA5Zjof+eb32LctNvt11faaN2823rXadOQzH/Ia8qnxdm+0L0muJ2yAbK1qp+mQafyoiCg2qBpoVurfrlQxY3OrNmf5bvv7f7dCr8adC06N3U5eDrVQpBO71qpZgVtJm14amBqyGrNb3h0vHRvcf9oYV2gVtdYWlsgW5lT5klMPrQ27TTMNB01kS+KKv8kkiE9Hv8dnyNHIdUb4BX6ErERuQ/8C4sHdQTx/iP4cvBV7AbmLuHk3I3XTdVw0uDQdM6pyOPGvcd4ymXOidDE0HDN0c2qzgjS79b11ZfS09Bd0I7OQMy0ye/K38nDwJ+6ULcXsiWwnqoZn7SYrZaDmX6awZlCnY6qYb+dygLSTdkw5a/05QNXFUQlLzHgNdY2bTp/RmtWrGOcaxZn3VwJV9VYQ15jYillu2IhXkpXhlG4Urdb0mKaY7FdY1FuSa1G/EYhSVRKYEUUP504UjArLYcwBjb3M50ruSD7F0QTKw4kDkYNMghGAJP1yez35tXkKOY35k7gFduv2YTXndYM1f7TOtQD1CLV1tLJ0KLQbs+7zKTL98YkwpjBOb33uoG4orOiriyqGKRRnRibD5nGl3CW7Y/xiNGEN4MgieiYP7GQyEbP0MY/wd/KTuXxBj4ggC7yMY0pKB6SHms0TVbPbJtuuGAySq055DZ0QR5SfVrqUaM+DisgHAUbOSjyOxpMA02BPwcxZSvOMUxBe1BPWIJXbE8eQpE5BD3xR/hQR1CjRCU27C3fJwUizSDJH9gbxRPCBo76OPMD7y7sdOto6pXoMuYk4uzdXdyQ3+/jPOfH6B/pmukB6GXkc+J34Ira/tNtzzfLH8jGxkXBErj+rxGpEqN4nxmc+ZlCmm2UsYwShBSA1YUSj9Kg9bkQzlzQ7cYXwUPOxetHChclYzSuNfIoCRg2GF4w6FHtaGJqPFg5QFctsycTMvBDzk9DSxY2AhwgC5oHaxDDHu4nWCeUHnwVqBR6Hf0o8zJMPQJDzkQIRWFFnUr6TgRN9kb1RDFG5USFPw42iSshI1YcYBVVEasO6AgtAPD0Uuxp6XrqEu3C7HDsauw46zfr0eyH7/nxJPRX9NDxgu6X6aTjA+DQ3HjYntaN073LOsHztcCvwasQpdCdoJg5luKS+4oSggGABoGyghuKXpsatfXJ/8vRwPm+Nc5+6ZIGxx+HM5E4PCwBGzwZBi8KT9FjbWYIWt5EiTC/JMgmRDXUQpZCCDVDIMgKB/9N/zAHnhJ0GEQWwBHlDrANxw++FrEiETBQOR4+zkF+RRhGe0INPgk9Y0I/SO5IKESfOYQsGiBFF7sTUBXSFEwOaQLj9XzwDPHN8hTz7vKM8r/yD/Xj96j6Gf16+wb3WPQe9KD2dvhc9HTpU93M1dfT69Mf0VzIvL0Xs2ymFpzkllqVTJXdkkiJYYN/gvaABICkho2dnbr1zijPTcZCx6DTqeb1/xofGDlFQUE0liBBHSottERHWM5fR1iLRUMwkyGRIWcqnDFGMD8lDxWhBer+awMjC4wMWghEAgYDUwsqEXwWrh31IrUjXyJpJBMxCUKzSb1HBkEkOtY2HDgOO089vTosMfckkRlSEV8NnwvuCEUCJPqD9mP3R/iy+B35WvnP+qf71vxeAg8HGAeSA43+IPv4+Kj3wvMs70fq7OKg3LjV+8zMwxe8a7TurFOkd5oklWWSQJGCj92L9od8hbCDVIwMpBfA3ta32g/QNssR1hrrhguiLeZC/0qRPvcqninSOMpNRGBqYxJaoUyTO20v3i1NMMwuCyV5FYIKqAZSCNYKOgjkApD6vfJ69Af/4QszFzgaXRYYFZ8XAR5fK+A3OD8tQh89Cjd3Nas1LDdNNlAw9ygpIScZlRFRCgUE5vxG86vs3ezN8nz4Gfec80/0v/aO+i/+4wHWCOcL7gchAuP9Pf0e/kz6YPMT79jr6ObN3rvT3cpFxEe8u7KLqYui4J7tnESaZpXtkKiM8YebhOyFUJb3tGTR8dyF12nMSc8Y4lT5JhQPLls/tUVHOw4uBDSQRadV71p0VTZQ3kyqQzk7OjjUNbwwuSHwEJIJIgkYDS0Q8Q0cCWkAYfbm87L6RgYzEssZiBytHaMd7SDaKWA1Wz3+P2c/5jzlO+k8DD3zOgM21yzhJDUd6RTRDl0I2QHW/Mz46vai+AX6pPrk+XL2yvU59un3bPxRAO0DxQWABAoEgwIg/ef38PFs7pvua+yM6JfiKdhszi/EArhxsVWtbKmEqJejkZ2HmYSRMIryh3uFqYq7nZe2ls923HfXg9Fu19PjiviRE1AupURIS1JAljlGQ1JQ/FgrWftUjFUeU0dJVERcRHBA2DK+G70IhwT5B0YMExCaDyQLp/5n8LHtzfWLA1UQsxeHHGQfhR5+H8AlQywDMzI3yDiiPXtClEK0PHM1FS8uKqQk/hwsF40URBBNChAIWwZEA+/+mPcx9Ir4wftz/fYAEwFuAJf++vpf/ZkClQP0Ai0BaftM9D7rO+XB5MLk6+K33NrRcMkawvO5dbVisLyqr6VpnRiYipu7m2KWVI9xhbyEUpd/sizMsNvA2T3UFNhC4SjxqwuhJRM69EY7RC5AtEpGVmBa7lhaUr5QQ1QzUKBMMlBfS4M6oyPsDs8HPgvsDRQP1g8/DLgC7vdB89L4mwMtC8oMIA6JFPIaaR8lJCUppi2kMEYvaS6gNV49DT5ZOYAvhiXIIdsdTBmDGF8VEA5wCOwAJPru+FP2afXC+Lj6cvr7+lv5ovfM94n28/ex/Jn/3f/U/uz6svbt8Znqi+TZ4XPhpuMp5Jzee9WYyXW+rbidtEexUq/hq66lJJ2xk5iNMIxBiyCLo5DJoTq62s6l1iDTftIl3ZXr7voxD6IlpTtyRnRCdEKGTGpU4VTgTQlHekncTI5KOUkRRjs8RiqzEwIFjAMRCSEOmA5MC90GlP7V9qP0gfVW+uD/hwK4CLgRUBeHHMMfHB7aH6gjHiY3LR01mjjiOEgz9CpQKEko8ySOH2sZ3BPuEaYQqw6xDeMMawioAHb7wPnt+xIA+QBf/t/64faM9U34wvlH+ET2zPKh7izrY+ik5sLlaOMs3nzXStFgzBTIEcSXvs65MLaFsXCqZaPYnXiYRJQuj/+J2YkOjjGUbqOsuuPNr9cs1m3S0NwE73v/iBQ3LN09vUadQi8+OErpWARcLFbXTf5L3E//TjJNE030RFoxBxr3Cq8KZRBkE8cRDAqH/lXyBevn7s/3Dvvk+Y/41Po0A2YNVhfFIz8qUSaSIfQi5Co+OJRBXEMcQ4s9xzRYMBEufytHKCwfIhY8FHQU8xO+EBQIXgCI+lr22/YZ+TD8f/5H/Sr8i/sx+jL7Gvpf+Fv6OPlq9VnzS+1P54/i2thI0uHPB8uVyc/H7sBmukSyxadloIGbzJZbl3+Y7pYQlk+Tv4+WjYCMnJJ0qSvKEOTl8kj05/Gm9y7/GQrRH5s38kqcWKhZP1ueZSFpAWQUW6dPeErSSb1HXUvjTttFKTEKF/oEyP2W+z/8h/sI+Jny1OmK49TneO0k71Twlu9w8z7+Ngk8Fn8nHjMUNKUx8jBINrJAoEZtRpNIvUn0RNQ/eDpyNCgtOyFTFugSpRKAEKELKAV9AJD8e/qY/Kj8O/zd+sX10vZu+5789v2I/AP5Lvez8XjqyOfw47rectjGzgTLvsl6xjHFSL8TtiSw7KaenjSgsKFnoGSdDpQWj3iURZjGmL2YiJInkaedGLXI1TLz8wBmAID96/+iC5oe1DNrSg5amGG9YR5i02uDcRdrP12LTjhGVUhdSjVKF0yEQgAtlhWPAjv7i/tZ+FLz5vJ+81Dy4fBk8sT1b/i59ifzhPuMDcIfyS4AOp9Bu0ejSLJDlUUDTL9PclDQT8tPn02iR5c6wCskIHoUNAroBNAC1QCg/rz3OvGD7+nrrufU5JDgTOGl6FrvYfVL95nyjut55hfmb+er6jXtVur+5wvljtsZ0+LNE8eKxRjEGb1ovE68xLhVuL6xOagvoxmdbZjPmC+at5vLneSbeJcxlj+d56pTvyTc/PAp+h8AQgLACrMdeC+/P9lO5VTnWRJgmWVtcMNzQmqAXTVQcUbGQxBBfT3xOnQuUhx9C/r9o/iq82PtJOh85UvmKetj8vD4Ff8r/3X9bQG2DJscES1KPadJdVEiVFpVG1VIVGdVtVFBTYVN202NSclAezMTIv8PewET9+zxo/L+7y7qbOUw4ezdm9pc1ozTUdUL10jZAt5o5AjrLu787Z7qd+r96lHqyuvI6BDnRefY4R/cDdt42J/Pn8crwSO9W70fuxW56bZTs7Wx5K4Bqiqm/qG5nPOZ+5q6namcgZ27pFWw/8LQ13zowfjsBIYEVQcGE28hpzRyRm9QxVYqY3tpHWnmbP1oWmCVVhdK6UTNRpRFcD0eMronfh1ME2MKRAE3/HP5i/JL8mz6IgGvCB0MAgwnDgsS7xf3Hicq0TaOPSNDiUrJTPdObU1DRsZADj3BNw4y3S3rJxkjaxdXDFACOPQb7eLlFuBs3ffab9qu3bTfRNuX26DiqOO93gPp5PD96+T1PvfG88H42vFX7hf0dvCN6KbrBuWy3DneItpp0CfLGc3kxK3CucGZvITAIsXmvu+7McSgvGK2nLJQqyCobKsuqhWiq6cOpm+kKrGFvgLIfdbB4OrlSfT7+UkD1RPYH6EniDDfPqtIB1U2XU5fr2HWYdZZqFEwUCdJX0ZZRCw8wjlDOJAtRySJIP4WBhDAC1oD5gLWBxUKIQtyDqwQtBIBFPYTXRagG24hsB4FJaAsWi55MkIv8SxAK8ckXB7LGbsSpAmaBfL/1/Qf9gD1o+iw4YXjwNW2193rZthp48bz/+LE4wTu7PEX5oX2d/ij5bADGQHQ5+MGRPuZ4T4D/u4R4ib9gOfZ4Krz4OeA3rrpOuf13Mrbqulk11HTmecBzFXTSt8iyLzOS9knyBPGldEXwD25asPHvDe5EsCowjPGctGD1b3XPufM7f7t/voVAHsEvhLwFmMdUyjbL+Q1UDzVPthAyUY+SYVIhUVLR+RBuT2cPT4zfDGnLJIh1CDgIPcegBxMGY4SwAnXAnMC+v+TAm4PWBC+EiIRGBD5FtQSMwmQDHEJfgd9Dw8HcgY0DU0Eg/i//WD6YPJ/8AXyNO7f8u71/+qR/FIFnOw29zH8Key8AV/02PWmBqz1b/3JAWL6VPfM8gD6bPIb68fyf/Pk6yLxFPAl6Lj5le894pby4/B54bL1nuoR6n36w+hD73zxefA36dPq/O6q6ODoDepO6pfk8u0G5MrY/OQS10/VAtud0L3RgtwU2h/bY+AV47Hnn+sm8R7wa/zp/T0HIRXBDl4g/ybIKK00mzUuPEg9HkQXRYFCB0M9PsY3pTBbMgYrNydkK14oBCU/G60PBRH+BRoFVQqIAJEPwA3vALUJCQUmAD8BKf3RAT4A1fpxABMCMwL9AXT/1ADW+1H+OvnF7+0EwfqF8vwBQvrr+wn8MgDp+xLuhv7l9HXvZwFW9237Gfsk96f8yfTV+bb38e4r/an38uxm+qD8KPMH+DH6Ge73/vDwQPKEArTqYf2o9iv2nv939978PfbZ+KT4avYN9kD0gfcr8o/zX/RJ7Fbuxup053rmfd1V1j/YHtOJzy3NRdB1zn3Of9K807HY5teA5MPlRuqF90fz7v7NCEIHTRdEHN8ivitHMEEyQzaeN9Yx9jE/Li8t+irWK+YoZiPhGlYS+xRVCAgJ/wniCKINIffcBMMDFPaVBoH/c/x6BUn8zf+YCIEA0QcbBmD+tgUmBtX8mgbRBID9AwiP+/X+DwVr+6MBjP9H96P3CfnO9cb2lPlj9Kn5Mv0a9jsDFP0t9tYCAPwv/p4C4/mo/bz/e/vv+8gAVAJKAFICKvy5/4X6Nvyv/D/4u/zY/Y7+O/tf/Zb6cPhn/iUB1PH4+uT7N/P29xz6+vMw8FXyyOtw6rjmkunE3fffZuVH2PTZS9nDzDfbatcb0ZPhv9ky4EniPOiY7/j1f/vJ/T8FtAitCxMNTBeEG08b3CGYH3giDyhkHsgjgR/UG54WqBNAFFAOnBAwE+sN6AtUDwcI9QrqB2IJwQCiC4IHxAHzCsEAegwCCq0IeARjBCUJIwGy/4oD2wgC/2IAEgQ7AbQCLvzRAlwA0/mr/5H+GQHz/g/+pgDI+toCVv8QAYX+3vosCJoCGvsWCgf8yAILCnjwPQZUBv72lAbDAtn4owq2+235OfvX984BcPuc8owBtPKm92X/n+28/kzwHPbT85TuCfng8NT2gfgS7NT3CvJ05hbwRfDN51/so+ek5b7q8t5f45ThhdXg04jWTNLX08HXft833TXkkect6O3z/+2a+Ov9Mvo6BBUBpAw8EaERwRmYFccg5hwgIM4g7RmjHlIYYhWeEfEaXhWLEQ8Y6Q5JEfwLZBFRCIUD+Qne/+gBMwZ/BoUFXgf6ANICBwoLBqH/PgWLAYMAkgMGBJ8KdgQGBi4FkQSQCaYCzQNMBMf/cgOsAnMCsgedC2wC1QScBM36CgUi/FD7KQT0+VAC3wWVA8MGEQAR+6L9Wv2D78v9+fya9Y8Fvvc8BssAlfdkAPrw7vpJ+HXyNPo2+K76RQAuAEn27PaC8L/znvEg5wj5Suds7hD1V+US8Xr1POFL7SnmhNkl8x7ipec05HjkYePj5uXfR9sp7lHbLuh97Vrp0PRt8H33UAGvAmcAkwapCsICLgnCEPwS/xjKGEAVmB1uGcQbbBcjGOQTlAvkGbEVHA34FPcZbAxiGVwO4AeeFIsLdwKMDF4MXQQ4DisMxQqpB9gOhQIGA/QI1v8jBYT+xQHkBC8I4A5h/7kMaggW+c0LkgoFArcDQwgA/4oHXgr8/rsHuAfu/EMHCwL3/VADJQTpBBv7lQddArj+7ALj9z37UPwJ/6D8yfW4/IT4h/eO+/v3n/U6AEHwWPTTAJ7sI/Z/97HxH/nk9Yzvmfz38dT3CvW1+Rb4Cu0b+07jHfsO8RPnlfzM6xnsSfPP5CDoFPS43UbpyOaT2+Hj7eMz6L/qevGQ7Ub18vXg9dL8DPxmAQ4BJgmLCMIU6RSoFVwfjRnXGmkbdBtkF48ffxPsE+8cLg1vERQcvg3SEfEN8wSxCj4LWwUkCgMKJv4ADXIG3wyhEKcGbgUpC3QDvgmgCcr6iRN5CxIKxRMsB9YNBQbDBd8Lc/4HDNUB8ANKDt/66QbGAsX7LAaG/uwCTwAs+rIH1v3aAL0JnPjzBGMI6fpEBo0DqwIMBRUAdwLIAacAwvuw+1oEFflD9sMCLfcx/M/zDvxw/y7xhPw/8l71tPZD65P2fvUO7Lf5l/Pd9tzvN+358uzn6OuD6lzpmfFs613nPekp4ObdBtzY2zvf4+Td447o2OgQ8f7yOfob/kj4ggUGBiUJuw72D4MWXh/uGhgaiyOQGwcesx6EEKUZHRdhEkcSSA8bEOcOBwk1BmAOPwcdClMHsgLbCKgDUQp6ClMJMg+KDZ0J4AT2DtsPfwqkBxwHXwynB1AN0QpADHQNVwR5BhILfv2GAlkGN/qvAh4KaAdD/xoGzPsu/+gE9P6z/m8ESwDyAEgJm/xRAuAH3ACb+eP64/u+APTykvK2A9P59AMTAZv2Cfxm83vtc/ZW+Q7twPju8DL65gK39Eb4wfKK8SLukfIW6xXsg+e67bbuLeje58Lk4ueT3c/en9Ve363OccYU2unR5txi5rni3uVk73Luy/heArH+0wd7EDsLpQ5LGh8flSawH4kdOyxxKG4nGCWeHV0ZRhYOEDAOIRJJCWoTXQxx/9MQLQvMBd4L+v4YAoMGTgYRC6wSgxLaFuMbdw4GFZkYMhbLDNoHTAh2DWgMuQiHETkIrginCDD9JQNQ+3H6JwA8+YQAdgQwCIoCUgSW/WoCLAFm9SkFJ/2R+4P9Bfy7ASEALPiJ+of+TPko+lD5Zve19Kj0+vIH+tn9Y/mEAHb0Cftc/Rr3avxr7hHyHPWN+b/2O/La+W/yo+o/6U3kweZ35Mzd4d144LHbs95f3F/Fm8vVxHG9isU6x1TTQtlt2azps/fj994CWQ59DqEMYxMeHDEkqyt0Mrk0LzYLNVM1JDRBMMAp6h7sG7QQxggODUYGxP3/+1352fXx9BL1wfFc7/PuuPEs8zX5l/+NBa4N3BNbF8wgQyb8JLgngSa1JeQgtiXGJMUgWSPaHaEZQRmYF9cQoAmHB5EBhQBN/5b6bwC7+3H8jwAF/bL8CABc+hH6IwJ4+yEAyQmPB6wKvQyNBwsJUQfxBx4CGfkZAQD+B/9fBOj9evsD+oz4qu8U7g3vqOSi4CvjK+ax41roseXz3LLg3dgz1FnTb8/NzorHcsd8wIK7BrwPsQmzZLVvt1PH1tQL3v3saf65C/4WHh9SJWQp6DCBOXQ9AkY5TcFPdVHXTSJHfkGMNbImlhquDn8K6QMf/B/4b/LT8CPtVOgV4/fiSOZb5UjofO5C9uP9lgW/DLcWnB4CI14p7CxSMZszKTRENXI3/zgfNSIvBig5JeMehRN7DnsGPwDn+pz1F/Xj8uL3R/gt9Qn4gfnY+d75Fvtz/s8EmQVTDAoTZxDdE/ARegxTCw0GSgFWBIoBePqn+mn5tfcK8trswOtq5r/k6+WQ4t/dbN0k2xHXYNew1pbWwdbZ0vvQHNCCy+/GI8ABuem0BasFoy2lJKUtqv23csaD04vgrvKOBLkSpBlBINspXDWGPo1EN0yXVC9fqV8tXBBTzkl3P8Ar5Bu2DKoHDAUK/MTzjfCA7rnod+LA2r3XCNt43KPd8ejn9nADSw7iEhwYOSHgJ34rLiyXK+QvHDd2Pw9FdUZ7Q+o7pDEDKaMg3halDq0Eg/0W/Lj9vP7g/KT6zvcU9dH00/W++R/9kf3lAuUJOw47FMoWfxS+E+4PVQzgCd4EUQJMAPP9T/wJ+Wj3UPTt7S3psuTs5FblS+QA4wrgid+b3ZHcGNyu2cLXrNL/z5HPl8v5yTXG3cAlugyy+qrFoO2Yl5XwmHCmgbngy7jgEfbeB9AVHx0rIWAnNjMeQDdKtlHdXFlrmW8yZaBUdEa1OUcnYhJfBCQBgAMIAFz3avEv78/qjuBM0njNttSM3nbmRfAU/4oN0hnIHy8o1SyZLBMqgSL8KhA45EEkSgdGz0M2Qmw0gCkvHVANBwcV/yP9NgIYAiQEQgDV9qfz+u9Q77/0vfbu+/sFWw1sF8od8hp1F5URBg31CyAKzArOCxUKjwdaBMsASP3M9RLqxuEd4Ijh3uW35hbl6OZb5qrlCuOv3DjZTtV30lPSPtPh1B3SfckQw5i/cLiJsMmkHZupmFmWaJZ1n1iwLMcB2erlnfY0BVMTRBotG/4k5DcESvBXGV1cYTFoAWPJVPZBpjJPLRwi0RJ6CrwGVAirBLj2vujC4L/de9u02IvcTed989IB6Qp7EfoZfh5XIfkikyQTKxEzYjc8PTNCE0Z/ScpA5TOIKO8dmRqlFycQWAy0CocJKAY0/mD3G/MD8ZPvze/u9u8B3Ab0CSsLpA18EakRFw/7DHwNGw97EjUS8A4KC9cFsQDV+jTzUe7U6+LpFOjF5trkCuVA5WjhF96k2kTbx99H4IbeBd633YvdAtsD1eXMhcbVwpi/ZLxruIWzvq4Lp1qd85lJn2mt1cD302nk1fXaB0QUbx4hIWAiuzCZQi9Wk2BmYelmPWV9WvxJSjeqLtUpGB83FBAQfBCdDcQDR/Jf45XfOt8y3gPiouln9Bv/WQQZCKgMzg+9EPQRnRPMGgQnkDNBPKE/xT2WNCw3Nz2qLbgmxCRLHGUnPSn+GbkTzgkE/S39pPiQ7Qnv9vEW+Kn/c/nG9q37Ef4G/57+y/4GA8UKHg4SDysLTQXiBSIDlgCN/Mj1TvZ59rDyKe4E7HTpN+az5CjgSuAu4yXjieP638ba6Nnq2tzYKddJ1BLM68dQxaTBvsP5v22zWqvtpB+eRJ8UpWSyMMo83EzmUvGn+4QItRZ4GugdKiziPfhROV+fXpZds1rjUHlGCzy7NDIywy2SJtIhZB7XFnMLSf+u8v3qcOp+7KXxUfdP+uX8gf6R/yoBuAIEBqsJjgsJEfIcdik0MrI1lTRbNHI09i9bKmQqHC/XMRQvdCikIEQbzRXXCUP+jfZI8pr1vvqF+zD6Q/kM+Ib4pfmm+Hj6Yf/cA+8G/gcbCFMIEAiHBen/dPvn+gX9Qf9a/Wb4vfIS7WHp8Oel5pTkweEf3+7dDd4w3DrXJ9Rd0obRPNKVzwvLKcbLwH69K7qLtSyxzKuXpaie4Jp4oX2xGsVh1JPaPuHS7YL8ZwtHE/cYTSeYOvJLM1cNWfVYh1kOVe1MTkXQQUxCOkF4OkYu/CCbFo8O8Qi3Ad74NvKn8IXz3PUj89XunOvw69TwG/UH+oL+hAHJBGEJTxCKGl8kXSy+LxgtMCpJKlIwuThqO9E2tC/9KvYoBSYvH0YVmAwECMcGkQcCB5UDdv8Z+zn4y/cP+fP7G/74/ST9rPz0/UoABAFCALH9cvss/Kb9Ev9J/sz5tPQJ8OHsnOzt60DpIeZ54Vzditqo1m7U9dPS0TPQ/s9uzjjMzcdiwCS7HLqauU24prTDrNKjPJ7AnhCnzLZCx2vRWdab2y/k4fFU/5IGYw+kHmkwZUIoTftPYFGYUE9OsEuqSktN3FBHUJRI+DvoL3snhCJjHYAU0wqzA+n/sf55+1X1j+9i7bbse+0/8D3x/PFF8mrySvZw/54JehPjGkIdUxz1HP4hwylCMQgznjGuMO4vyS5jKrMirBszFbwQew/VDTQKOAWU/a/2O/TA8yP0yfTg80Pys/Kq83r1dff893n3Gfew9zL62/zR/h3/1vxX+7X66fs5/Wn83vm+9lD0HvN28GbsdOhc5ETinN9n3TjbPdfS0ifLvMNRwNy9obxAu5m25rF9rcCpkavfsrK9FshCzmLSX9iw4v/ud/nEAOIIMBW0IzMx6zkAP79CAkZhSBdKxEzdT2xR7E9CTDVHcUFZPNY2mTCIKmYj6xsOF2YSsgyrBsv/tPut+Y73NfQc8F7uU+/o8V70t/Z5+aT8nwCWBM0Ihg2YEbEU+BcfG5weLyGWIqcj7CIBIiIg1h2qG68YvxPtDkILDgj/BCYBgPyj9wT0B/Fd7zrvzu+874PvLO9j7mXtg+3f7vPws/Iq867zqvUX+Ov4x/h/9272+/W39a/2Z/hV+cX41PX78RvvJu2+623qFOnL54Tm6uQC46rhPuDf3SLbW9eI077Qq86xzW7OJtDz0qfVetbL143ahd+H5t3ssfLF+bQCfQt6EnwXXxw0Ig8oBi36MM01nTuhQDpDb0P7QaJAeT92PVM7FjlaNfMwZSyVJ/0jMyBTG8wW0hG/DAsJVgZeBW4EUwPVAWX/qvxD+hX5tPhf+e35dfoN++z7aPy+/Br9u/yp/Pv85v1X/xYAOwAaAOf/LgAdACAAKwC0/8P+Bv4E/cH8PP1F/Ur91/w9/HH7zfqE+vf6pvuV+477Z/t0+7z7Gfuy+uD6JPtu+8T7ePuh+uT5Yfmt+KX3cfZh9T/1JPUB9TL0Y/MB8xfynPDX7izuI+7L7Srs7uhB5nLkVePw4f3fa94E3RjcVtuZ20fddt8F4YLhs+LE5IXnXuu+7wP1GfsNAXwGwAs4EFcUZhj1G9kfzCNuJ2MqWiw8LcQt+y2zLUEtOSz4KgIqJSlTKEUnhiUuI/gfxRwCGhUXiBRYEiMQ/Q3IC54JcgcGBbkCQgAi/vD8/fsQ+yX65PjA9xr3jvYZ9nn1PPV89ZD1b/Ua9Rb1VfXs9Zb25/Z598z3IfjY+I35E/qm+nr7hPy5/U7+dP6P/t/+af/j/z0Avf8j/8z+Mv5+/aL8CPxO+9f6Afqq+O33kfcg+IT4VvgJ+IP3YPcp94z26vVh9dv0JfTg8pbxovBx7x7uzuyW62vqaeks6MDmouXJ5GLkcuRC5ZPmR+g06lPsJ+878m31nviz+wX/0wKxBlUK0Q3WEGITMxUFF9cYWxrtG9oceR0FHkAeEB6YHRAdGBztGqYZwhhoGAUYnxfAFjwV4RPdEs8RgxDFDgoNZguvCRUIbQa/BBEDgAHy/1X+Ev2x+1z6evl++Jf3JvcA9//2APdq90b4EfnL+Sr6hPrL+jH7/vvU/Dn+l/92ABYBPwE5AT4BLQGYABsA7f/N/5v/9v6L/lT+5f31/PT7RfsN+xH7jfr9+aD5WvlR+SP5z/id+Kf4cvj29573efdX9+P2HvZc9TH1JfWW9FTz/fHO8Irvl+4A7sbthO3+7FDsr+vI62nsI+2w7UPuHO9q8EryL/R29vr4avu+/f//fAIsBdkHXwrBDCgPWBEjE50UjBU0FpkWExfuF70YcBnLGe8Z6RnBGaAZPhm0GLoXnRZ8FV0UXhOEEoER5A/iDcsLAwouCFMGXwRSAncAxf5P/T/8g/vd+kn6zPlK+dj4ofiE+ND4W/no+cb6pfuF/NH8yPzN/LP8Fv2O/db9tf0D/l3+gv56/tD9VP3f/F78FPw3/FX8mPzQ/Ir8sfz7/Hz91f2T/eD86vsr+6H64Pol+7v7JPz4+9n7s/tz+7n6zPnU+EL4zveO95z3ifeZ9zX3afZ59TD0u/Jj8T7wae9m77HvEPBb8ErwEPDc76LvIfAc8VnyGfT+9Tz4ZPqE/GP+FADGAXEDagWGB+gJXAyTDoMQWBIFFI4VtxYnF64XOhjJGHkZ6hmoGSUZIxjKFr8WPxeFF/sW0BShEYQOygsOChYJ8Af0BtYFjwR0A3YCNwHQ/y7+QPzS+sn5jPno+Xv67PoU+xr70PqH+uj5UvkC+RX5pPmR+r/7q/xg/bv91/3X/dr91P2//b/92/1X/kH/YQDzAO4APgBj/6/+JP7i/bL9i/1b/VL9Ov0R/bf8L/xq+2b6lPn9+Mz4qviE+Df49vfV92b36/Yi9jb1M/SB8yDzD/Pr8pPyQ/LM8Vzx9fDL8JLwgfCs8NTwS/H18czytPOr9JP1uPYd+If5F/t8/AT+w/+kAaID3QXKB5QJbgsSDa0O7w8QEU0SShP8E58UQBXXFVoWlxaVFkYW1xVHFZYU/hNmE8wS6xH5EAwQHQ8EDpQM5wpHCc8HcwYPBZ8DWgJHAXEAkv+E/oH9Y/xQ+2n6tfkl+fL4/fj1+DH5SflC+W/5mPn2+aj6CPtm+xX8tfyL/X/+Pf/Z/00AkQDAACYBdAHeAV0CaQJsAlYC8gGJAQkBYwABAJ//Jv/f/jT+Yv2c/Ln7EPt/+tX5Kvmp+BH4oPc797r2Ufbn9Y71G/Wa9CP0wfNd8wbzefLm8bPxcvFE8QLxwPDZ8BHxKvFq8cbxC/Kc8lHzCPTr9Av2Sffv+Hb64PuU/fr+pQBfAvUDqwVzB/oIYQq9C88M+Q3oDssPiBAyEdcRaxLkEhYTUhNCExoTqxJMEggSfBHHENcPKA9CDlkNZgxECzgKEwnKB2AGAQW0A5kCaAE6ADr/gf68/e78Ofw0+2r66Pl6+U35bPmn+ef5Uvq++jj75fuX/CD9uf1I/gr/t/8zAMEAIQGWAdEBCAIWAu8B7gGzAUMB0ABeAAcAtP8o/7D+Kv6g/TH9jPwT/M/7oPts+yb73/qV+lb6/Pmz+Yn5Vfku+eD4qPhz+Pf3fff89oD29fV39ff0ZfT584TzA/Oi8kny/fH78Q3yNPKI8u7yfPM29Az19/X39vj3NfmK+sX7+PxH/qr/EgGuAjgElQXgBhEIOQlOCkMLTwwwDeENog4jD5MPARBcEI8QuBC2EHcQOBDMD0MPhQ7IDecM/gsoCy4KOgkmCPoGwQWTBFoDMgI0AS0AWP+P/rT9KP3B/F78O/wo/Dj8Vfx7/OL8PP2N/er9Rv6h/hr/sP9CAJcA7ABGAWsBkQGuAb8BxwGlAXcBSQEIAcEAagAzAP3/pP9g/x3/6v6h/mj+OP7c/cP9sf2J/V/9J/30/LX8Yvzp+3X7EfuZ+kr6x/lB+en4fPgL+G/33/Zc9vn1mvVK9RH1xfST9F70U/RI9EP0SvQ99G70rPQL9Xr14/Vp9ir3/ve7+Jj5ofq5++b8Iv54/+gAXQLcA1kF3QY3CIcJ9AoyDFENaQ5PD/cPehDUEBURNBH6EM8QjBD2DzgPhg6fDZQMhwtACgkJywehBnAFcQRaAz4CWQFaAJ7/7f5E/rz9NP3J/Jb8cvxf/H78n/y5/AP9WP2r/QT+ev7c/jH/pv/7/34A2wAJAWUBnwHQAQsCMQJeAngCcwJSAi0CAgLTAaUBcwFDATEBDwHhAKoAawBEAPz/lv81//j+if4m/uH9jv0f/cn8Wfzc+4P7L/vX+oX6K/re+Z35Q/kJ+bP4fPgd+On3yveD91f3H/cE9wD32fbA9rv27vY/95L3A/hl+AH5o/lz+iL73fvD/KT9sf7Q/w0BTwKDA6UE1AXqBu8H4wjICZQKRAvOCx8MdgyzDKsMjAxgDAEMrAslC5sKBgpACbcIBgg1B2wGoQX5BGIEswMNA3EC1wFIAbwAIgCq/1D/+v6n/nv+W/5D/jn+FP4k/gP+9f39/eP9Cv5H/pD+0v7+/kH/gf+m/7f/xv/d/+T/5f8CACAALwA5AFEARwAjACAA+f/g/8n/qv9//0T/MP/c/p/+e/4m/u39rv1r/Tn9A/3V/Lj8gvxM/DH8G/zz++D73PvN+777pvuM+3H7UPtA+0b7NftI+4L7qPvw+y78Q/x1/Jn81/wR/UH9jP3z/VP+t/43/5n/FACFAOoAYwHXAWgCGgPCA2kEBgW0BVkG3AZeB8MHHAhcCJEItQjBCMoIwAirCG8IKAjwB30H+AaABugFVQW6BAcEawPiAlQCwAEwAaEAKQDb/2//IP/+/s3+vP7T/hn/hf8PALQAowGSAlID+wOpBP0ECAW6BOEDzgKLAS4Ap/43/af7KPrO+I73cPa29Vj1UfW29Wr2aPeQ+O/5Ovt0/Gv9KP6y/vn+Df8M/8z+O/73/cj9V/0//Uz9FP1l/cX9nv3Q/RH+tf10/VH9kfxN/DD8fPsf+/P6hvpn+qL6gfrT+mf7o/sa/Kr8/Px+/fP9JP6B/vH+GP9g/57/p//s/xIAGwBmAL0A+wB5AdgBRgLcAlIDwwNeBNUEdwUQBnsGCQeZB+QHQQiNCIsIzwipCGsIXQg2CJsHUQfGBicGrwXpBCIEpgMxA4YCRgLoAZ8BVQEvAccArwBjANH/c//T/lL+8v1m/er8svx6/Gv8ify9/Nr8CP0N/fr81vyd/EH8MPz7+wL8FvwU/If8DP11/dT9Jf6S/q/+wf7Y/lD+Mf6A/YX8YfvD+Rj4i/Zv9P7yE/H+7ozwAfNq9L/5Tf9kAk8K5xAQEmwWNBfbDfEKgAcv+/v1t/FS6C3p1+ry6P/xl/qn/0YLUxRJGQsiXiRAIughnxupEsgLXQCS9pDwoehG46ziheHi46LpCO3Z8tP48/x/APYCwgJoA2kBX/4w/pP9Z/0HAeACpwQICxEOiBFdGJobBB1XIEYezRqYGFQSAQxxB5MAgPvX+EX1R/Sl9cz1Vvi/+2L9QQFFBH0FugcwCVMIygiWByYFKQR9AX3++vzv+pf5evnS+AL5C/rF+vL7o/1q/pj/6AD3AFMBAQKOAXYBawGkABsAk//X/mT+AP59/fr8sfxd/Dn8Y/yE/Cv9av1G/cr9qf3Y/J/82ftj+mX5DPhy9rP1nvSW85fzrfO+8yT02fQM9jz3BfhD+W36//qP+7X7e/uL+2z75vrn+iv7n/uH/PL9W//OAJwCdwQ8BugHbwl6CnoLFgyxDFsNvQ32DRYO8w2hDYAN3AxADJUL1AobCpYJ9gh7CFUIDAgXCO0HAggACO4HsAeaBwsHkgZZBowF4gSABMQDwQJpAj4BNAAIAJr/2/76/qb+1f0L/jv+/v1c/pb+DP5u/qz+H/4S/hz+w/26/YX9Xf1L/eL8hPw3/NX7b/vd+k76qfn0+Bj4z/YF9j71OvS28/by7PF58b3wIfDj70nv3+6P7jnuN+4T7tvt7+3T7dDtJe5t7ufu6e/48EryLfQf9nb4LPt+/QgA1AJaBSgIfwpeDHYONBBfEXcSNBO/Ey8UMxT0E34TPROsEhQSXhG0EAIQSg+cDuUNDg1tDAcMSgswC+cKgQptCkEKswmECTwJkQgvCG0HdgayBQoFHASAA7ACswEgAXwA6P+p/2n/B/9W/2//Gv8e/wr/m/6L/of+DP7Q/Xj9AP3A/Kz8Pfym+2L7IPv4+g777Pq2+qL6Jfp4+eH4O/hw92j2Q/UR9NHysvFj8GLvgu7J7UPtr+zf61rrq+q26f7o+efn5uPlN+U05NXjw+P849DkXeYk6K3qyu2p8GD0UPg1/BcARQTqB6IL4g6eEUUUbhYgGHkZehoZG6QbnRtpGxsbkRq0GaoYwxewFnoVJxTEEoQR/Q9/DiAN5QvpChwKEAmmCGkI9gccCCsIcgjvCD0JJgmTCZgJgAmLCUAJBQn0CHsImAcYByUGPgWFBIgDYQKUAcQAqP8H/13+hf3w/Fb8ufuO+3X7Lvs2++z67vrY+ob6c/p/+iL6lfkx+U/4YPd/9mr1AfTw8qbxVfAs7/HtuuyN62vqUukm6CbnDeaj5Ivjc+IM4QvgTN8u3o3dOd3f3D3daN673yHiWOWx6PrsxPF+9qr7OgFtBpILYxB6FBwYZBv6Hb0fDSGvIdMhnyEqIWMgsR/OHowdaBw9G9YZWhiyFuQUOhNLEUMPXw2sCwgKiwhaB4oGxwWFBUkFTgXWBTwGoAaTB3gIDAnuCWQK4ApTC4MLMQsKC4YKyglHCUYI/QbTBa4EPwNMAhoB8v8k/3H+xP2K/Yv9df2a/Y/9Wf0X/c38KPw5+2n6e/kw+AD3zvWS9IXzTfIV8UrwIO8f7kbtUuxc64DqfulD6DLn4eUs5D7iNOCp3ZTbZNkh16rVc9SB05HTjNQ61krZOd2t4Ufng+3B85D63wGVCD0PlhXyGvIfSiShJ/Qp1yu7LMgsRSw7K+YpfSjyJugkgiMKImkgxh4lHTQbFhn4FksU5BFdD5AMnQlMBwoFKwMeAl0BXgH5AfICBQSxBYsHZQljCyMNlA7nDwURhhGwEXQRsBCkDyQORAwDCtYHuQWiA98BUAAP/wr+Pv1p/DD8APyv+7D7jfsi+9L6g/qp+QT5Hfi99ln19PPv8QDwCu6k63rppufw5VrkduN/4rnhAOEW4Nnerd0c3MLZmNdM1cLSg9CazsnM5MvFyzbM8c0C0c/Ujtlw3+/lb+2j9bX99gUuDrYVjBzuIgkoWCwOMBMyHDOEM9wyeTHrL58tMCsjKdsmeiReImUgcB61HGwauBdBFYASag9kDG8JMwaBA1IBOf8g/tL9yP1O/pv/IwFPA/4FsgiGC54ONhEzE+kUxxUCFroVxxRGE6ERZg/fDG0KrAfNBDkCrP/W/W78O/uH+lH6XPpx+ib7X/u5+8L77PqU+Uj4iPZR9HfyB/BV7fzqjejN5ZrjoeF037bddtx92uPYz9fB1ZfT/9Gyz1jNpctkyRfH68UDxfLDqcRYxrrI58wv0gPYr9+Q6FzxHftrBdwOLxgdIYYoEi/8NB05eztpPc099zzjO8c51DZrNMUxhS4TLOwpcidTJWIjqSArHpEbyxcuFMQQAQ1fCU0G3QL6/xP+IPz9+t36XftP/HX+9QDvA60HDAstDtYRURXKFxYakhsbHIMcGhxqGnIYVRYgE7APUAycCEUFcwJt//f8s/tm+nf54fhU+Oz3+/f496T3M/fp9UH0fvKN8Druruv16NnlHONN4ITd8dpd2BrW99Pw0fDPKs4ZzLLJXMcPxSfD78ENwbPAq8HHw9jGX8sE0ZjXjd8r6BPxuvqkBPoNMBe7HzonBC7yM044cTsFPvA+9j46PlA88Dl9N2o0DjFOLlgrXSi9JQEjFSBbHUMaYBb5EnwP9AvYCPkF/gJnAKD+VvwP+5z6jPpM+9z8r/5BARcFYgjRC8MPORN1FqcZuxsLHUkeQh4wHRYcThqzFyYVZhLWDisMdwk4BksDmwDj/XX7X/ml9on06fLh8JnutOx76groA+bj4+PhqOCN3zbe/tzX21bavdid1hbUjtERz0TMB8kHxp7CPL8GvK2587dFt+O3rLksvZnCYMkB0SvaJ+Rr7jL54QM4DmkY2iHqKU8xzjeBPNk//UHiQsBCN0IxQJo9NTt5OGs1fDKxL7UsHCocJ8MjiiBQHVYZGRXXEFYMIQgABPH/d/wV+vr3ffYm9qn2O/hX+iD9lADEBFUJvA33Ee8Vwxn+HEAfnSBQIQYhph+AHQUbqhhKFqMTLREPD7sMaQrmB/4EQwLE/1T9P/t1+Wn3v/Tw8bvuKeuF54nj4t/x3OHaP9kX2NbWeNUx1IHSytAqz6fNXstqyDTFHML+vpe7UrimtdSz37KIs8m19blTwC/IltF/3HvoxvRJAW4NEhlUJDwuszbvPddDmEfsSetKSUoDSeZGx0OGQK49bjolN3M0xzFiL/ksDyrNJscjFSCPG0wXphKcDdMIBAQy/6P7DvnI9qr1v/W49g35W/wPAIIEcAnPDRsSlxZXGrQdoyCYIgIkGCUHJfEjaiJiIOwdbhufGI4V2RIOEAoNJwpeB2kEjwFr/s367/eG9ffyOPA57fLpVeZL4v3dIdrY1ujTBdFizunL0MnLx5XFPcP6wOq+ebz+uTe3hbTEsVKv5q20rfqutLH+tQq86sM4zc3XjOPd7yP8aghMFJMf8CkMM906akF+RrZJhEsuTKFLKUqhR2tEAEHKPWY6EjcsNE4xaC4wK9UnLSRuICAcTRe9Eh8OXgmzBH0ACP1P+nD4U/eG97z4vvpN/bQACwWjCWIO5RIvFw8baR4ZIREjVyTiJJQknCMiIm4gTx7gGz4ZiBbIE78QuA2aCmoHQQQzAVr+n/uB+Cb1oPFw7eHokOSt4OjcfNk61s3SY8/By5TIGMazwyTB6L4PvRa7ObkGt2y05rFar9esOquHqvmqQa1xsUa3Lb8ayV3U6eDy7cH6agfcE0YfzSk+M1Q7CEINRypK/0v/TIdM1UohSLJEl0GAPjA7yTetNHYxwy30KaclTCF6HAIXOxGjCy4GygDA+4X3UPQ48hLxA/FC8o706fcT/PUAkgZyDNERyRaAG64fLSPVJWwnXyjKKEQo7iZ7JegjIyL2H1YdZBp8F2cUCRG/DZEKNAeWA9v/ifs296Xy6O1W6W3lFOLq3r3bQtjJ1GvR6s2GytXHXMW0wgbAar2puqW3S7TAsPWsHal8pcaiUKFwobqjUKhNrxi4hsK+zkXce+p8+DIGghPkH0wr9jQ/PUxEiUm3TIxOdk94T5hO1EyiSmFICEZiQ5VASz2uOX81mzArK0gl7B7kF5AQWAl9Ajf8bPaI8Q/uMuyj65rsHe+78n/3Df0kA7sJiRC0FhUcgSA1JDgnhimoKiIrZCsuK7Eq2CniKMonnybUJJUiXiAQHkobUBgIFVkRlQ0aCbQDAP7d+BT0cu/o6lHmReJd3jXaKdaW0kTP1MsxyNTEAsJzv3C8/rhxtWqxdq1fqR2lTaGdnuqc1pxMn9OjjKqOs+u9ucmw11/mtvTSAoYQBh3gKHAzBjyYQ3pJ9kz1TlJQhlD2T91OWEyvSY9H3UTdQbk+/DpZNmYxaCu0JEceDBcsD5wHYACW+d/zMe9j67Ppvunw6tztZ/LO9+/9uARTCykSkBjSHQAi3SXcKBgrhSzRLOAs8yzBLBcsmiv4KiAq+yhCJ0ElPyNUIFIcnBd5EjcNNQj2AhH9Wfeu8UjseudZ48vf69xL2m/XptTh0dnOZcuMx1PDEb+muvO1WLGMrLSn2KLsnZCZWpbvlD2VU5j1nT6mBrF3vWjL0NoM64b6KAnqFlEjgy4fOKc//UW0SqhNBU/DT/BPvE8JTz1NGEs7SdBGqUPVPzE7mjU+L+onyh8cGMYPBwdl/pH2ue906rjmReTI4yTlmOfC63Xx9/fb/pEFFAxREnQYlh2wITYlNyhjKhIsMC0XLr0uwS4nLkItjyyQK/QplCfjJPEhox7VGiUWPxH6C0IGbQDc+gf2ZfFb7XXp1eUh40rgIN2K2ejV8dEbzjzKJsa2wm6/krtJt/uy7a2FqDmjvZ0lmRqWKJRtlA6Y0Z4AqJGzPcCQztveku8S/7wNhxuNJ1syEzvcQcJHR0w8TrxOCE8TTxdPmk6nTL5KOUn4RpVDxj8DOzg1dy4EJiEdqxQgDPcCT/qs8pzsxehj5nPlnOZ56YHt6/KV+dgAgQiMD8IV1RtXIeklhil9LMsu1TAzMuEykDMnNDY0eDN2MiYxpS9KLd4pyiXCITQdCxiOEqYMHAdvAan7Wfb/8WHuK+tW6LvlieOe4fjefdu617TTac/8yh/G+8DAuy62MLArqpKkY5+XmkuWApN5kTSSfpVOm16jQ63iuGbGfNW25XX1owTwEiwgFSyONsQ/hEexTWdRcFNaVPJUAlUTVLJReU5eS9FHjkO2Pjs5wDJ0K+UihhnGEEgIgP/v9mzvXOlX5UPjE+LE4n/lRuks7lj0GPtLAp8JBRDxFeYbdyHoJckp6ixgL9YxgzN8NB01KDX2Mwgy2y8aLfEpIiaFIaccCRhGEz0OPwkdBFj/OPtk9xH0j/FG79vsQepa5xrkXeDG21PWF9FnzLvHWMNMv+a6rLZ8shGuO6l2pHWfqZqolqWTXZJRk2OXgZ35pVmwo7w+y9zbsey2/PILEBpAJ98y1TzzRLBLRlBYUgpTKVMxU7pS9FCuTUlKbkfnQ6s/uDrGNPEtcibWHfQUwAxmBGv73vKp60XmUOOE4djgNeJq5QTq5u++9uD97gSyC28RExfXHJshXyUxKEMqUixjLr4voTBQMR4x/i8ML8gt6SteKVolMiAjG3MWfhFfDGMHyQIm/yr8IPm/9lL1C/RG8knwfe0v6uHmo+Jm3WnXYdGay2/GpcGxvHC3TLLnrCencaGRmz2WE5Kmj5qORZAQlSecXqUysNm8LstZ2+brmvvpCmoZpiagMtM8CEUiTJlRjFSsVZFWxFYjVsxUW1G9TZZKpEZNQWA71TSBLQUmFh1+E1sLwQOM++fzSu1X6Nbl1uRt5L7ldekJ7nnzqfnC/4QGRQ2yEn0XpxyFIbglMinHKwQukzCgMjUzEDN6MvowGS9bLJMoqCQoIE0bvhawEqsObwqNBgcDAwBi/Zf6pPf59IPyEPBm7bnq2+dT5I3gH9yY1/7SKs4ayezDsb75uHGzFq6wqPKihZ2umOaU45IEks+SWpb2nNeliLA5vB7JIth36EL4BQceFc8hAy6vONhA4EfPTahRKFNfU5hS3FH5UDNOTkq7RuRCVj5DORQzCCyKJB0clxLOCfoBNfoD85Lstecn5aXkPuXJ5u3pE+4P87D4Z/5uBIgKVhBxFfkZvh5FIy4nKSoRLIItVS5mLpkt0SuAKS0nmiS6Ia8eZBvQF7kUuhFhDjcLVggABkAEnQIcAIT9S/sn+LD0UvES7k3rz+jX5XLiYt/528HXK9N0zjzKnsYbwqO8v7Yxsb6rDKanoICbyZedlT2U65RumOee1ad6sn++mswK3a/tUP1KDFgaqSegMwI9TERHSuBO7FCuUCJP/EwAS4dIuERHQBY8GDhpM8QtUiewIBQa/hLvC8IFcQCU+8z2ZfI47+PtKe5x7xPx3vLB9eT57/6wBAsLrRHvF7gdwiK7JgMqSSyKLYEtXiySKj4oSiZIJN8huh+THVkb5xgtFmoTuBCPDncMFwr/B0gG/gTzA00CWP+z+7H4sfX68gHx9e677JHqhugN5kTjLODq2yrXYNJizRjJxcVIwkG+HbqJtaSwyKweqsWnVqbkpaSmP6kfrg61kr15xzHSAd696pz3mgReEU0d0ycMMac4fT6zQvVETUXAQ5VASDx8NxIy7SsmJvQh0R47HCka6RfgFSwUXBJBELMNAQs5CPEFGwT/AtcCSAMfBBUFmQatCDILyg02ELISQRWOF6MZmhvOHHcdtx16HfAcKRw+G88ZGBj2Fa8TkxHBD0AOvQx4CzkKPgmQCNsHQwfbBpoGGAbQBPwCVwG6/8f9Ifsu+GH1cfKn72ns2+h/5YLiuN/u3Mva5Ng513XVcdPI0ZnQAtAjz7LNJMy4yprJhMhVxzzGz8VfxnXH/shWy3/OBdN/2H7e3OSE6xjz0fp8AqQJFxBFFjIb+h49IeEhQCEEH3obLBd6EykROhB5EEQRVhJQE8kTvBNNE+oSoBKbElQTXxTnFdAXhRknG7EcPR6DH8Ug2yF6Ii8jlyOsI6gjtSOTIwsjSyIMIbMfVh6sHNsaAxkPFw0VHxMOEeMOnwyXCsQI2Ab7BAIDJwGC/9X9F/wo+tf3T/W/8lXwIe4P7Abqt+er5RvkB+NQ4sjhr+Gd4dbhWOIS4wzkEeVg5qbnDuli6mzrWezy7GDtpu3c7f7tIu5z7snuCe8H75/uPO7n7ZDtYu0L7QbtXO2x7Rzute6j757wz/H38g70KvUn9lX3i/jS+TH7r/xJ/tn/qAGxA7oF2AfyCSMMrw5VEQYUwBZ0GfIbSB6WIKIisiSoJjUoMCnbKXEqgSpZKvMpBikGKNAmSyXkI30itSDIHgYdHxsEGQMX6RSTEi4Q0g1cC80INwaGAyIB7P6W/Hz6dvho9mT0aPKV8Lnu+uxm6wTq7ugE6GjnAefd5tTm9+Zf5/3nI+lr6srrK+157v3vjvEd84H0z/UV9z/4avl5+mj7UPws/SX+Ev+3/xQAFQDu/1P/XP5W/f77d/qy+PX2MPVr8+nxkPCT77/uF+6m7Zftuu3u7YbuO+8W8DTxbvLM82j1EvfV+MD61/zx/usA4wK1BJIGdwhgCi0M+A3jD9gR6RPBFVsX2hgxGoIbvhzGHX4eMB/eHzsgMiDdH1QfeR54HTEc7BqZGfsXPhZeFG4SUhAnDvML6wnrB8sFqQNWAQT/qvxP+v73x/W/897xIvCc7izt8esl64XqL+oM6lnqDOvo6wLtM+5j77bwAfIt81/0ZfUh9s32ePfZ90740fhc+RD6zvqE+w/8lvwA/SP9HP3y/Kz8Xfzu+2D75Ppo+s75Z/kd+d74yfjP+P74TPnv+a76ePuI/I79c/6I/4UASgH/AcYCbQPzA3gEsgTkBAAFEwXoBL0EjARRBDEEEgT9A+wDCwQ/BJ4EBgWlBVkGMAfdB3QIKwm5CSwKeAqCCl8KVAooCtUJewkiCaIINgjCBzcHvgYpBp4F+AQyBGEDmQLHAeIA+v8X/zH+R/1X/GL7mvrh+Tj5sPgz+PL38Pfr9/b3B/gY+AL4Bfjv97r3nvdn9zT38/bA9of2ePZQ9jH2J/Yk9jH2OPZE9mn2lPbN9iT3gvf291v46Phj+dz5Vvrj+m/7+/uO/C79/P3G/r3/zgDlARADUARuBY8GqAeGCEYJ4QlZCp8KtwqPCicKkgnYCAoIGQdBBmAFfATCAwIDXALSAU8B8AC5AIoAaABQADYAKQAOAPf/0f+3/57/i/+J/3L/a/9g/2n/V/9Q/1H/Uv9R/2L/b/9r/4X/hv+T/3n/Uv8m//z+0/6N/mn+Rv4k/i3+Mf5I/nL+jv6q/rj+xf7K/sj+l/5d/ib+zP1k/e/8V/yr+xf7d/rM+Tb5x/hG+O33rfdy92/3oPfS9xX4efj3+In5Evqj+i/7yPtT/Pj8bv0E/p3+J//L/2AAAwGtAWMCIwPgA5AEQwXnBX8G8QZbB6cH3wfyB+YHqwdvBzoH4AZ+BhIGsgU6BcoEWgT8A6gDVwMNA6oCUQIGAqMBKgHAAGcAFwC7/2L/LP/p/rD+n/6B/n3+eP5j/mb+bP53/nz+jv6s/rb+tv6e/pT+fv5f/k7+M/5H/mD+d/6W/rz+8P4S/y//Q/9p/47/oP+3/6z/qf+c/3P/Xf9P/xP/0v6K/j/+Av66/Xj9LP0i/Q397fzp/PX8IP1J/XX9qP3e/Sj+X/6V/uP+G/9p/6j/7/87AGoAnADJAOcA/gAlAUcBbwGbAbYB5wEFAjACRwJXAlkCZAKCAnwCkAKcAr0CxALUAuAC7gIYAy8DNgMkAycDFwPxAtUCsgKBAk0CIQLuAbABhAFQAQsB2QCbAGoARgAwABEA8f/g/9P/yf+x/57/cf8+/wf/z/6V/mr+Nv4N/uz9xv20/aX9pP2Y/Z39sv3O/fr9EP4W/i/+Pf5T/k7+Uv5R/lP+W/5T/kr+R/4+/kf+VP5X/n7+fv6T/sH+5v4I/0P/b/+c/8r/AAAxAHQArgDMAOwA9AAFASUBQwFYAWIBaQF3AXEBcwFPAUoBRQErAQMB3AC0AJUAjQB2AHAAYABcAF4AXABpAIMAgACSAK8A1QAIASEBLAFEAUgBMQE+ATsBSAFLAT8BNwEpAQ8B8gDgAMEAswCnAIkAXQBWAFcARgA7AD0AUABhAHwAbwB9AJwAdQBoAFIALAAYAPv/2P+5/5z/jf+B/17/M/8c/xz/EP8B/+L+uf6f/qT+o/6T/nz+if6p/rH+rv7C/uP+6f4T/zr/VP+Z/93/AAAlAHQAuADXAO8ADgEnAToBYQFmAXoBpQGQAW8BeQF2AW0BRgEIAfIA1QC5AJUAcgBwAG4ATgA6AEwAUQA6AEgAbwB+AJ4A5wAUATABsQEgAhQC8wHAAXYBSgEqARIBCQHfAL4ArACDAF0ALwD6/9b/sP+K/07/JP9D/0P/MP9l/4z/k//F/+n/4P/s/x4AOQBDAGAAiADCAPIACwEcAQ4BJAEmAQYB6AC2AKwAfwA0AAsA3f+P/2v/Sf8U/yH/HP8L/1j/T/8q/8L/m/9W/7D/Tf81/5r/Wv95/wkAxv8DACwA6v9pAIkAWQB8AMIAjgDMANcAeQCnAGAATQBqAJwArAAgANT/TwAxANj/LQDY//7/OABOAJMAoQBOAXsBSAFUARgBSQGjAZEB7gEXAssBMgEXAVsCZgMOA38BSQCv/3n/fP/d/2gAKwDJ/2X/Tf9A//X+fP6R/sf+Yv6U/i7/k/97/6L/7f/6/8D/OQCbAA4AzwCHANP/zwCkAMcADQKSAfUA+wCsAB0AjP9j/yb/ev+e/sf+2/9N/7T/5f9oAAoAjf7d/pH/q/8dAOn+dP6QAMP/QgDLAW0AKv8//7f/Sf8jAAIAbf9xAL8AeABIAEv/0f3e/Rn/oADZ/6b+Nv90/yj/Nf9FANn/T/+bACkAyf4nABAAvP4d/6T/fAHLAGz/uwHYAcMABwOOAVf9I/8aAesAbAFpAMf/BABJ/7YA2gJ6AOX+0v80/n/99P69/Qf9hP+rAEUAPQBZ/4P8r/vL/Cn9NP/v/y4AMQE5/2X/OAGj/rr+RwEp/qr+ewMEAhYAaAHv/xD/jwCJ/gL/dALVAMP/zv9W/v3/LgC2/Rz/awGi//39x/2m/Mn/egKjAcUBZwIOAYP9K//e/h/96P/q/zEAOgTYBd39k/tt/pz65Pur/eL9TQD//+v/TgHY/xP8Cvng96D8VgOZA2AB3gD5/z3+4/03ARQCyv9zA7EEOv3X/LUBgP2B/EQE6wL4/bb+X/1E/gj9p/5cBmkBRP0eApz+Hfn5ARUHfwA//gwCGwT9+lP6/wG/Auv/xP3AAv4AO/sTAbAH0/7k+SgEDQTY+Cb7hQaHBAcC0AIdBKH/WvVL/H8Cc/uq+4wHtAQ19+D5y/3L9gn0Yfqa/KP5wPWp97L5kPM+9dP9Z/nO8Qb7lwBf+RX4f/2l/Nn5Vf3a/zj+mvqb/t0EiwIM/T4AjQZJAu7/eAM6BDsEDwjtCN4FUAMtAzAGCQZlBSYFbQZkBdICkgKaAPAAQAKhAicAFf9xAg4EQgHt/kcBHwN2AoYAcAFlAQQA9QE8A4wCAQE+Am8DXgJXAQcCtgOpA3cDBwOZAugC8QPYBCkEXgOCBEkFPgRZA4gDKQSvA6sD6QLrAWwCdwJXAmgBFQHlAYkBYABXAHkAWAD4AOYA4wA1AO3/fQEkAcr/iwBDAcwAOwFhAfgA1QBgANsAvQEwAtcC7QJDAr0BYwGIAXMCnwJjAmACQAIOApYBKQE8AXkBMAE3AakBfAE/AQ4BqwDJAEYBjgGGAWMBZQF1AXUBUQElASgBVwFuAWMBUwFQAYcBhAGOAXsBfgF0AVUBaQE9AWkBVwFLAVMBQAErARQBHwHrACkBBgHtACIB6AAWASUB4gDZAIgAcACQAAMAQgA8APv/XQDr//n///+p/6P/X/8+/w3/0v73/vv+oP7M/sb+lv6v/nT+lP6u/rf+F/8e/zH/r/9f/zr/uv+a/3v/Rf+Q/+b/cv9y/6L/hP9v/3D/Sv+b/zT/1P57/9X/nP+f/joA7QBP/z3/q//7/nT+d/+1/+T+5/6i/xAAAwJd/N/92wPh+jT/kQJM++cAogCd/LoAj/7b/EIAov5V/vz/wv5s/+X//P4r/+T/Pf+M/yL/Vv89AIz+o/++/wb/6P6F/5L+P//4/rz90QAD/m/+LQDx/WT/A//M/l7/QP7O/vX+hv6M/nj+gv42/tP94f2c/fv9Lv7T/ST+AP4n/uP90f3x/ST+Hf4R/gz+/P1E/hT+Nf78/RH+Yf49/nH+ev4r/mz+nv7K/sH+ff6e/tz+//7j/jL/Nv/6/vv+A//l/gD/fP8q/83+Q/8s/yv/Vf8d/3//u/9d/0T/gv9y/8H/3f+S/+7/AADq/xAA2P8xADMA+f8HAAoAggDx/zoAoADZ/y4AcgBqAGwARQCzAJYAfgC5AG0AqACQACsAagDIAGIAYgC3AC4AbQCBADwAngB1AIEAkQBLAIoAqwB0AFUAdABDAEcAZgAEAPL/uv/l/w4Af//M/yQAyf/N/ywAIwAiAAUA9v9fAGEAFwA5AFMACwANABwA2P/E/+z/7v85AN//tf80AL7/oP8FAOn/9f8sAP//0v+4/9z/9/93/5n/1f9j/3b/cv+A/3X/Vv9V/2f/SP9a/6j/b/+C/5b/of+Z/7H/kv+u/5X/pv/O/63/o/+Y/+P/y/+6/6z/5f+y/5T/pP/o/9X/g//y/wgA2f/K/wgAzP+i/9v//f+k/5n/6f+j/1//ev+8/3T/Kv9c/2//Uv9t/2f/I/9U/4H/a/9k/wz/Iv+C/zn/Cv8q/yr/DP/+/hj///4g/z//Jv88/xj/Dv94/3T/DP9Q/4D/DP8l/2P/GP9a/z3/K/9u//P+S/+E/+7+P/+j/1r/Uv9e/2T/cf9k/6b/rv9W/1j/jv+O/4D/a/9o/3r/U/9V/5v/a/89/4X/jv+Q/5j/rf+9/3//tf/c/6H/yf/R/6j/tf/M/9P/zP+9/7T/3/+4/6b/6f/K/7//2v/D/6v/tv+7/8f/0v+2/9P/9v/L/63/oP/F/5n/sP/h/3X/tv+9/2r/kf+G/2T/kv9w/2//of91/3n/j/+E/3j/wv/K/5j/t/+9/87/2P+3/8T/tv+z/83/3v/T/7b/1P/J/7//v//I/8z/x//U/+L/3f/t/wgA4v/Y/+D////0/9z/9v/n/+b/EQAJAPn/9P/6/xkA/v/w/y8AEwDy/zAAFQAVAB8ADAAwABsADAA3ABMADAAyAB4AJwAfADQAIgD2/wkAWAA9AAgAOQAVABYAMQBKAEkAJwBIAGoAWwAlAD4AVgAqAC4ASgBlAE8ARwBLAEMATgBGAFQALAAkAFoAWwBGAEMAWgBDAC0AVABUADYAKAA+AE0AJgAwAC8AGgAFAAkANQAWACgALQANABsAEQAkADcAFAAlAEIAKQA2AEoAPwAjACUARQAoABUAHgAcABoACwAdABwA/f/8/wwADgD5////FgDz/9X/8P/9/+D/xv/T/97/y/+7/9X/3/+1/7P/yf/P/7D/uf/T/8L/4v/a/7X/tP+u/6n/p/+7/8b/uv++/7D/q/+y/4r/qP/H/5f/sv/B/6z/mP+S/5X/lP+k/4P/j/+X/1v/af9+/2z/e/9x/1r/j/+g/5H/kf+J/4b/Yv+Q/53/ef+Q/3n/iv+X/3D/f/9+/3f/iv+X/33/i/+j/5H/pv+m/6X/wf/C/8P/uv/E/9H/vv/K/8v/0P/c/8X/wv/f/+H/3//t/+j/0//b//D/AADc/9j////q//H/9v/l//3/9f/p//n/9v/4/wMABwAIAP7/AwAVAAoAKQA7ADQAMwA9AE0AQgBPAFkAWQBcAFYAYwBhAGAAYABcAGEAZgB2AHMAZgBkAGMAaABvAFsAXwBpAGEAWQBRAFsAXQBpAGcATQBRAEkARwBGADkARQBOAD0APgBQAFkAZQBdAF4AZwBmAGYAXQBLAEUAVgBlAG8AZQBpAG0AUQBqAGoATABSAEYAXwBpAEkASABaAFcAZQBhAFcAZgBGAEUAYAA/AEkAagBUAEQAUABbAGIAXQBTAGsAbABVAFsAXgBVAGAAZQBgAGUAeACHAHwAhwCTAIkAlQCVAJQAqgCTAIYAogCWAI0AmgCbAJ8ApgDAALsAxQC/AK8AyACtALcAvgC4ANEAuQDZANwAugC8ALMAvQC4AKQAsACsAKsAqgCYAKoAlgCaAKsAoACbAJoAqQCfAJgAoQCiAJMAhgCYAJQAhACSAJMAgwCVAJkAkACFAHUAhgCFAIUAfwCKAHkAWgCAAIIAaAB3AIQAfwCHAI0AiwCDAIgAmgCSAIUAfACAAIUAiwCOAJEAjACIAIgAfgCGAIQAhgB9AHQAdwCJAHoAeACOAIIAiQB+AHsAcwBzAHwAaABpAHUAdwCDAIYAgwCDAHkAfgCLAHUAcwB1AGsAcgBsAGQAbABzAGMAZgBjAGkAdQB7AHUAaABjAHIAeABYAGUAZQBqAGwAagBhAF4AYABSAFEAPwBQAEsAPgBNAEQARQBIADwAUABSAE8ARwA2AEMARQAzADEANQA6ADUAJwAuADUAPQAwADMANwA6ADYAPQAvACAAJgAeACYADQAWACsAMAAoAC4AIwAdAB4AGwAlABgAJAArACQAKQAuACMAIQAkACQAJgAgABcAMgAmACEAMAAhADEANQAoACMAKgAuAC4AIQAlACUAIgAnACQAGAAiAC8ANAA3ACcAMQA0AC4AJgAuACcAGQAMABMAHAAUABgAGwAOAA0AGwATAA4ABwAIAAQAAQADAAgA+v///wUA/v/4//b/+P/e/9z/5f/w/+f/6P/4//P/7f/w/+r/5f/l/+f/0P/G/9z/0v/C/73/y//N/8T/xP/F/7T/u//C/8P/zP/A/8P/vv/F/87/0P/J/8r/0v/F/7v/wf/Q/7X/t//B/73/y//J/9T/yf/J/8n/x//I/7j/wP+9/8H/xf+9/7P/uv+//6//pP+0/8n/wv+6/7n/u/+4/7T/xf/B/6T/vv/K/7r/vf+//7f/sv+2/6//pv+a/6f/qv+j/57/p/+p/5j/lv+T/6f/mv+j/5//iv+p/6j/of+X/5r/ov+i/53/pv+g/4//mv+P/4v/lP+W/5v/k/+E/4n/hv99/33/ef91/3D/fv94/2j/a/94/4L/ef99/4j/fP99/43/ef9l/2v/c/94/3r/d/98/3n/eP97/33/hv9y/37/i/+A/4v/fP97/4P/fv+J/4X/gv98/3T/gf96/3z/jP97/3z/i/+B/3f/a/9z/4f/ef97/4z/jv+T/5z/m/+M/5n/rP+e/6z/vv+2/7b/qP+j/7H/q/+f/6X/pP+S/47/lP+I/4v/of+g/6P/rv+j/6L/qf+q/7n/u/+w/8X/zv/E/7//w//Q/83/z//N/+H/2f/I/8X/wf/C/8z/0f+//8X/r/+6/8P/xP/D/8z/1//W/+z/7f/h/+T//f/c/9T/3//p//X/3f/V/9L/yv+w/73/0P/A/9X/5v/s/+H/7P/3//X/+v/v/+T/5//y/97/3f/h/+f/6f/f/9T/4//H/9T/4v/I/+T/3v/P/9T/xv/J/9n/1f/k/+L/zP/U/wAA6//x//j/7f/s/xcACgDg//3/9//r//j/FwDV/+r/1P+8/wkA///1/woA7f+5/1gA/f9n/9L/h//h/xUAvf8wAIEA4f/O/zwApv8n/yT/AQCEAMMA3f/m/4EANP+t/un/Nv8J/8b/mf8MBjsBBf7SATf9Cf8dALX9PAesCyP/PgCr/zD8V/4wAJwNHAzYA2wDmQBw/Wj+f/4K/u8CSf4X/4r+JPuH/FX7nwIbCQ0GfwSGCfMCJgJABCoBkQJ2AHcBBwFkAI/+Fvyx/W3/sv9y/tb9K/08/o39vv5wABn+0f03AFkA9/+SA70CZQDfAPkBSQJZAYz9+/+hAPH+rACM/Vf90/7i/hsBjwFd/UT+ufxc/fj8wP1J/uT7jAMzBMoABwM9Acr9uQARAG0BOASf/Sn9Gf8W/X//rv7F/Q3+Q/2u/I383Ptb/F4BwgA6/xYBMf+E/9392/2aBHwAzf4oAfYBngHM/3f/eP1a/sn7/QPYCawGMASFA70DlgGOBh4FoQMUAy4EPAW5AO7/Z/5r/Kv8G/1F/Ef6EvxS/Pf78vxU/Rj9PPwu/Nv8UwBcACkCNAEOAo0BQgEUArr/WgCk/uIBJAFa/8j+5fyY+5v7nvxZ+9j7sv7FAOT/JP9d/Yr8zfv4/dL+CAB1//7++gAt/xYBL/40+4b8Df8oAOwC9wN3APUBm/+z/lUAAAAeAToAbgEJA9MCCgLvAIj+T///AZD/TwH0AnkEOwY9BcQEZgREBqAEfgQZBacFdgmjCbEL1A0GDIcMgAviCLwJLwtOCTwHnAloCj8KYguCCvQJJwjQBKgCzgEmAvkCOgGdAJMBMAGYASP/OPwz+/n7rPv2+fv6ovnq9ZX0bfOi7gPuee2w6C3q/uip5Zvm4OF33u3hiN7Y2ibfSdtL2BHcPdFk0YbjSOtI/voMJwVCDH4X5xqYJO4jzhzZIscrVTD4MrcwDSdOHloVAAlsA078j/Ff6aToAOvC7F3wyuqa5l/qOfG69n4EyxRDHA8wDjc9NoU+RDlcNY0zeixjKBAodiPQHgQbiRCMB8v+3fMr7w/wJe448r33t/ew/Iz+Rvrp+Zz5dPlR/0UB6QRtCI4GYQohB///nfrf8n3uBu2W65joRefs4qvcSdN7ygLBb7XTr8SpC6ZNqeyqnaoisOSyr7iOxIbUYecQ/IEREiatPflNblY6V2BUc1IKUYpO40ikPuU0lil/GlEJx/Q04SHQI8OguA+5SL5mxujQDtlO5XzzUv/6CXcTah/PMOU+2kv4USRUfFTFSro+fS9DIHsXXwwIAi/7l/IM79vr1eY26Lzq1OzI8mj44/4RDSsZ3B/PJx4rey4oM4M01i80Le8qWyTBJLEfEhhKE88JyQMkAKz5R/Xu8dbs++wM8gbxePFh8mbulPFM9BfxX/Rq+Pn3fPxx/Wv6uPka9bvtMOwY56nhI+Br2GfUb9EfyMTCtrzptPqvLKiFnXuPCY8Qn1O1udb86876vxC1KOs8N0X3T7k9f0MiUOhHeVjnTjk9zjSDH+wHMfuk4VnHyrenrBWxI8HryAfLONGa1f3lJPjDAbkNIxuWLKdCs1XsXXZfuViUTcZIdT03NLAkqA93Bkn/4/g29tvnf9jf2IzagOQ29Pv4E/9GDiwVLCCPLVko4SovKisjlijDJ3wjTSFAGRcSwhGMDsIFu/+M90vzxvWp8s7xZ/Ax7yfvCvCH8Kju3uxt66Lrt+3k8CLy0/OU9uf5Uf1i/pP7E/h08pbqHeL/3F/ZI9S8ztnG57/MvBq3BK8Zp3KbT5MCmBOjELfr0brn9/6pGIYuyz4mS2pNS0ybTWFJL0oeTJhEgTlaKqsXzwcf9KnaQsQ7tFqvnbUuv9jHANRo38HrzPnCBx4YJia5NF9EvFR9ZMNsuGskYtBTjEQRM0kgkgrG9l3oDd0M1jnSuM6hy3LK781u2F/oXvfNA7kQTR8BMBU8EkCuP1g8wDeHNF4sTiOnG+UQMgrnBJL8V/bn7svmgea75yDotugM5snl6Org72DyifOW8kz1h/rU/uAA6AIZA60CjwNzADAAqfsF9Rbxr+tR7bLsOeYw4AHXTtT704bPK8nqxdTE+cPTxNa+7Lq9uRCxDarsqROuN8Cn1nrp7QGuGsAuOkF+SqpKt0mWRXVCIkHdQFw8GTGZIy0SnALH9EHgds71whS+b8X90dzfMu2I9zUDsQ/gHLsqpjMCPglIeFHzW8Nf51tmTrE8kCi5FXMHMvj368/lGOMI5Szpl+kd6Vbr6O8f+t4INxYIIkctqjWcOQg6EDTYKiQiKRcmDYcFOP/L+uj1zvEN8IHtDOzf6b/oQ+2l8uj2w/tl/VL91/7Q/Wf8pvzS+xj58vdA96734fpc+7v6Kfx9/Yb8dfks9czvCe5N69bliOKk3NnZB9hK02vSls94zfzPG816y3DMascZyJvIg75euY+1HLa6yZvc3uvW/pUKhhqFL4A5wj07PaA3yDi+PJM8Uj37N8ApUBy2DYoB2Pm56gnbHdVI1vLf5+uf8An1S/5MBjYQgBo8IMIpSTOSOHk/HkUNR2lBjTO3JUcaNhIwCLr47e9I7WzsJvAJ8FPvSPXh+CH90gQADCkYgSGDI2IkxiPuJc4kEhzzEm4JIgSkASD99Pla90P2WvX19Hz1MPUK+GX48/gt/az+iQJ7Akr/g//L/S/+WPwv+tL53vcP+jP4uffh+Zj2dfmy+WX28PeD9IryAfKT7hrsiee742DePdul2s/XD9km1xfVIdP/zxDS58zixqu7s6nrqJaufbxv1nzn9/f4DJ0e9zD7QT1GRkGtQSZCckYFUGtKGz8ENCoijRNcBJTwjd3+zh/Gz8Z50nPbeOEJ5oDpv/btBboS9B3gJbszIkI9TWJVGFItSa07pit6IcwWaghP+h7vkeuD8S/zHPAT7xTsr/Pa/rwDgQ1dFP4ZoiQmKV4q5CmtIkwaiBMiDp4IrQTM/9f7Af99/+P+RP6g+cb4IPrh+h3+KgCb/1MC1wNRARkBiv27+NL5Kff79Yn4ifXG97v73frf+xb7ovq5+137s/tg+qD49vVt76LqMOXA3bHZ2tRu0JXROdJ00RTRg83SytjKmceev/K2eqwzqvu4e8wK5hb+cQpuG98uZjuoRhtIej97P4xCvkLyRv5DtTaPKdEVF/5j8NLh3c+yxPa9jcKL1J/iZukn7/T0BgFXEfscUCiTNmpC/k8MWbdYIldFSBAylyK8EIAEaf2H7vnnE+td6nPrUugK4aDjxeuG8hv+bQw4F90i5ydcJoYn5iFRGW0UtQ4nDyoPzQmSB2kESwFO/xr6/vO68Z3y1/RA+kz9F/8EAYv9NPva+mP5zfpW/LD9qADWAJr/XAA8/+n7DPqV9iX08fTO82DznPJf7jjpF+Sz3s3ZLtY50jTQgdC90ULWVNgI14vWrNHnzj/Q2MdMvvq1RKiFrRXC2NHI6p7+cwWrG88vYzZKQnhAmDfGQPNE7kMwSfRAODI2KDIUNf/j8zfictE/yy3H2NFl43rnhOto8tn6OAoyFRUddSshOuVGMFEzVDpSFkoUPQ4v5h+7E/0EPfbe8DruAfDq8Zvr9uot8iD3DfycAB0HEBYbIt4k3Sf+KZMnMCI4Gc0PqgpCBkgBtAKhBV0GIQfZANT6CPrS9w/38vUD9kT8kAPBBiEHmQT2/iT75Pf49in5Rvgg+CT6cfwc/+z+8vse+PT02PEh8J7tzuR+31zc8tbL1gPSCM3LzXbKc8l8zc/OLMuPytLIH8MsvwKzlqUhpjGzAseD5bQBDA37HtosfTGiPy4+UjScN6U6v0DeSvJGojjhKtkV8/5x7uzdrM/BxhLCJ8dR2Lfnue/k9gH66AIdEqEcNyxZOixGq1YvXYNaTFKwQZUvuh05DL8AKfnS84Dza/TA9d7ysOyJ66ntrvML/WYJ4BdpIsEoQCu9KjQo5SDlGPgU/xDbDDgJOQaeBkgI7gf6Ak/9h/qB+fL5Ffl++Gj64/yS/Zf+bwCU/Z/4wvT89F36EvwY+tT5F/zpAPkFyQYdA+z9ffjh9Znx+ujx3vfVydMy0rXRb9PMz+PODNC7zmrQZtC+zcXQr9Dcy2bKHcJBuPqws7Bbx13oiAVVGackry+yO41DY0D+OK0wLyz1MhA6CDv7NHImaxM7/2bqK9g4ztHHq8S1zDje8fQ1BIsG7wbrC6AWqB/pJyYxPz7KUEBYPFlmUfE7VCmsFM0BIPve9hby+/Nf9835yv2496Xvle/c8q/8rAhJE4sdDSQxJhMnYiUSHyUXVA7ACRULQwrvB54HgAbQBZQG9QQ2A1YCwP4S/BD8JvyT/NX7lPm692731/dv9kj1Mvbg9yP5mvl6+3H+eAJWBZsBVPkd7x3moOBA3DTYxtYc28HcZNss2wPW19GEzaHMtdL71TzZLNrb3O/f99om07vHv7rwsv27XtKt7CcF/w8MGssjwCejK0wpNiKuGuwdFisIN008ajPRJy0dEQ4NADv1l+947SXvJfifBL0NvQ2vBYEAfgNYBwcKuw+BF+UinC/GMywzvi2cH6gUuQ5HCy8LOw06D6EPVxIfEjUQbwy/AuMAagQjBQYHwwpRD8MRvxDWDmUQmQ/RC54M3w1KDo4New2xDw4QKQ/VC/cKoQraBaMEowCR+3b9Jf1B+6b59fZI9tr3BvjP9hf5Y/mS+Lj4EvZ+9DPyvPCv7VzoCeYC5Jzk3OP94VngXtx52l3WN9LN0ZTROdGY1Wvbl9we4YffXdiF2O7U3M39yM7A/bv0zlDt9wT4Gmkeaho5H+0bOxprG+USeQ75F5UjpSx5K4AZKA17BAb4aPap9JHyUvkPAGEKwhQDEsQI7AJiAdYDTQniDG0QkxgBHuUgDSBFGJIRmwpsCEgNHRE9FDYU2BNgFaQWhRRWDW0HuwHR/1kFkgmgCpALvgskDDEOjQvRBwoJxQjWCnkOGQ92EGYPUw0cDT4LxAi+B+QEAgGW/5/7Kfc59YHyNvWc+U35M/oT+4v64vdf8xzyvPGG8YLxePGe9er4Ivc686vve+3e6nbn3+NO4/7lbOav4rbeXNxH2L7XZNh4167bg9oq2XXdP9oN1h7VcdHfy0HInb+Av1PVkeXI+tMO8wzBFYwdGR59I6Qd9xTNGJ4n2yyVK78nABsmF0wN6P8I/kT3IPJI9d4A8QyrDeYHxwTCBlMGmgisCZYJ1RJvGvkimSh3ItkbhRjIEowRHxs9Gr0WMBmIFgUb8xeODi0N4Qd9BKgGJQq6CrIJFQsJDzARAQ0QDuIQERIxFxUYWRfSFdkPqg3YDy4N1QoFC/gFzQWYCOEEHQIQ/mj5Nvkc+DX2o/bC9Znyv/Jy8tTu2exo6rHqMe7Z737ylfOf8YzyIPMY7+PrG+fL4hjkfuP44z/lf+M55VnowecK6IPrk+vd7B/vaOyg6/XoX+bB6gnqmuMa4m/e19Y01vXYVt0649bkAeyr+JP9DALLB1oHywddC8EQYBWmFOEVuRofGbMSvg6qCrQEHP7k+1T/qABzANEDzgjDCbUIqQgXCAwJ0w90Gfoe7iLOIdogvSLLHFMbJhlWENAPVBJ6FKIW2BOiD4cNOgmaB10KTglqCMIIPgqOC48IoQSUAekAaQH1AnUEKwU0CJQJKQmDCKAG9wVmBjYHjgcqB48FvgIeAhIA/Psm+jj3NvZr+D74ZveQ9jb1tPWQ9pP1ZPSJ9Df1LvaT+OH4n/Z19YTzZvP68zHy0/Hn8PbuLu7J7dfster56DPp3ugX6IHnO+ZB5lvkPuWO6Obnvemn6RLoKuh55qbkguAV3JbcSubs78L0aPs2/jUBfgREBdAIIAiFBNcGcA3cESASjQ/LDGELggY6BGcHAwY2BOMFAwnxDJMMqQkjCqALQgsZET8YwhmGH04hsB/hIAEbEhgTF5cRzxKzFY0U7BNmE2USrxHGD2QOkw8sD1EOVQ86Dn8MMQsOCOAFYwRBA5kEsAUVB/AILgjFBn8FYQRbBGYE0AT0BM4E2gSAAwABoP2i+YT2GvWp9VP3jfhE+T/6Nfuy+p33i/Sk8v3wMPGM82f2mvb79Ub2Q/To8gzy3fAq8g3ymPLk9JX01fNI8ufwkPBL7mDsCezU6unqie2u7ujuRu+M76bwl/BG8OfwN/Kr84L0R/bA9W70ovRG8h3xivDK70Xv0u3J7sDtUe538LrvivN89g/4Dfyq/W7/EADE/7sAWQOUBs8GlAdmCA8LHg2gC/EN7g7nD3gSAxPwFBYVNBX3Fl4W4hQAFbYT1hFuEXEPWQ+wD2gOMQ8wD7IPPxHMEC8RyxBXD54OvAuhCqQKJAkmCAAGGwU2BMICPQHd/0kBsAAVAF0A8f6c/2MAq/+d/5n/zv1r+2H6jfl0+Ob3r/ZA9035ffl/+Zn4hvj3+Z/6q/k899n2qfgO+pT6APph+SH53/Zb9yb44vaH+Wn4t/aL94j1l/T88oLz1/Uq9qL2cfYl+ev4HPag9631l/SQ9X72Nvio+GX6V/np9634f/rl+nz3PvbC9yP5sPkO+v77qvvL+Az5BvjF9uL3B/hL+N/2p/d2+Xb48fiD++77xfpm+1v7cP8tAHX9F/9r/i3+4AByA7ACsgJAA/cBygHFAXoAMQDe/wMBowZqChUJyQiXCJ0HFwnUCL4JTwuhC54NfQ1tDGsMfgoyCI8FewVpBkYH7waZA0sFogb1A04E0AFxAegDxwMvBNUDhwT5AacDowOnAtsF6AKUAM0AIv7a/Xz9jfv4AGABr/7n/en7b/2o/H/7Cv3H/NcAfQPI/wT9Uvx1/FH7s/mQ+0kAlQGe/4j/8P1Z+/n8t/wJAC8AZQABAcb6Afys/gn8Avy//IP9jAEK/Uv6vfu1+kL7+f0S/5j9Fv7y+u73IPrE+if/l/+S/Jn/gf4z/Wz6z/u9/O7+Qv9f/q0B7f5p/u3+K/tS/bf9OPr//dH8vvxP/5QAsv5s/uH/V/yB/JH9Q/wEAWMAV/+EAiT/wP6j/1f+2vxz/Z/+OQFaAwgFZQVvBnsECwBA/7EDXQW1BxYIjgKVBPkASv7x/7f/EQLlBDsFCAb8AxkCnQMtBYYBegTWCGADywZ5BPr/Nf9AA/oH3wf5ByQDRgMOBWn9mv9mAx0BkAhnBisCwgMHApf/3gHDAuT/FgVqBN0AhAaWAPT+WAFGAngDgwD5AHL/CQH+ASEDCv5j/L0BYv/H/poF6P8+BMsFYf3rA4UAQP0+AGsAbQEsBk0DFvsE/i4Alv0BAv/9JADuB1EDTgTYBH3+n//qA04GIAFk/6D9fP8o/uX87QXI+rT9dgIT/H7/FwBA/7gE2wGZ/ooB3QBH/HH+wv8NAasC9vtoALD+ff61BFICUwNSATD9vQM4/3T9L/5t/1//4f+mAzf+VwAF/5j8Lwd/AUT6JAYRAQ7/2wF//+T8pQB/AS790/5S/DkBowKF/IUCaACC+ZQA5QBuAcUANAEPAyX/3QBvAfEBOvx9/MICEQBZAM7/cf3C/179Nv7PA2j96P3WAuH+ZPvwAAQCefyK/dL/1AEcAP32Sv4MAt/9Zf+6ABkBSPyo/iMCywEI+tL78/5p/ij+uQCLABz+vf6WA9gAJ/8lAr77VgOtAL37PgDD/QD/NAPdATv8xfpK/bP4S/8QAvT8sAKUAYkBMAIA/vn/hf92/C0BRALcAgYGq/6+AOEBn/xwAqf/tf05AKH/VABeA/oByvyQ/879BP31A4z+s/9LAqH/XAZbAKP8AgPGAKcEIv07AGcDhPqOAvb9tgEPASb9MQLWBRYECfv0/Z4AOASPAfr9nv5J/pkDAwTdAND90gWz/8j5Xf5q/xUDd/tkBMkDcvy+A4sA2fl/AcwCLvyQ/k37RARnBnf+rv6dBTYF4vo4/B7/Lfwx/AsF8QOoABACjv/X+jv+4AMaAB37lfkvABQGUv19/McEcP5jAG8An/4m/Qv/FgXL/pUCigCtAcwJM/7LAQwEzfbX/+EEnPna/dcD/PmKAhn+oPh8Doz8T/8wCcP76wKF/ywB4wD+AAECeQSYBC38ewLRAFj7VAGE/JT9MAPD/RIHZf24++oKJ/2Z/BoDff84Av8D8QFgAdACwAOh/Rb+8/16//sCTv2p/u/+wwPD+gr/Ewq8+yf/0wOW/2AB7wMX/5n9aQMkAtn/CwNW/KoEvAL89c0D8P2Z/7EAJPwUAuv+lgAAALECJgVr/2AASf3A/5YKdPuK/yICWPzNB272XPwaB335s/xdAZoC7f7U/5H7/f/pACT7UwSo/UAFxASnAY8BBPptA27+6Poe/zQB3QBj/XAAnAM1/lr77/5H/H4CUwOA/Zr8+PzoBYz+ZQC//Nv+Cwiq+48DCwAR/4YEqP2KAR4BXfp1Ayb8PvdUAsP+uv7G/QQEfP5gAQMEdftBBuMExPw1BS0AfP6RBEEAcgQv/Zj9MACyATX9wgHyAYT4AAEC/9QFFP6Y+A4Fev4O/8kEbQD9/pv/oQSTBLL92QHDAhL+DgAmAJAC0v06ANUBpfsz/ej6HgEJ/hEBUQErACQE3fslBbEANQHsBxX9kgTD/xn8dASH+jP8qwXsAF75NQOg/J/+4//O/D0HXP06AYz/4QDU/TUDygSg94z96/8w/9YE7v9Y/WIE8vwlApsBcPxrANAAxwDjBA38TflIApj+aP/v/84B1f+cAoP+GgMi/uL7gwae/q8AEgJ9BkP6aP8s/7b6RwMG/J8FMAEI/X8BjgMI/dsAFgcJ+OcBLAQtAEsCqf6Z+pD/r/3M/jECOPxJBJ3+cQSVAav7Zv06BYX+EvwCCsL8W/3AAL0EM/4HA4j/hfs5BAv9OgB2AzUCDPexBLv/iPzLBpb9xP1g/84D3fzs/WAAJwGbABAGuQfS9s8E8QCo984KNvxsAIEDC/oBBhD97wHs/e34pwVR+/oAt/9u/qsBOf1v/ggBkgPa/MoAFgIcBj79+gO/CC358wIxBIH76fx8B6D++ASH/8n8gAF4+XkE5fyNAgL46gDCBGz/ngZ7/BoJV/Yy/CAGaf7SBlX/U//l/QMB+P9UAVIHFf+O/nEC3fwf/1EDFP/I/Mf/ogRJAGb9iQCXAZf+kQR0AMn8EgCaAdoHdwNn/D36qASO/sYAMAaX+Q/7KQMhBYgC0f0Q+YII3vyR/VUKU/wpAND84/0E/fb78fzsAqsEhgAtAvP+VQKd/38GF/wa/8kGCP0DBQUBlQRl/ZT8RgIl+fb/7f65+88B9vy4ACYCfvxQAnT93wKu/0YAggX/+zADfP/VAfIEfwGYAPb/zQFn/RYBmf4R+7oB//1X/UkDu/wfAxgA8fpdBQf+XvunAVkD8P59BusEJgJOBI36owCRABH+bQAVBOj+c/sCAIT8BQF9AUP85f7OBHn9rP7v/0f8jgVnARf/1wTZ/1L+UAOP/P0ACQJb/RwCiQAZAK79YAT1/db9DwSS/NsBDwCU/vQDigDR+uIE8wHM+yEBM/6eAJf/Ov09/NMCIP/6/+sHUgFnAs/7F/pqAmcBVP3wA23+K/+FAx/43gSq/Eb/cwp5/PwBPv+X/UgCnQB4/KQCEwEJ/A4G/fyiAAsBQ/1eBIn9ygA0/s//XAJj/IoBEgIuAG8BXf/d/H8BoP6b/iD/6QC7Axf+XATG+4v9YASl/w8BD/5h/rv91wVT/WUAaAip+94AFAO7AQsB5gA+/M4CdAGn/BIEgPrOAJf88PxdAn34hgKVADn+GwPsAbkCfgB4AoQBzAE8/i8AegNqAWwDevywAxYA4P+UAun7jP4MAEUDa/4+/kUBBQFi/bkAqvylANwH6/gBA34A+/56B9L/BwOP/0YBVvw4/ikAyP/cAdkCAwFW/Or/3vhyAo3/FAMyBin9vP8m+yUE5QKg/fwAFwMCAQEAQ//N/hYAB/3kAbUCewMLBBH/CPrbACf+K/7KAlT9LQRn/vH6eABoArz/0f6IAz7/wv+W/nj9uf/bAUkCQQITA+P8qACrAHIB1vtaAtEAwvvhA7gBlQItAAMBFgCb/wH8sv9UAYwCOfyz/NcBtvxeAHoDQwCyA9sBzfnPAAMCn/4qAOACj/00/+oCJQH2A27+kvyJ/13/k//KAd8BXf8aAQ4AhQMs/e77QwIs/YEEYv7X+8cF/v6y/r4BwQB4/44CGv0T/bcBA/4l/14Awfz8/8kFTv+RBm/9hPyhBO796AFR/5f/+v6a/lwBWgIdAf7+mALQADj8l/1YAUj/YQHRAC7+PQGn/mj/sAEU/Sj+UgQf/koDLwGO/AwErP6W/voDsfxkAHsDLPtk/xgAj/6wAKT/cQFkATP7mgCBAEr/5v4B/6oCewJk/5sF//8N+9QCMgEgA9T7eQBV/OcAeAES+6ACYP92/04E8P3N/j8Ct/keAS3+CQGUAIEBugB2AZIDQvyk/wP8TABNAOf/uACLAzsEK/6MAFr9LgGWAIj55v//A08COAKDAk/7KAOO/ef+MgJ994UEa/vtAOcBmgCSAgP8pQA3/n8E1PtQ/wT9kAA/Ayb9vQLY/vMETP0T/7z/SvtwAfsCdAL7/n/+GwEIAHUAtv8jAEYAQP9oAE79uwEwAoP/ngDZAAP9Ef4K/KkAFQVM/In+OAA8/8gA8v6FAL0AugGYAUf8Qv9fA0oCFv9RAoH+3gPIA9v6cwGE+/X+YQGV/hgB8P3sAe7+lP6ZApr/af38/38ByQK5AAf8zAACADj/9v9x/VcB3QK//Cr/x/5HArQDGP+YAC8BSgDf+2T/KgHYASUBcAAyABIBq/+b/kf/N/7R/y//kAEKAZf9o/8lAcwAtf5cAV4CG/z0AC8AAwDXAfn/CQCMASQCKfoyAO/9XP7ZBoH9Lf86A6L+C/7rBK//ev/qBDf6mwCGBEz8RANzANr8VwOS/Hz9bQCK+xwDOwRc/5z/EgHrAVH9YQGF/rsDbQIB/NUB8f4tAXQB6AA5/7oC5fsf++sDCv7v/4gDwf30BOsB+/ovAtf5Yv0ABUIA9wC9BBgB4/8sA+P//P8LAnP+l/5cACf/6QP7APn+tABd/K4BwfzC/eH+IQBsAAP/hwbUAAMEyPvC/+r92P9iBXT9PwN7+3EBdwbQBPz+4v9r/wf7sgFK/iEAwwFSAQoCZwDiAaD/zftZ/L8AtAKuAh/98v5WBi3/QAG6/iv/YQIGAKcFhf/j/m8DUv8F/kX/HwBMAgQBdf1cA1ADN/3D/035yANKAmn6FAP7/+cDPwNhAmj8fv51BkMDlgE2AXQAdgCN/SEAbgEpAbwAo/kXAgf8nvy1BSz7kQBWBDX/UASe/NAAXQdFAGYEiPvN+08EVwHnAVUETv7IAWkDPv/J/kb6rv8dAV8A4wKG/z7/2wB/AeABGP67/m78Pv+AAk4CswJZAwoEGwGq/oL/pf4j/jIFxQA5AzP/iP7xA7H9nQGRAr/+9v7t/RL/aAOX/bwAjAEc+zoCdf+7As4G6v3oBDX93PwzAhcAEQXC/h8CTf7N/8MBF/4/AzUA7P6iA2T80f/EAGf7tQef/nX+lAUjAkn/Bvyb/WkBAgEF/3cDGAPF//cDLAHr+zL/LP1lBCYCuPsWAsD/WQCoBJEB+gCv/078L/9PAfv/NANBAdcAEASK/If+mAFZAGcBLQG7/fsAewMu/7j+o/y6/+7+0AOfBd8Akv8V/sH/0P6U/rUCiP+8AOICH/4fAmEBygEXAxEEAf6j/XH9qPyRAoIAUwVLAbn7/v2v/Jf9iwCIAb7/ZAJhAND9FAPSAc4CCQLF/ncA/AGf//z+LP5z/TgD1QFqBCcCQPx6AMz7VPi0AhgC5ALEAv36AQGV/cf+MAWgAxMAkQDB/yz9vP1o+7b/uAG6AZMCgAELAGX/XAKZAdr+8wA7/3/+FAI3/5AAhP7P/PwBH/6fAWQCpP8Z/Sn+UQJf/5QBEAAeAIUBnP9ZAMYBmP9v/y/+jP6tAdn+fAHHA3AAz/4rBOz+cfyfAOf5J/9ZAnYARALwAZX+UP7q/6j78wDPBKn+2ADOAUb+pAIs/sf/ZQHb/NYExQA5/04ASv1E/j8BrgCVAogCF/06AJ794wBJ/9f+ogCGANoB5/xY/4v+iACqAV4BeADIAPP+t/1XBJ4C+QNYAvsAD/1J/YgAOf0KAsf92wBuAZD9SP5Z/dUAHP6X/04A2wA2AigAGgHBAEwBGAMWAVMBqgA8/ycBaf6zADsECv9U/mkAqvz5/9v/qP15APb9sP67/6wAvP6UArUBDv8t/9X9jwLU/gsDnAL+ADgBeP/+ACL+AgGz/0cDhAGU/mYAoP37/WX/VwItATACLf64/dv+M/0S/rX9XgBw//AC+/89ADoDKgCvAVH9CP9K/yb9yAPyAsgC6AOj/2sAKf8M/nb/av7n/7P+3/+GAZL/fwDo/wv9afxa/rP+RAA8AXEAPAG2APoAqAC7/i0EaQII/wIATfsG/i8DlwDn/2wBB/8WAWcBXv+r/hX/7P5b/z7+qwBXAH78lv8T/vIC9AI0/nYB9v4ZAXcAuv2PAjr/LgD8AOP8jv///9T+0AHw/uP8m/79/ggDPALpAGwB4//7/dj+HP8D/ocBDP+LAYMDav3Z/8n7uv0RAwYAPAM3AXP9Nf/u+2r9SQD3/noC2gA2ADsCdgBK/wT+zf5H/joBav8Q/04DYwBsAer8zv2S/jH8w//l/rsCzgIl/qACuv+X/msAjfwf/qr+FgOTA3gCLAAj/kX/qPvi+9P/wAAiA8cC0wBcAZb+GP3I/Ef9N/8NAuwB8f8S//b+AABC//f96wAjACz+DgHhAPcACwJJ/wEBvwKy/VD+Y/3Q/KEBRAHA/2r/uv/F/yEAuQF2Adf+V/0V/cP9IgFIAWoBtwFU/sD9V/8uAeMAlADuAXsBEgAk/wL/hQCbADv/LAIfAN/9T/5p/ZP+wf4sAPYBjQAHADoCzf4r/sf/tf7xALwBHwCNAccBc/8NAGwA2v5Y/soA4P9oAMcBDABj/0EAbQDFAuoCrfts/ff+i/7bAScCmQKTAUf+If5w/gH/ZQAjAAgCOgGVAI4A/f2m/8cAQgLLA5z/uAEFAU3/8v9m/RT/cQAfAIcAJQBX/0YAiP9k/6n/4/6c/7gA4v9rALgB/ADlAFQB+/3A/6n/X/1XA/AAWAHTA2f/cAG3AHH+WwHV/6IAPf9p/rsA9vyq/+cA8/7UAZj/jf8NAI/92wB3ACsAxAFcABED4AG6/gQAWP36/4QCDwEMBJcBSAArAVP9wf5SAOUApQIDAKAAUgGB/X39N/9q/j0CUwJHAQIC5/4h/+n/8v79/w4BWADSAHoARAD3AFz/P/4P/wcBuAKtArsDIQHj/68Aqf6z/+7/VP+6/4v+/v6rAMf/8QDsAEQAngCL//QAh/+u/2EA2/8dAscAdv6S/7X+Vf9iAfb/AgEOAVsAUwEfAdUAlwG1/3D+l/7E/l0AJQDtAcMCN/8kAPsAiv9+Af8Afv8yAXoAzv1eAJv+lf2pAGcB6gAEAqoBA/8vADz9X/4KAb0AhAKxAgYB9QD7/739+v3J/eL/vgGzAZADlgKqAKn/1v2D/lD+kP8VAOn/nwE7AfD/NAFU/jP9Yf9N/lkBhgH2AT8DLgLSAUcA/P+2AIL/U/6DADb+Xv4aALP9SgFiAZEAQALQAMb+jf4j/oD9sP5o/9QBiQJcAd//pP7J/g3+2f3x/4QCmAI/BKwD9wB4Acz+m/2r/mz+GQA2AM0ABQPTAfoAKwAeAGMAdf5c/mT/Kv7L/RL/Zv8iANf/MwHyAAr/3//m/8YAmQAAAYEE7wOaAS4Bo//N/wz/o/6zAZsB2QHFAab/U//i/g/+mf+X/yL/zf+Z/hL/Rf8Y/8z+TP+4ALIB6wFXAckBewBfADsAdQC9Ae0B3gIlA0QC9/+DAHr/df5d/53/jwAaAFQAzgARAa3/R/5I/p/9mP2+/r8AdQGIAXMBXgALAPn/EwCzADQB/v87AZQCdwLqAi8CfAE/AF7//P40/2r/cP+x/2H/iP7T/hgB9gBR/4r/vP/D/2v+m/5y/14ALgHVAHECaQMAAowBNAH2/oIAPAB2/xQBhwCkAMH/pP9Q/9b+6/7J/fv9Sf6Z/vj/4wFlAiECagI7AIX/iP++/iz/uP9DAGYAggH6AfwB8gGRAaYA9P89/4H+Zv+f/5f/PQFTAbb/ef8O/9f9dv6C/pH/rABW/1EBHAIjAl0Bi/9GAO//Q/9OAKoAPgEnAtwBuwFRASUAa/8c/3/+i//n/1r/KP90/+b/GgC5/tb+9P8o/x4ByQBwANgBIgAlARMBTP9JAEQA+gDUAI4ApQAlAIn/F/+c/yoASAD0/2EApv+a/9H/ff6M/l//EwBuAZUAogCvATwABAAPABAAaQFlAFkAuQDj/tT+I/4Y/pv+d//3ALkBygDV/2gA0v+p/5v/av+SAIQArv+pAAQBLgDM/+b+yP5C/9v+SAAGAVIBygC1/8T/AP4X/lj/Vf93AJsAsQDbAYgArf+K/zr/MP9N/9v/cgBfAUkBAQA3/5T+Tf49/p/+gwBuADAA6P+n/2QAEgAfAEAA/v9+//7/qQAVAAgAJwAfAEz/mf/Y/7L/IQA3/zIARv95/jf/aP8VAOj/BgDx/5r/Pf8sANf/9f70/h3/TABfAEUA9gDTAMP/b/9U/1L/uP/c/4IAwQDUACAAQv8T/8b+fv67/j0AIQBKAHsAwv8kAJz//P52/3j/jP86AOj/cACRANP/UgAoAC8ABgE+AJv/8v/k/s/+V/+Q/zMAt/+J/+v/Rf+H/lT/8v9t/9H/lAChAE4ASwDCALQAKAAnADMAAACg/2EACwE7ABEADwB+AGL/Uv6G/3j/7/5u/9r/DgBUAOr/NwDx/1T/FAADADwA5ABnAa8BpwAVADkAx/+W/wAACwD1/53/OP+W/0D/0P6L/+f/7P/p/8P/NQB0/w7/+/8qAI8AgACRALYBZQGGAKQAGQDM/2//P/+R/1z/3//m/6b/x//h/ykA7v9u/47/3f+W//H/dAC3AHwAtv+p/5f/r/+D/5P/8f/R/xIAov/v/wEAoP9GADEAfQApANn/3P8W/3f/yP/a/zQAPwBqAGUAAwDc/1r/3P4L/z3/l/++/zEAmAAvAN//j/+Y/8n/uP8fAF4ASwBLAIoAiQD6/xL/Yf+L/9v+k//0/wAAGwBp/5b/7/87/4v/1v/2/+f/nf/k/yAAtP/L/zoA2f8PANH/MACRAKr/1f+p/0H/AADx/ywAZgDz/7z/kP8y/yv/mf/7/2MAWACKADMAdv/7/jr/lv/H/0kAXQB0AEkAz/+2/4X/Uf+Q/7v/CwA2ADMABADw/6z/jf+V/0//M/+Q/wgAPgBkAAUAwf9G/0n/Nv81/5j/+f9bAOf/nv/G/3r/B/8D/3H/7f/1/xoAQQBiAB0A3v8NAOf/u/8qAA8AEwD6/7L/PAATAMD/wf/Z//D/ov+L/6X/Of8s/17/wP9mAH0AlwCpAEYACwCX/zf/Qv9c/+T/WABpAGcAGQC0/3n/IP8u/7n/5f/Q/xsAWgBEAB4A7f8CAOj/b/+e/+D/1/8AAEwAfwBoAPv/AAASANn/8P/V/wEAyf9Z/5j/pv+2/8n/8P8kAAAAvv+w/+j/u/+z//n/5P8LAAsAAgALAL3/g/+i/4j/ov8GAEkAiwB3AIAAaQAqANr/6v8iAEQAOQAZAA0Axf+e/6L/EQBFAHoAxgC5AJoAPgDY/6//nv+u/x4ARgBWAKYAXgA2ACYADAAYACUANQBgAIAASwAxAAkA2v+t/87/7P/3/xwADwAWADAALgBjAHoAXwBXAEYAVgA0AP7/BQD4/93/CAANAP7/RAByAIIApABvAGAARQD4/wAAFQAdAAAAHAAwABwAMgAsACEANAA3AGkAhQBVAF0AQwAbAPz/tf/H/+j/2/8GAEsAUgA6AB8ACQAeAAwAKABSAG4AcgBeAEsA/P+u/6b/3P8CAEIAkgC1AIMAYAADANP/7v/W/yYAiQCcAJwAcQAeALb/eP+Y/9v/OAB9ALkA0ABkAPr/0f/P/9r/4P8uAD8ANwBDAAEA0f+q/4j/xP8OAE8AgwBsADoA+//L/7v/v//t/yAAIQAiAAMA7P/Y/8b/5v8AAB0AMwBcAEgAJQD3/8f/v/+m/+b/MABTAFwAWgBHAAkA4f/j//X/9/8OADIAOgApAP3////p/83/9P8AABQALgAuADAAGgD//wAA///1//L/CAAWABIADAD8/wYA9f/c//3/9//6/+//5/8HAOz/4f8EABgALQAZAPz/DgD5//X/+//s/+7/zv/d//j/9f8SAAwACgAHAO3/7P/n/+n/+v/6/xMAEwARABYABgAUABAABgAZADUAOgAhAPP/8f/V/8X/xP+9//D/7f/2/wEA//8cABYAGgAWABIAMgARAAYAGgAVABUAEwAcAA4ACwAGAP7/AADv/wAAAQD8//T/4f/s//b/9v/2/xcAKAARABIAKwAzABgACQAIAA4AEwADAC0AJAASAB4AEwAsABAAFAAyACcAKgAaABYAHAAVABIADAASACYAJgAoADwALAAaAAgACwAnADUAWwBoAGEAWQAyAAYA/P8WACkARwBmAGMAVwA+AC8AEQACAAcAJAA/AFYAaABZAGEASAAhABsAHwApAEAASgBfAG4AVgA5ADAAKQAhACEALABDAB4AGwAZABMAIAAsAFQAWwBhAFsAVQBFABcACQAfADIANwBBAEQALwAXAA8AFgAjADMASwBaAFcAQAA2ACUAEgAXABQAJAAjAC0AKQAlAB8AGwAzADAALQAkACMAKwAkAC8AQgA2AEMAPABIAD8AKwA1ADkAKgAlACsAKgA1AB0AGwAMAP//7f/f/+//6P8FAAsACQAiAA8AEwATACUALgAcACYAJQAiABsADAAAAPD//f8KAAEABQASAA8AAwAAAAYACgAAAAAA+f/+/wAA+P/y//L/9//p/+f/+v/9//b//P8IAAMA9//3//L/8v/3/wMAAQD2//z/9f/1/+z/4//t/+n/6f/f/+L/5P/i/93/2P/g/9j/2f/V/8n/xf/V/+D/5v/s/+H/2P/T/8z/1v/f/9D/0P/P/9j/3v/t/+j/2//c/8v/wf/B/83/xf/L/8b/xf/L/8f/yP+8/77/xv/R/9T/zf/e/+L/2//d/9T/z//P/9j/xv/Q/9//1//s/+n/6v/c/9P/0f/B/8j/y//W/93/1v/b/+T/2v/S/9j/2f/Q/9f/1v/Q/9X/3//q/+v/4v/H/8X/z//h/+z/+v8AAO7/6//i/+r/4f/i/+v/8v/v/+b/7f/Y/9X/4//o/+X/3v/b/+T/7//m/9z/4v/k/+f/5//d/9z/2P/c/+D/6P/0/+7/7f/z//T/6v/v/+3/4v/k/+z//f/0/+3/+v/5/+z/5f/q//L/9v8GABQAEwAJAPX/8v/7//z//v8HAA0ABQADAAIACwAcABIAGQAqABwAEAATABwAFwAYAB0AIwAaABUAFAAOABIADAAaABcAJAAiABUAEwAYACIAHwAsACQALQA8ADkAQABDADkANwA0ADYALQAvADcAPABPAE0ASQA6AD8AOAA4AEkARgBPAD0ALAAVABkAGgAXADEANQA1ADAALQAxACgAJAAyADQANAAxAC4AJAAnACgAKAAuADEALwAuAEQAOQAyADgAQwA7ADYAOAA4AEEAOwA9AEAAQQA4ADcALAAkADYAQAA8ADwANABFAEIANwA4AC8AQAA6ADMAOgA5AB8AIAAsADMAPgA6ADsAOwA/AEcAPwA1ACkAIAA3AD4AOgA8ADkAPQA7ACwAHgAjACYAIwAvADAAIQAPABcAFQATABoAGwAtACwAKAAlACIAKAApACgAOQAxADIAPAAoACwAJAAYABoAKwA2ACcAJwAgAB4AJQAjAB4AHgAoACoAMAA2ACsAHgAlACEAFgAhACIAHgAeACIAIgAcACIAHQAcACsAKQAyACcAHQAXACQAIAAaADUANAA5ACwAMwArACMAKwAdAB8AIQArACsAJgArACAAKgA2ADcAMgAyAC8AMgA6ADoAPwBDAEcANAA0ADQALgAvACkAJAAjACYAJgAcAB4ALQAyAC4AMAA1ACUAJgAoACgAJwAsAC0ALQA0AC0AKwAmACYALQAnACkALAAsADMAKQAxADQAKQAyADQALAAuADMAOgAxADIAMwAvADcAQQBSAE4ASABOAEsASQBLADwALwAqAEAAQQA/ADwAMgBFAEIATgBJAD8ARQBBAEUAPABAADwANABFAEUAQgA6ADIAMQA1ADIANgA5ADcANAAvADEAMgAyACUANgAxADAANAAgAD0APQAxADoANABGADoANgBAADgASQA1ADIAMwA5ADUAKgA5ADgANQAkACoAMwAlACcAJQAmACgAKAA3ADAALQAzACkALwAzACwAMAAzAD8AOQA8ADcAOABCADMANAArACIAKQAyAC8AKgAbAB8AFwAWACEAHQAdAB0AJwAeACAAHgAQABUAGgAYAA8ADwARAA8AHAATAB0AEwAMABMABwANABAAAwD5//3/AgAAAPn/AwAEAAkABwD7//r////+/wAA9v/z//j//P8AAPr/AAD9//b/BQACAPT/8v/u//X/+f/3//f/9P/v/+r/2P/f/+H/3P/j/93/2f/g/9T/1P/e/9b/1v/S/9r/0v/S/9P/1v/b/93/3v/c/+H/3f/k/+X/3//k/+L/4v/n/9n/1P/M/8r/yv/M/9L/0P/O/9L/4v/Z/9T/zP/D/8P/zf/I/8v/0f/I/9P/1v/X/9L/1P/Y/9T/z//L/9D/y//A/8L/w//M/8r/xf/G/7//xP/I/9X/zf/C/7z/vv/F/77/sv+1/8f/v/+1/7H/vf/J/7f/vv/F/8n/x//A/8f/sv+//8j/wf+//7D/u/++/8r/yf/N/8X/uf/M/8X/wv/J/8j/tv+7/7//uf+z/7b/u/+5/8T/xv/N/8H/wf+7/7b/u/+x/8X/wP+8/8r/xv/F/7v/yP+2/7j/yP/F/9D/z//I/73/0P/T/8z/x//H/8f/tf/B/8D/v//D/7z/v/+7/8n/v/+//7n/wf/M/9X/1P/H/8n/vf/N/8j/z//V/9f/3//c/93/4v/U/8X/0f/Y/9P/1//i/+f/4//Y/+L/3f/b/+n/6//W/+L/4v/l/+r/9f/4/+7/+f/v/+X/3f/o/9r/6P/1/+v/8P/v/+n/8v/3//v/8//q////9P/t//n/AAD8/wAA9f8CAAoA//8FAPn/+//t//L/9f/0//H/6f/z/+z/8P/w//P/6P/x//3/7f/s//P/9f/6//X/9f/9//j/6//d/+7/AgAMAAAAAAAKAPr/8v8AAP3/AQDy//v/BgAAAPv//P8LAPz/AQAFAPz/+//8//b/BAACAA0AEgD1//z/BAD5//z/+v/3/wsAAwAAAAgACQACAPz//P8AAAAA8P/u/+r/7v/r/+T/+f/z//b//v8AAPf/8v////r/9v/5/wQA9v/y//z////5//3/AAAAAPX/8//y/+//+P/5//z/9f/5/+7/9P/y/+3/9//z//f/8f/3/wEA8P/4//7/9/8BAPb//v/+/+//+f/x/+7/5//p//X/9v/3//n/+f/4//H/9P/5//X/7//0//f/8f/p/+z/8P/y//3/7/8AAPL/9P/y//T/AgDx/+//2//h/+v/5P/i/+f/5v/r/+r/+//3//f/9v/m/+T/8f/q/+P/5f/k//L/4//o/93/5//u/+T/7//5//P/+P/9/wMADwALAAMA+P8EAPn//P/9//3/BgD+//v//f8AAAAABQAFAA8AFQANAAsAEQANABAABwANAAwADQAMAAUADgAIABAACQAPAB4AGwAfABUAEwAeABMAEwATAA8AFAATABAAFwAbAAwAFQAZAB8AIwAZACcAKQAnACsAKwAuADIANwAyAC0AOQA7ADEAMwAxADEANAApAC4AQAA/ADwANwA4AD0APgBFAEsAQwBDAEIAOgAxADkAPgAyAD0AQABDADUAPwA5ADQANQA0AEQAOgA+AD0ATQBVAE0ATwBTAE4AUQBVAFkAVQBTAF0AWgBRAEgAUwBLAEkARQA9AEQAQwBAAEMASwBMAEcARQBAAEcAQwA6AEsAQQBPAFcASABNAFIAUwBHAFMAUwBPAEcASABJAEcAUQBAAEgAUwBZAE8ATgBYAEUAQABCAEUAUQBXAFsAUABIAFQASAA/AEAARABMAE8AUABRAE8ATwBAAEkAWQBTAEoASwBOAEMARwA/AEcAPwBBAEgANgBKAFMATQBQAFEAUwBUAE8ATgBTAE8ATwBVAFMAWAA7ADsATAA9AE4ASgBLAFIATgBEAEcASABCAEQARQBBAEQAUQBJAFEASQBRAFMAUwBRAFQATABOAFYAUwBXAEoATABLAFQAVABUAEMAQgA9ADYANAAzAEIAOwBFAEoAPQA1ADQALQAyADkAQAAvADYANAApADgAKAAyADYAMAAwADMAMwAtADUAKwAhAC8ALgAwAC4AIwAnACUAIQAdACwALwAtADYAQAA3AC4AMgAtAC0AKQAvADIAKwAtACYAEwAVAB8AHAAkACwAJgAiABYAFwARAAsAFQAOAAkADAANAAkABAABAAsAEwAVABYAHgAmACoAKQApACAADAAQABYAGQAfABQAFQAeABEAEAAMAAwAEgAUABYAFgAgAB0AGQAwADAAKQArACIAGAAcABwAEQAYABYACQANABQACwAHAA4AEgAdACgALAAhABsAFAAIAA4ADAADAAoAHAASABQAFQAQABkABgAGAA0AAQD7//j//f/2//b//P8AAAwACwAIAPr/AgAJAAEAAgD4//b/+f/8//z//P8CAA8ADwAMAP7/9//7/+T/5P/0/+v/7//3//T/8//z/+//7P/x//j/+v8AAAIA/f/5/+7/6P/u//T/9f8CAPz//f8HAP//8//8//7/8//7/wAA8v/5//v//P8KAAYAEQAJAAwACQD6//T/6//t//P/AAAEAPn/+f/1/9v/1v/a/9j/1v/V/9j/3v/Y/8//z//H/8L/1P/X/9H/3//d/9z/3P/a/93/5v/y/+3/5//p//H/5f/i/+D/6P/g/9H/1//Q/9X/1P/d/9z/3//c/9z/2f/L/87/zP/S/9j/4v/k/+P/5P/W/9D/1P/P/9b/2v/V/8X/vv+9/8X/yf/S/9f/x/+8/7n/wv/F/9L/yP++/8f/xf+2/73/wP/D/8v/vf/F/83/v/+7/8P/w//J/83/wv+5/8D/yv/A/7//0P/J/83/yf/E/8f/0v/l/+r/8f/v/+3/5f/V/8//2v/r//H/6P/s/9v/yP/G/8T/0P/T/83/z//Y/9L/y/+2/6z/xP/E/73/xf/I/8v/xf+5/73/uv+v/67/q/+n/5f/jf+U/5P/l/+p/7H/sv+7/7X/pv+k/6j/pv+z/7n/xP/I/8T/z//J/8f/wf/F/9T/5P/s/+r/1v/M/8v/vv/S/9v/0v/i/9z/y//N/8r/yP+6/8X/zf/O/9b/zP+5/7//y//C/9L/3v/o/+P/3P/R/87/0f/N/8n/wv/K/8L/vP+6/63/uv/K/8//3//k/+f/1//V/+D/6//q/93/5v/i/+b/7f/q/+f/4v/e/9r/2P/U/9P/4f/j/9f/4P/Z/8//1f/W/+D/8v/z/+n/5v/p/+3/+f/8/wMACgAQABYADAAAAPn/AgAAAPr/9v/5//7/+f/s/+L/6f8EABMAAAAVAB4ADAANABgAJQAyADUAOwA3ACsAHgAKAAkAEwAmACsAMwAuAC8AHQADAAcAEgAaACQAKAAnADEALQAvACwANwA0AEMAUQBHAEEAOwA2ACwAQABRAFAAWQBdAFwAYQBRAEsAOQA2AEEAQwBJAEkASAA8ADkAOABDAEsAUgBWAFQAUgBPAE4ATwBZAGUAawBuAGUAXQBZAEoAQABEAEsAUABVAFwAXABeAGcAbwB3AHkAjwCUAJMAigCBAG8AUABDAFEAXABXAF0AVgBgAFwAVgBWAFkAZABUAEYASgA+ADcANgA5AEkAUQBVAEYAOAAxAC0ANQBIAE4AVgBNAEoASQAtADIAMgAvAC8AQQBOAD8ALwAaABwAGwAiACwAMgA+ADEAMgArACMAGwAeACgAJgAhAB4AKgAbABoAEQAQABcADwAVABwAGgAaABQAEgAmACcAJgArADUANQAhABQAIQAqADkANQA1ADAAFAAKAAAACAAUACIAKAAqADIALgAmAC0AJQAgAC8AKQA4ADoAMgAtAB8AKgApADAAMwAbABkAFwAFAAcACwAWABcABQAFAAQAAAD3/wAACgAQAAwABQANAP//+P8DABIAEAATABkAHQAUAAQA+P/m/+T/2//j//D//P8FAAEA+//w//X/+f8DAB0AMwBFADcAJAAYAAsAGgAVAAoAFAAXAAgA9//p/9r/4//x////9/8FAAwA+//7/wIAFwASACAAIgAXAAAA5//d/9//8f/z/wkABgD3/+r/2//b/+L/+f8EAA4AFAAJAAIA/f/s//n/DAAcADMAKQAjABEA/f/5//r/DQAWAAsACwAFAA8AAwAAABMAEwAmADQANgAfAAYA+v/0//v/EAAsACwAIQAKAPv/4P/R/+D/+f8aADQAOwArAB0ACAADAAEAEAAoACMAIAAQAPH/6P/t/+//AQARABsAHgATAPv/5//w/wAAEwAhAC4AIQAHAPP/6v/5/wUADgAKABYAFwACAPX/+P8BAAUAGQAWABgAGgD+//f/7f/y//b/BgAfAB8AIQAXABEAAgD0/wAADgAcACMAFAAEAO//2v/d/+b/7P/1//f/8v/u/+3/7P/q//n/EAAhACsAJQATAPn/7v/p/+n/9P8EAAEA8//u/9f/1f/l//v/DwAHAAAAAAD0/+b/6f/m//L/DAAOAAsABgAAAPv/5//m//n//f8NABgADgANAAYA7v/2//j/7//4/+z/8//t/+P/5v/b/97/2f/f/+D/5P/3/+r/4P/h/9T/1v/j/+3/9//0//f/6v/T/9H/0//Y/+X/5f/l/9n/v/+6/6z/rf+//9j/+f8JABIA/v/W/8//z//e/////P/9/+z/zf+//6n/p/+w/7j/0v/e/+T/1v/B/7H/sv++/+D/BgD///z/3//M/7T/rP+0/8P/4//n/+z/z/+k/5r/mv+k/7v/yP/R/7//w/+s/5H/oP+s/8L/1f/z/+v/zv+0/6H/pv+8/9n/7//Z/8T/rP+G/4z/mf+q/77/yv/I/7z/s/+U/4b/hf+T/7L/w//d/97/x/+5/7D/rP+6/8n/3P/f/9D/t/+L/27/e/+X/5z/t/+8/7X/oP+H/3b/bv+S/6//xf/f/+L/tP+a/4f/Zv9h/4P/qv+5/7T/l/+J/2r/ZP+D/53/t/+4/8L/sP+W/5T/jP+X/53/rf+9/7j/oP+M/4X/gv+S/6r/yv/V/8j/tv+T/3//hP+V/8D/0v/X/93/uv+n/5H/j/+W/5f/qP+4/8T/s/+r/5T/mP+j/7T/2//a/9T/xv+u/6D/pv/F/9z/5v/k/8L/uv+h/5f/r/+w/8r/2P/S/8f/xv+u/6z/v//F/+D/3v/Z/9n/zP/C/7j/zf/c/+D/6P/H/7T/q/+u/7D/wP/W/8//4v/R/7X/vv+5/7j/xv/M/9r/3f/a/9j/wv+2/7T/sP/G/87/0f/U/83/y//N/83/0v/i/+X/+f8DAPj/1//K/8P/0//5/wAACwAPAPn/8v/o/+r//f/7/wUAAQAEAPT/8//x/+b/+f/7////CQACAAMA8f/i/+T/4f/u//7/+v/q/+7/4f/j/9T/0v/g/+D/7f/k/+L/1//C/8j/xf/S/+b/+f8DAO//5//Z/9X/1P/v/wsAGgAgABAAAQDu/+3/8f8CABUAEgAFAPb/8P/s/+P/4v/m//b//v8GAPb/4f/u//P/+P8IAAwAGAAWAAEAAwD5////AQD4//v/+f/w/+//6f/h/+b/7f/p//T/8f/l/+z/5P/t//z/HwA0ADUAKgAbACAADgAFAA0AEwARABkAFgD8//L/7f/n//n/AwAOAA4ADQARAAMAFQAZAB4AHwAbACIAGQAPAA8AHgAdACAAEQAAAPX/8v8IABIAGQAYABoAEgAAAO//9v8NABUAKgAqABwADgD///b/BQATACYAMgAzADEAFAD///n/EgAnAEUAQgA7ADAAKwAgAA0AFAASACoAMwA+ADIAHwAGAP///P/+/x4AGQAbAA4ACwAAAPb/AgAFACAAKwAxACgAGQANAAQAFgAcACgAMQAgAAsA7f/o/+j/5v/8/wQAEAAKAAwACAADAA8AEwArACsANAAyACEAKAAkACEAIgAtACwAKwAsABoACAAIAAwADAAXACEAIgAhAA8ABwAKABMALQA8AE4ASgA4ACEABQABAPP/AQAiACQAIgAZAAIA7P/3//v/AQALABMAIgAWAB4AHQArADcAOgBDAEMANgAVABUAFgARABcALwBBAEoAQAAwACgAEAAUABgAKAA1ADwAPQA7ADQAHQAmACMAJwA4ADoANwAmABQACwAHABUAKAAtAD8ANAAZAAsA+f/t//D/AAANAAcAAAD5/+T/7//v/wQAFAAWACoAEAAJAPf/7P/5/wYAIQAmAC0AKAAeABoAFwAYABcAHgAkABwAGgAXAAIA8//1/wUAFAAcACAAHwARAPr/+f8DAAsAHAAjACUAIQAmAB0AFwAUAAIABQABAP7/+v/z/+//5//2/wEA/f8YABsABQAQAAoADwAcAB8ALgAvADEAKwAcABkAGgAhABMAFAAIAPL/AAAAAAMADgAMAA4ADQAKAAQA/P8IABEAEwAaABEACAAEAPH/8P8CAA0ADQALAAQA7//o/+z/8f/9/wsACwAGAP3/+f/z/+b/+v/1/wUAGgAPABAAAADu/+b/8f8AAAYADAAHAAIA8P/c/+D/3v/s//r/AgAGAPv/7//i/93/3//n//P//f/3//P/7P/l/+7/9f///w8ACgD8//T/6//0/+//7//7//7/AwAAAPf/+f/4///////z//j/5f/u//b/8v/5//f/AAD8/wwACQD9/woA/f/2//v/+v/1//H/7f/m/97/3P/b/97/4//j/9T/vv/M/9z/5//z//H/7v/u/+P/5P/n/+H/6P/t//H/5//k/+3/+P/p/9//4P/V/9r/2v/b/+T/7P/y//b/7f/x/+v/7f/5//r/AQD5//P/8v/z/+3/9P/9//r/8v/v//D/7//v/+X/5//m/+X/4P/t/+r/7f/t/93/5P/Z/+X/5f/i/+n/6//4/+3/4P/j/+n/7P/s/+r/5//R/8z/1f/W/+L/6P/s//X/6P/d/9r/2f/l/+j/8//w//D/8v/t/+v/4f/4/wEA+f/x/+j/4v/V/9j/6P/f/+r/9//q/+j/1//S/9r/3v/l/+r/6//j/93/3v/o/+n/9f8EAAQAAgD5//r/+v/1//j/9P/q/+n/8f/s/+3/6f/c/+b/4P/k/+//8f/7//z/+P/z/+f/1//Y/+L/6//1/wAA+v/p/+H/3f/e/+b/5//m/9n/0f/M/8L/x//O/93/4f/m/+j/5P/q/+D/1f/j/+b/9f/6//7/+//v//X/6//s//j/+//+/wEA9P/s/+j/4v/S/9z/+f/5//b/9P/x/+b/4P/e/9v/3//s//D/9//y/+f/4//0/+v/8P/8//P/7f/r/+f/2P/n/+L/7f/x//X/+f/m/9z/1//L/9z/3//k//H/6f/y/+H/3P/d/+f/8v/7//X/8P/d/9r/6P/n/+7/8f/2//L/8v/q/+3/3f/K/8v/2//a/83/2P/f/+D/5P/a/9n/2P/b/+L/4v/u/+P/2v/I/8j/u//O/9j/1P/i/9D/x//C/7z/w//T/83/1//M/8L/xv/D/83/zf/W/93/1P/N/9L/x/+8/9H/2v/b/9L/2f/p/9f/7f/t/+D/6//j/9v/5P/k/9z/7P/n/+H/5v/h/9b/2f/n//P/+v8AAAoABQD1//n//v/9/wcAAAD5//f/9P/r/+L/4v/u//n//P/+////BAD1/+//8v/p//X///8GAAUABgABAAEA/f/4////BQAQAAgABwAFAPz/7v/k/+//AQAFAA0AAQD1//f/7//z//T/BgAlACAAHgAZAAsADgAMAAkADgAWABUAEgAIAAkAAwACAA4ACQATABEACgAAAP/////1/wgAFAAMABMACgADAAkAAwAGAAAACQAMAA4AEQAEAAgABwAIAAsADQAKABQAGAAQABUAEgAaABMAEwAVAA8ADwAIAAwACgAFAP//9v/7//3////+//7/CwAMABEA/f/4/wYAEAAZACAAIQAbAB8ACwD+/woAEAALABsAHgAPAAMABgAEAAIACwAXACEAHgAfABUAEgANAA8AJQAzACgAKgAxACYAKQArACUAKwAuADIAMwAyADYALgAzAB8AHwAkAB0AGQAUACgAMAAuABsAFAAPABcAGAASACoALAAgAA8A/f/6/wAADAAWAB4AHAAMAAMAAwAFABcAJwAqADAAMwArACQAIAAeACgAKQAnACIAJAAkABgAIQAhAB8ALAA4ADkAOQBAADoAMAAdABEADwAbAB0AEwAhACIAHQAWAAkAAwANABcAFQAnACUAIAApACUAHgAZACAAHAAWACAAHAAZACMALAAuAC0AOwA2ADYAQwA2AC4AKAAlACoAOQA0ADAANgAiABQAFQATABkAKAA1ADEAIQAiACEAJAAiACEALwAsACkAJgAfABwAGgArAC8AMAAxACwAJgApADEAHgAkACkAJQAjAB8AIAApACgAJAAiACAAIwAnACgALQAzADAANwA1AC4AKQAwADMAMgAzADEAJQAbABcAFgARABgAGwAbABUADwAIAAIACQASACMAGAAkACgAKAAoACoARgA9AC4AKQAoACYALQAyADUAPwA9ADwALwArADUAJwArAC4ALwAwAC8AMwA2ADAALAAxADAAOgBEAD8ALQA9AEMAOAAkACAAJgArADYALgA1ADYALAAiAB4AIQAlACUAIAAuADUAKwA0AC4ALwAxACoAMQApAB8AIgAhAB4AIQAhACsAKQAqACYAKQAuAC8AOwAkACgAQQA0ADoANAArADYAKwAeACMALwAsAEsASgA7AEUAKwAoAC8AKAApACoAJgAqACMAJAAkABcAFwAEAAcAEgAXABMAEwAVAP//+v8EABAAEwAZAB8AJAAjABwAGAATAA0ACQAaAB0AEQARAAMA9////wYAAgALAAwA/v8AAP//AgAHAAAAAwD+/+v/6//w/+v/5P/k/+n/7P/2//v/+f/m/+X/4P/b/+P/5f/k/+j/7P/l/+z/6v/e/93/5v/u/+n/8f/x//X/7//m/+r/7P/3//n//P/t/+7/6v/n//D/8f/5//r/6f/w/+3/6v/z/9z/4f/u/+7/6//4//b/+f/6/+z/3//u//7/+//+//n//v/w/+3/4v/p//X/8P/z//f/9f/p/+7/8//z/+//8f/0//n/9v/h/+X/8v////v/9P/2/+z/6P/g/9T/4v/m//X////v/wAA+P/w//T//P/w//H//v8AAAAA6P/q/97/2//q//v/+v/6//D/4v/j/9j/2v/l/+T/4f/k/9n/2f/P/9z/6//s/+P/2P/u/+r/5P/h/+H/6P/p/+r/4//e/9T/y//Q/9r/0f/c/9X/1P/U/7//xv/D/87/3P/i/9X/2P/V/8X/0f/U/83/1P/V/8//z//G/8L/z//K/8r/yv+8/7b/tf/G/8D/xP/I/9P/zP/F/8P/wf/A/7f/sP+u/7//wP/G/8b/xv/D/8T/0P/Q/97/2f/V/9z/zf/N/8n/z//d/9//2//d/9r/2f/X/9v/2//V/9z/3//e/9T/1//S/9j/3//e/97/3f/S/9P/0v/M/9T/1v/a/9f/4v/a/8//3v/f/93/6P/l//L/7P/c/+D/4P/m/+//8//u/+3/7//x/9//4//n/+P/8f/t//D/7f/u/+7/5P/s/+f/3v/Z/9z/5f/g/9v/2f/p/+z/5v/t//P//v/5/+//6v/l/+r/7v/w//f/7v/u//H/8P/v//X//f/+//7/9f/v//L/9////xEACgDz//P/9v8AAAQA/P/9/wIABgD9/wAAAQD9//3//P/6//T/9v/z/+v/6v/q/+v/BQD+//z/AAD6/wAA8v/0//n/AAACAPn/AgD+//b/8v/r//H/9v/1//v/BAAFAPj/5v/2/+z/9f8CAPL/9f/r/+///P8CAPz//v8CAAkAAQD4/+7/2P/R/9H/3f/f/+b/7//n/9v/4//j/+H/8f8AAP///f/x/+P/6P/u//7/AwAQAA0ABQABAP//BgARABwAHQAcAAkACQAGAOz/4//t/+//AQAiABYA/P/o/+H/5P/i//3/FwAUABEABQDt//z/+v/y/woACwAPAAYA7v/x/+3/9/8AAPn/CQACAAEA///q/+n//P8EAAcAGwAbABEADgAJAAIADgAKAAsABwAEABIABAADAPr/9//y//X//v/+/wMABQAHAAAAAAABAAgACwAIAAkABQAHABEAFwAbAB8AGwAiACYAKwAwACIAIgAuACoAKQAgABQAGQAVABcAEgAcAB0AIQAsABoAHQAhADEAPQBAAEIAKQAkACsAIwA6AD4ANQBBADQANQAqACEAJwAmADIAKgAqACsAHQAQAAgACAAKACYANAA9ADsALwAxAC0AJgAuAEoARgBFAEgAQQAxACgALAAtADUAPwAzACwAOQAuACYALgAwACwANAA+AEIARgBAAEgATQA8AEgAUQBMAEUARwBHAEAANgAnADMAOgA9ADoAQQA6ADEANAA5ADcAMgAzADoAOQAxAD0AQQA7ADcAPAA6AEYAOwA7AEcASABRAEgAQQBMAE0APgA9ADoANgA0ADQAKQArACwAMAA0AD8ARAA2ADgAQwA+ADwATgBDAEMAQwBHAEIAQwBXAEoAUQBDAC0APAAvACwALAAnACkAMgA2ACwAOAAyAC8ANgA0ADkANgA9ADsAMwAxACsALQA4AD4APgA2ACwAMwAlAC4ALwAkACcALAA1ADcANwAfAB8AKgAoACwAOgAqACwAIwAkACwAIQA2ADIANgA9ADAAKQAzADUAMgAqACYAIwAVABkAIgAkACsALAAtACYAHAAWABwACwAHACgALAA1AC4AIgAWABQAGgAgACUAKAAtACwAJgARAP///v8FAAMAFwAjABsAFAALAAQA/v8AAAwAGwA0ADAAJAAiACUAIAAhAB4AKwA2ABsAKQAhAB0AIgAaACUAIgAXABgAGAAPAA8ADQAZACYAIwAmACIAJAApACsAOAAsAB8AIQApAB8AFQAiABwAGAAgAB8AEQD0/wMAEwAOABkAFwAgACUAHgAeAA8AAAAHAA4AEQAWABIADQAMAAgADgAYABQAIAAkABoAFAAIAA4AAQD9/wAAAgADAAAAEQD7//X/AAABAA4AFwASABUAGwAWABMAGgAcAB8AKAAcAB8AFwASAAAA8P/7//X/AgAIAPn/BAAGAPz//v/6////CgAKABEACwAIAAgAEAAZABgAGgAeACMAFwAQAP3/+P/w//f/AQD9/wYAAADz/+r/+P/r/+b/7//t//X//v8BAAcADQAKAAYABAAHAA4AFgAGAP/////y////9P/j//P/7v/m/+H/2//N/9D/2P/t/+v/5//x/+n/9f/k/+T/7v/t////AwAFAAUA8//r/9//2P/Y/9n/6f/r/+T/5f/e/9j/3v/U/+L/3//m//P/7/8AAPv/+P/7/wAABAD9/wAABgAEAPv/7//r/+z/+f/2/+//7f/f/9//4v/k/+L/5P/y/+3/6f/p/+D/4v/f/+D/7f/x/+3/8v/5//L/6//7//n/6f/j/+r//P/w/+7/9v/z/+7/8f/v/+D/3P/e/+//8f/l//X/5//k/+z/3//m/+n/9P/x/+7/6P/T/9H/0v/d/+j/9P/6//b/8v/m/+3/9//s//D///8AAPn/9f/7/+3/6//p//T/8v/d//H/5f/p//P/9v/u/+f/7P/p/+//5f/k/+7/+v8EAAMA8P/q/+H/1f/Y/9v/7f/0//X/8v/p/+H/3P/o//f/8P/u//v/+f/m/+D/8P8AABAADwALABgADAD1/+3/9v/4//f/BwAHAAoA9v/d/+H/5f/v/wYAGAAXAAkA//8AAAAABwAUAB4AHgAcAB8AGwASABUAGQAcACAAHgAhACAAFQAYAAgABAAYABMAEwAiACUAGQAbACQAIgAXABsAIQAXABsAFgAaACQAEQAbACMAGAAaABAACwAbACQALAAvACwAIQAaABwAFQAWACAAIwAxAC0AKgA6ADkARQBLAEwAPgA4ADMAJQAiACcALQA2AEMAOgA8ADQAIgAdACMAMgAuADgANwApACwAHgAhADEAMQA2ADoAMgA/ADoALAA5AEMAQABLAEwASQBEAD4ATgBKAE0ATgBOAEcANgAxAC8AMgAtADsAPgA7ADYANQBDADkAOQA2ACoANQA/AD8ATABPAEIAPQBEAEwASABPAFIAUABaAFcAUQBWAE4AQwA8AEMASwBDADsAQAA+ADMAMwA2ADoAKwA8AEMAPgA+ADsAPAA0ADwAVwBaAEgAPwAwAC8AKQArACoANgBSAD4ANgAzADkAQgAxADgAPgBBAEkASQBIAD0AKgAxADcARgBKAEQAPAA9ADYAKABCADMAOgA9AC4ALgAtADYAMwA3ACgAIAAjACAAIgArADcALAAtACwALwAyACwAJAApAC0ALQArADMAPwA2ADcAMAA8ADsAOwA/AD4AMgAkACkAMgAvACsAOAA/AEAARgBCADMAOAA3ADYANwA8AD4AOwBCAEUAOwAsACMAFwAcABoAHAAzAC8AKwA5ADYAIwAiAB8AGgAWACYAKwAlACoAIwAlACIAGAAdACsAKwAuACoAIgAkABgAFgAaABoAHAAbAA8AFAAgACEAKgAlACYALgAvAC4AMgApACIANQAvADMAPAApABIAGQAkABQAFQAUABcAJgArAC0AJwAjACAAHAAhACgAMQAvADcALgAfACEAHgAZABMAEwAiACEAEAAaABcACwAKAA0AAwAAAAoACQANABYAGwAZABQAIQAcABUAEAAJAAoABQAAAPT/+//6/wQADgALAAcACwAIAPf//f////b/7P/y//j//f8BAAAA/P/+/wEA9P/1//v/CAD+/wIACAAAAAUA+f8EAAoACgAPAAAA8//0//L/7//r//r/7//p//L/6v/q/+f/6f/l/+7/7f/l/+P/2v/r/+v/4P/q/+z/5P/a/+P/7P/h/9v/6v/m/9b/1P/M/8f/zf/Z/+r/6v/w//f/6//h/9z/3f/W/+X/7v/x/+r/6//h/9P/2//V/9v/2//n/+f/5v/i/+D/6P/s/+j/4P/l/9j/2f/T/83/0//Y/9f/3P/o/+b/6f/b/87/0v/K/9H/zv/b/+T/zf/R/9L/2f/j/9H/2P/V/9D/0f/P/9L/wf/K/8P/wP/Q/83/2P/b/9T/3f/W/9H/4v/g/+P/6f/i/+v/6f/a/+f/2f/T/93/2P/Y/9D/1//Z/9j/3f/k/+L/7P/4//T/8v/p/+r/4v/k/+v/6v/v//H/5v/Y/9L/yP/E/7z/u//D/8v/1P/c/9P/yf+//7r/xP/L/9j/3P/X/8//wf+3/7H/uv/D/8f/y/+4/7X/vP+z/7H/s/+3/8b/wf+7/7T/tP+2/6//wv/Q/9r/1P/S/8z/x//M/87/2f/f/+L/1v/F/8f/zv/M/8j/2//f/9r/1//U/9f/yf/J/9H/1P/Y/+n/3v/Z/9z/0P/L/8v/2f/c/+T/5P/R/7v/o/+k/7f/vP/M/9f/3//b/8v/zv/O/9D/3v/p/+7/9//7//L/2v/f/+f/5P/p/+r/9f/n/9j/1v/h/+f/4//w/+3/8f/k/+X/7P/k//r//P8AAP7/AQD2/+r/6v/n//H/7P/4//L/+f/y//D/+v/v/+P/4f/v//D/+f8BAPf/8v/8//v/+f/u//b/AQD0//X/+P/7//f/+f/6/////P/+/wYA//8HAAsA/P8CAAoA///8//T/+f/5/+7///////f//v8BAP//AQDz/+7/BQD9/wAAEgAaABEACQATAAAA/f8JAAwADgAPABAAAAD//wgA///9//v/GwAjAA4AJwAhAAIAFQAqAC0AOQA+ADkAIgASACIAEQAEACUAKgAhACcALAAOABIALAAqACoAKQBFADUAMwA1AC0APwBFAFQATQBGADoAMAAwAC0APQA6AEsAWABKAC0ANABEADIAQgA8AD4AMgA8ADUALwA6ADAAQgApACMASABYAE8AUQA7ACwAIgA2ADQAMwA+AEgAUwAxADoAPQAZABoASABNAEoAJQAWAPv/BwAvAAYACAAvAFEAQgALAPr/7//x/0IAcgA3AD8AZAASACIADADM/9L/YwCAAPX/1f/i/1AAPQBVAPr/xf8vAB0AGQDw/yQAJQAsAGcARwAvAO3/ZQBvAMf/7v+1/6z/KABoADQAGwD9/+r//P+5/wYASQAZAFwAcwDl/5P/zf8gAA4ARwB+ABsA//8qANr/ov/b/9j/AgAOABsANADx/7f/7f/k/8L/IQAiADYAOQDe/57/iv+Z/9D/HgBRAGQAPwAMANT/o/+W/9D/IQBCAC8AEADR/6j/rP+T/6b/zf/3/wwA5//a/8X/f/9p/53/2f/C/+7/JQAEAOr/u/9t/2//oP+w/w4AFADx/83/nf+F/4z/u//a/wUA9f/e/6r/gv9x/5//1f/Z/wAABwC//5T/m/+U/3v/qv/S/8D/GwD8/8X/lv93/4T/mv+T/5H/1f/B/+v/v/+H/6n/pf+x/6X/uv+//6T/4//U/63/l/+K/5L/rf/i/8L/3//E/7n/sP+I/5v/mv+6/73/1P/H/63/sf+J/6//vv+y/8D/ov+z/6//o/+L/4n/hf/E/+D/yf/O/7b/xf+2/7X/rf+h/8b/BQDf/7//z/+8/6T/jf+N/6//y//l/+3/3//D/5//qf+1/8z/4/8hAB4ABgDy/9b/vv+l/7n/yP/c/97/7v/s/+H/xP+4/8L/zf/r/wEA9P/i/9v/wf+9/7X/z//u/+r/9v/4/73/rP/c/9v/1f/2//v/8v/4/+r/vv/C/8n/zf/t//j/+f/8//7/3v/X/9z/4f/4/w0AFAAOAPT/6P/n/+j/7v8eACAALQApAAIAHADv/+//AAASAAkACwAJAAwAFwARADoAFgAHAA4ADwAGAO//6f/r//P/HQAeABUAHgAyAEAAIgAMAPf/6v/u/xQAHQAkABcAEQAvADYAHwAXAC8AVwBVAD8ALgAfACQAHABCAE0AQQBQAEsALQA9ADYACgAEABkAJQAhAB8AFwAjADwASwBKAEUAQgBFAFgAUwBNAEIALwBCAFEAUAA8AGIAWABLAFkANAAcACUANQAuAEoASQAsAC8AQQA/ADwASgBPAFYAYwBHAEkANAArACwAMABHAEEATQBQAFQASwBMADEAIgAmAB0AIAAsAEAASABKAFgAPQBBAEYARABLAEsAVAA+ADAAJwAtAB0AOgBKAEAASAArAB8ANgAfAAoAMQBNADwAMQA5AC8AMAAdACsAOABFAFIASAA9ACUALQAnADAAOwA3AEgARAAiABAA+//1/wQACQAOABcAHQApACQA/f8BAA4AAQD//w4AGgAbAA4ACQAHABEAIAAsACcAEQANAPf/8P/a/9P//P8AAAAAEQABAPH/9f/z/+f/4f/z//L/5P/Y/+H/2f/k//T/+f8YAB8ABgD9/wMA6//j/+L/4v/c/+P//f/3//D/9f/+//H/6P/t//L/9P/d/+z/5P/W//H/BwAAAPX/DQD+/+n/3v/f/+b/5P/Q/9L/0P/K/8n/yf/N/8//3v/c/9//2v/T/9j/2f/R/9D/3P/w/+T/7v/s/+v/5P/l/+f/4v/j/9P/1P/D/8n/wf/M/87/y//n/+n/3v/W/9f/2P/d/+D/6f/w//f/9//l/+P/5v/d/9z/3//o/9//4P/X/9j/1P/A/7v/u/+6/7D/yf/O/8//0P/P/9//2v/t/+j/4f/f/9X/0v/A/9L/3P/k//H/6P/p/9//4v/c/8n/2f/Z/9L/2f/L/83/0//k//P/8v/+/wkAHgAMAPr/7//6//v/4//s/+T/8P/w/+3/+//y//j/8f/3//v/7f/v/+r/3f/U/+v/5//x/+//9v/2//L/+v/f/+7/4v/p/+//8P/u//D/+v/8/wYA//8IAAwABQD///D/9P/o/+z/AQD1//r/+f8CAPj//P/v/+3/9P/4//7/7v/6//P/AAD8/wYADgAGAA4ABgD7//3/BwAHAA0ACwALAAMA+f8AAPT//P8GAAAAAwD6//v/EAAVAAcAAwACAAUADQAVAAwAGAAZAAsACQATABQAEAAcABIACgAYABQAEgANABQAGQAEABUA/P/5//X/9//4//f/GAAJABUAHgAhAB8ALQA7AC8AMgA0ACsAGgAHABEADQAKABMACAAOAAsACgAIABMACgAFAA0ADQANAPv/CgAbABkAGQAeACkAHQAmACUAFwAXABEAEQD+//3/+f/0/wIAAgAFAP3/BAAIAPX/DAAZABQADgAKAA8ACwALAAEAEAAbABIAEQALAPj/9f8AAP3/7v/w/+L/1//e/8//zP/R/+T/2//Y/+H/5P/j/+T/5P/e/+b/5f/s/+7/5v/g/+D/2f/b/9L/2f/b/9P/2P/R/9P/0P/P/9P/0f/V/97/4v/q/+P/5v/q/+L/3v/f/9n/2f/Y/9r/4P/e/97/yv/E/9r/2v/f/+T/0//V/8X/xP/N/8f/3P/X/9P/2f/G/+D/1v/N/8f/t/++/8P/z//C/9D/xf/F/8D/uv/C/8j/0v/X/8f/wP/I/8P/y//O/9r/3P/e/9X/zP/J/8X/yP/T/9P/0//R/9n/z//Q/+P/4f/p/+L/4//d/9n/1P/X/9f/0P/Y/9T/2v/X/+D/8P/g/9f/y//V/9H/0//m/9n/2v/g/9X/zv/W/9H/5//q/+z/8P/j/+//7f/t/+j/4//n/93/1//m/97/4P/u/+3/8P////n/9v/7//L/7f/h/+7/8P/3/+3/8v/5/+j/9P/q//D/+v/t/+r/7v/o/+P/1f/a/9n/3//j/+b/5v/m//D/6v/t/+T/5f/n/97/6P/6//H/AQAAAPP/+P/0//r//v/6/wEA/v/5//z/+P///wwAEQADAAMAAQD//wkADwADAAoACwAMAAAAAgAIAAIABAD7//7//v8EAA0ADwAGAA0AAwAGAAYADgALAAcACwACAAwACAAGABAAIwATACQAJQAeAB0AEwAZABkAHAAcAB8AGQAVABgAHgAdACYAJgAhACIAHwAZABIAEAAOABEAFwAWAB0AHgAbACMAHQAXABYAFwAeAB8AFwAgAB8AGQAkABsAHAAZAB4AHwAnADIAIgAbABgAKQAkAB4AIgAhACsAJQAfACAAJwArADQAMAAqADIALQA2ADkAOAA1ACgALAA0ACgALgAkACYAMQA2ADUAMwAsADcAQAAuADkALQA3ADkAOwA9AEQANgAhADYALAA1ADAAKwAvADYANwA2AD0ALgApAC8AKwAoACsALAAtADkAMAA2ADIAKgA0ACYAOAA4ADkAOgA6AC4AMwA/ADwARQA7AC4ALQA2ACQAMgA4ADkANAAxADgANAAyADQAMwA1ADUALgAuACkALQAlACwAKAAvADQAKQAuADwAOgA1ADYAIwApACQAJAAnACoAKwAhACQAKQA0ACsANgA4ACYAKgAvADEAKwAuADUAKwA0ADsAMwAoACsALAAvADoAOgAzADUAOwA/AEUAOAA0ADYAPAAsAC0ANAAwADAALgA0ADQANwArADAAOwA8ACoALwA3AC8ANQApADAAQAAwADEAQAA6AEkAOAAoADIANwBBADsAMAAyADMAKAAqACcAKgApABoAJQApACEALgAsAC0AKwAjAB4AGwAdAA8AEAAeABwAIAAbABsAJwAlAC0AKQAiACkAIwAoAC8AKQAiACUAHgAWAB4AEQAYABAAEAAeACIAIgAfABgADwAiABQADQAXABcAGwAcABUADQAaACQAEgAYABYAGAAbABsAFgAPABAACgARAAgADgAVAAMAAAACAP3/CgAHAAoADAD/////AAD2//X/CgAIAPj/AAD8//b/BQD7/wAA8P/2//L/8v/8/+//5//V/+T/5P/p/+r/6v/u//H/7//l/+z/8//y//D/9v/5//T/+P/0//v/DAALAPv/9v/6//z/AQDz/+v/8//x//7/AADy/wYA///9/wAA/v8NAAUABAD9/+j/6v/4//r/+f/5/woABAAAAP7/9f/5//X//P/1//T/8//v//f/9f/4/+3/9P/5/+3/AAAAAPP/6//o//T/7//w//v/+f/v//b/8//k/+7/9f/v/+z/7P/s//L/6P/l/+j/7//x/+b/7P/p/+7/6//p//f/9f/6/wEA+v/8//z/7//z/+j/6v/v/+n/9v/9//f/8f/w/+b/9P/3/+3/7//r/+r/8f/0//z/AQAAAAQA/P/5//P/+P/1//r/+P/6/wAA///9//r/AgD8//n//v8BAAAA/f/5//3/+P/0//n/+f/t//X/8v/s/+v/3//y//H/9v/2//b/+v8BAPb/+P/6//D/DAACAAAA/v/4/wAA/f///woA+//3/wAAAAAAAAAADQD+//v/BAAOAA8ADgAKABMADwAJAA8ACAARABAABwAEAAgAAAD8/wEABAD+/wMA/P/y/+7/+/8EAAwABQD//wsA/P8GAAMAAwADAP///v///////P/3//j///8BAAIABgAHAPf/8//x/+z/7f/t/+3/+f/5/wQA8v/u//D/7v/1/+3//f///wEA+//1/wAA/f/8/w0A+v/9//X/7//6/+7/8v8BAAEA7v/6/wcACgAPABUACwAGAAEAAAD9//v//v/7//X/9f/6//f/AADu//X/7//l/+P/5v/7//b//f/+//b/+P/6/+////8BAP3//v/7//j/9//2//b/8//v//j/8P/6//X/8//y//T/9f/z//H/9v/7//f/+f/6/wAA+f8GAPX/9f/1/+3/9v/w//r//v/9//f/8//9//X/9f/4/+j/8//u//D/8//y/+X/6P/t/+L/7//t//P/9f/8//3/+P/0//T/8v/5/wAA8P/3//b/8//2/+X/6f/l/+f/6f/f/+v/+//6//L/8//v/+7/5//m/+r/6v/w/+n/6f/4/+7/5v/j/93/5v/k/+D/7f/m/+T/8v/0/+n/6f/r/+j/5//j//D/9f/s/+H/3v/p/+7/7f/o/+j/+P////r/9f/x//T/8f/3//X/9P8BAAAA/v/8//X////9//j/+P8BAAAA7//2//X//v/5//D/8f/z//n/8v/r//H/+P///wQAAAACAAEA///0/+//7P/y//z//P8HAAIABQD///b/+f/4//H/9f////f/8v/2/wgA+//v//j/8//z//v/BQAHAAwAEgAOAA4ABQAHAAgAAgAQAAwADAARABkADwAFAAoAAAAJABAADgAQAA0ACwAMAAoAEgALAA0AFgAUABgAEAAcAB8AHgAZABUAGQAVACQAGwAUABoADgAUABYAGAASABEAHQASABkAIgAdABkAFwAnACUAHgAdABcAFwAdACoAIgAlACYAEgAcACAAJgAsACYAKQAsACkALQAuACwANwA5ADYALgArADIAMAAnADIAOQArADEAMwAvADsANgAyADwAMwBBAEcAPwBCAEEAQgBDAEUAOgA6ADkANABDAD8AMQAsACcANAA0ADIAMgA8AEEANAA7ADMAMQAzADoAOQA4ADgAMwBCADIALAA4ADoAMwAyADoAQAA5AC8AQQBDAEIAQgA8ADkAPgA/ADwAMwAwAD4AOgAzADoAPQA6AEIAPwBBAD0ASABKADsAOAA5AEYAPQA6ADoANQAwACwAMgA4ADMALgA1ADMAMAAqADYAOQA2AC4ALgA6ADgAPAA4ADUANQA6AC8AMwAzADAAMgAzAD8ANwAyADAAMAAvADAALgAuAC4ALgA2ACQAHwAxADkANQA2AC0AKwAzADoAOgAsADYANwA2AD8AMgAtAEMASgBGACoAHAA0AD0APgAzACsANAA4ADkAKAAhADIAOgA6AC0AHAAlAD8AMwAzADMALQA2ADcALwAkADYAOQApAB4AFwAnACoAMQArACoAMwAxADoANwA7ADoAMQA4AC0AMQA7ADUAOgA2ADgAMwAxADQAKQAiACAAJQAmACIAHgAeACAAIgAlACMAIwAhABUACwAXACIAFQALAAoAGgAXABMAEgALAA0AEgAaAA8ADQALABAAHwAWAB0AHwAYABUADgAMAAsABAD6/+7/9f8AAPT/8f/w//r//f/6/wAAAgD4//T//v8AAP//+P8BAAgAAQD7//n/+P/2//j/8P/v/+n/3P/n/+b/4P/l/+X/6v/m/9b/1//V/9z/3//a/97/5//h/+n/4//a/+X/3v/k/9j/0f/T/+T/6v/g/9r/4f/d/97/5v/Y/87/yv/e/9f/2P/d/97/5//b/9v/4f/a/9D/zf/O/9D/zP/Q/8n/z//J/9T/0v/O/9P/yv/W/9D/2v/Q/8z/0f/Y/9T/zf/S/9j/2P/I/8j/0f/Q/9T/3//M/9L/1P/T/9b/zP/B/8b/zv/O/87/xv+8/7j/wv/B/8P/wP/E/77/vP/R/8L/xv/V/9D/1v/P/83/y//C/8P/zf/V/9H/z//a/9v/1P/U/9j/0P/J/9f/xf/L/9H/zv/V/8z/z//L/8r/0P/P/8z/0v/U/9H/0v/i/+L/3v/U/8f/0f/Z/93/zf/S/9n/0v/L/9T/0v/W/93/2P/i/9v/5P/a/9n/0//S/8j/yf/Q/8X/zP/M/8n/x//Q/8r/zv/T/9X/zf/P/8v/yf/G/9T/2v/P/+L/2f/R/8v/y//X/9D/yv/R/8r/x//N/9T/0//H/8//3f/f/9z/1//L/8z/0v/H/8X/yv/T/9T/0f/O/8//1v/I/8r/0f/N/8//3P/U/9H/2v/j/+X/6v/v/9//5f/m/+H/2v/X/9v/2P/e/9j/1f/e/+H/4//b/9n/2v/V/83/y//N/8v/yv/R/9z/0v/a/9z/1f/U/9j/3v/Z/9r/1//X/9//3f/p/+P/3f/o/+T/5//h/+f/6f/s//P/7f/h//P/8v/o/+n/4P/s/+n/6P/0/+//7P/x/+v/6P/l/+z/6//f/+P/6v/q/+r/8f/y/+n/7P/u/+3/4//n/+z/6f/m/93/7f/t/+P/3v/k/+r/6v/v/+//4v/h/+L/6//u/+j/+P/z//P/7//w//X/7f/q/+3/5f/c/+H/5//s/+P/6//o/+j/8f/0//L/8f/s//P//P/2//3/9P/5//v/8//q/+//7f/s/+r/7P/0/+v/8f/p/+7/9f/2//X//v/7/+7/8v/v//P/6f/x//f/+f/x//P/+//u//b/AgAMAAcAAAAJABIA/v8EABAABwALABYADgAHAA4AGAARAAMADgASAA4ACgASAA0ADAAWABYAEgAQAA8AEQAOAAYAGAAdABUAGwAWABsAGwAcACEAEwAgACoAHwAgACAAFAAQABoAHgAXAB8AHwAgABsAJAAvAB8AIwApACoAIwAcAB4AKwAnACAALAAwADEALgA1ADUALwAuACYAKwAxACsAJQAjACgAJgAmADAAMwAwACIAHQAfACQANQAjACAAKwAqAC8ALQAnACgAKwApACkAJwAlACkAJgAnADIANgAwACwAMQAqACoAMwA1AC8ALwAvACYANgA6ADEALAApAC0ALAAlAB4AIAAhABwAHQAmACYAIwAuADEAMgAqACAAHgARABUAHgAqACgAHAAaABkAFgARAAwADwAWABMAGAAQAA4AFQAdAB4AHAAfACEAHwAYABAACgALAAoAFAARAA8ADQALABAACAANABAAEAAMABAABAD+/wMAAAAGAAQACwAKAAQABAAPAA4ACgANABIAFAAKABEAEQAGAA4AHgAUAA0ADwANAAwABwAQABsAIAAdAB8AGwAbABQAFgAjAB4AHQAWABgAFQAbAB0AHwAqACIAHgAdAB8AJQAjACIAIgAWABgAIgAkAB0AHQApACQAHwAiACkAJgAkACEAGQAeAB4AJAAfACMALwAmAB8AGwAYABkAHQAbABkAHAAVABkAFwAQABAADwAZABkADAALABAADAANABAAEwAPAAcACQALABAABwALABEADwANAAEAAwABAP7/AAAAAAAABgAFAP//BAADAAIAAAADAAwADQANAAkABwAKAA4AEAAVABcAEQANAAoAFAAUABIAFwAmACAAEAAXAA8AEgAbABoAHAAfACEAIQAiAB0AJAAcABkAGQAYABkAFwAjACAAIgAeABcAEwAeABsAGAAkABoAIwAiACUAKQAjACYAIAAjACEAJAArAC0AKAAmAC0ALgArACcALwAyAB4AHQArACYAJQAkACUAIQAiACEAJgAnABsAKwAuACoAKQApACsALAAtACkAJgAjAC0ANQAqACkALAAtAC8AKAAhACMAIwAgACgAIAAeACMAGQAbABwAGwAdACEAHgAsADEAIQAaABwAIgAfACQAHAAgAC0AJQAgACIAKQAmACwALAApAC8AJAAjACcAKwAsADAAKAApADgALAAzAC8ALgAiABsAKAAmACMAIgAjACEAHQAbAB8AEwARACIAJAAfABsAHQAcABcAFQARAA4AGgAcAAwAGwAVAA8ADwARAAwA/v8FAAoABQADAP//BAAJAAQABgD+/wcAEwAPAAIAAAD7/wAA/v/v//v/9//9//j/5v/y//P/7//z//j/8//0//L/8f/w/+T/4P/o/+z/4f/u//H/5f/k/+///P/6//b/9v/s/+L/5f/i/+X/4//m/+z/8v/v//L/6//j/+v/3f/j/+L/2v/e/+D/1v/N/8f/y//K/9b/2f/R/9H/yP/R/8j/vv/F/8L/xf/H/7v/xv/D/7T/uf/B/77/uv+3/7j/u//A/8T/uf+//8P/vP+0/6z/t/+6/6f/qf+r/63/t/+v/6n/rP+2/7T/qP+d/5L/iv+I/4r/jP+K/4v/iP+N/4v/h/+J/3j/fP9//3P/bf9x/3n/a/9q/3P/e/+D/3z/fP+C/4z/jP9//33/if+H/33/iv99/3b/gf+O/5n/i/+T/5L/kv+J/5H/mP+K/4j/hP+D/4n/i/+K/43/j/+a/5T/jP+N/4r/gP+L/3z/dv+C/33/iv+H/4z/gv+L/5D/lP+K/4L/j/9//4n/lf+O/5D/iP+L/4n/gP+J/4P/jP+c/5f/lP+h/5r/m/+Y/5b/kf+Q/53/kv+U/5f/kf+Q/5H/m/+W/4//oP+L/43/j/99/4T/g/+O/5H/h/+M/4r/i/+V/4r/kf+M/4//k/+G/4T/hP+F/4r/jf+O/5H/kP+b/5L/kf+O/4r/jv+S/5v/nP+S/43/lP+c/6n/qf+p/6H/qv+z/6f/q/+m/53/p/+n/7L/s/+w/7P/rP+s/7D/sv+x/6v/sv+8/7n/vf+4/8P/w//B/87/yf/L/8v/0v/Y/9L/0f/S/97/4//i/+L/5//t/+3/6//w//X/7P/t//P/+f/4//P//P/+//z/AgD///v/+P/5//3/AQACAA4ADwALAA8ADAAHAAMABgAHAAgACAAJAA4AFQAUABgAFwAkACgAKAAhACIAKQAnAC0AJwAkACkAMgA0ADAAOgA3ADwARAA5AEYAPwA8AEEAQwBDAD8ATABOAEgATQBPAE4AUgBSAFYAUQBOAFIATABLAFAAUABYAFAAUABdAGEAWgBiAGIAVwBpAGgAZwBoAGoAbgBpAGoAawBnAGcAXgBXAGQAYgBfAF8AZgBfAFsAWwBeAF8AXQBbAFwAZQBfAGAAXgBZAF0AZQBsAGoAaABoAFwAXgBhAGQAaABqAGQAXwBlAGMAWgBaAGEAWQBoAGcAXABlAFwAYwBoAF0AYwBjAHAAcABjAGwAZQBpAGcAYQBgAFkAZwBmAF8AYABaAGYAZwBcAGUAZgBdAF4AWgBSAE0AUwBSAEsAVgBTAFoAVgBVAGQAVgBgAGEAVgBMAEYATQBXAE4ASAA9ADoAPQA7AEcARABAAEIAQwBCAEkAPQA/AEcARwA/AEkATgBCAEAAOgA8AD0AOwA3ADgAMAA4ADwAOAA3ADEAMAA0ADcAOQAyAC8AMQAzADEAMAAzAC0ANQAxADMANQAxACkAHAAjACsAJQAjACMAIgAdABQAFQAfABwAFgAeABkAGAAVACAAHQAUABAADwATABYAJAAhABsAGgAgAB8AFwAUACUAHwAeACUAIAAXABsAIgAiACEAGAAfAB4AIwAgACYAIQAeAB4AHQAfACMAJAAcACgAIwAvAC4AJAAuAC0AMwAoACMALQArACYAIAAtAC4AKgAlAB8AGgAYACQAIwAlAB8AEAAbACEAGQAVABYAHQAZABwAIQAYABAAEgAUABQAFAARABYAEwAZACEAIQAgABcAEgAJABAADAAXAB4AEQAfACMAJwAsADIALAAkACcAHwAcABUAGgATAAsAHAAPABYAFQASABUAHQAnACAAEQALABUAFQAgABcAEQAQABQAEwARABUAEgANAA8ACQANAA0ABgAYAA8ADwAEAAUACAAGAA0ADwAVAA0AEgAOAAoACQAIABQADgARABEADgAWABYAHQASABYAGgATAB0AEAAVABgAEgAdABIAFwAZABIAFgAXABcAEQAUABcAGAAVABcAIAAYABoAGAAWABoAEwARAAwAFAAVAAwAEQAUABIADAANABAAEwAWABcAGQAfABsADwAUABYAHgAVABIAHQATABQAEAAOAAUA/v8GAAMA+f/6/wYABwD6/wAABwAOAAkADAAQAAgACAAAAAUABwAOAAYAAQD+/wEACAD8//z/BAAGAAcA/v/8//z//f8GAAQACwD//wIA/v/x//H/6v/y/+r/8//6//L/7//0//f/7v/t/+P/4//h/+P/4v/a/+L/4v/g/9P/1v/P/9L/1P/T/9D/1P/Q/8f/zf+7/8j/wv/E/8n/xv/E/7H/vv/F/7r/tP+x/7L/tv+8/77/tP+w/7L/rf+f/6v/p/+g/63/p/+v/63/n/+j/6H/pf+n/6b/pP+d/6b/p/+n/6D/n/+W/4//nP+g/5z/m/+j/53/nP+d/5r/o/+f/6D/nv+d/5//k/+h/57/nv+j/6L/p/+k/63/qP+W/5n/nf+g/6b/nf+j/6v/rv+f/5//pf+q/7H/qf+u/6L/qP+g/6P/n/+e/7X/o/+h/63/qP+w/6v/pP+k/6T/n/+W/6D/mP+g/6D/oP+c/6D/r/+e/6n/t/+t/7D/tP+x/67/r/+t/67/r/+q/6//uP+0/67/u/+8/7b/sP++/77/t/+5/7b/uP+q/7X/vf+v/7b/vf++/8r/yP/E/8n/yP/K/8//0P/O/87/zP/I/8T/yv/g/+j/2v/P/9L/2f/W/9f/3P/h/+D/2f/c/+T/4P/b/+L/3v/f/+L/5P/Z/9b/5v/k/+f/7P/x/+f/3f/0//f/8P/x//D/8//u/+3/6f/l//P/9P/3/+7/7//0//z/9//t/wAA8v/q/+7/+//4//f//f/1//v/+/8AAAYABwAHAAkAAwACABAAFQAQABIAFgAaAB0AEgAPABMAGAARAA4ADgALABYADgASABIAFgAVABUAHAAQAAoABQASABYAFQAUABAAEgAdAB8AHwAjACAAJQAtACUAHwAmAC8AJAAjACgAJgAzAD8ANQAbADwARgA2ACEAGAAlADgAQgAcACQAPABNAEgAOQAyADEAQgA4ACMAMQA8AEEAQwA4ADoAPgBIADMAKAAvADoAPgA+AE0ARQA/ADoAMAAsADEAOwA4ACkANgBQAEwAMwAwAD4ASABWAEIAQwBLAEsASgA4ADIANAA/AEIAPQA5AD8ARABFADYAMwBCAEcASwBOAEcARABHAEsATQBBADcAQABDADcAMABIAEwAOgA7AEsARQAzADcAMQA0AD0ARQBDAEYASgA+AD0AOgA9AD0AOQBDAEIATABQADYANAA5ADgAMwA4AEYAQgA/ADwARwA9AC0AMwAoADQANAAzAEQAOwAxACwALAAzADYAMwA6AEMAQQBEADkALwAyAC4AJQAqADgAOAA+ADgAQQBAADQAPQA6ADIANAA6AD4ASQBMAE0ATQBQAE8AQgBDAEQAPwA8AEQAQQBAAE4AQgA6AEYAUQA/ADIAPQBAAEAAPQBAAEQARQBCADIAQABLAEIAQgBDADsAOABEAEMAQQA6AD8ASwBJAEUAQwBJAEgARABEAFcATAA7AEUAQQBFAEMAQABLAE4ASQBGAEEASABHAEwATQBCAEEAQQBBAEIAQwBAAE0ASAA+AEYAUABKAEAATQBKAEMARABQAE4ASABFAEQASQA/AEYAPAA5AEYARQA6ADwAPQA6AEUARgBBACoAMwBEADwAPQA2AEIASwBRAFIARQBSAFIARQBMAEwATQBEADIAPQBEADwAMgAnACoAJgAkACIAIgAqADIAOQArACsAMQAoACQAHAAeACoAKAA5ADQAKgAyACQAMQAzAC4AKQApACwAHwAZACAAJQAiACoALQA1ADAALAAyADIAJQAgACMAJwAnABQAHgAlACgAKQAkAB4AHQAeAB0AHQAaABkAGQAdABMAJQAeABQAGgAUACMAIQAVAAwAGQAXABcADwAOAB0AGAAdAB0AFwAOAB4AHQARABUAEgAOABYAFAALABMACAAGAAUABgAOAAYAAAAEAAQABQAHAP7/+v8AAP7/AAADAAAAAAAFAP///////+n/8f/8//v/+v/7/wIA/P/8////+//v/+3/8f8DAAEA9v/4/+v/9P/y//D/8f/l/+n/7P/y/+r/4//p/+3/5v/j/+//8f/t/+7/8//y//r/9f/q//P/7f/t//b/8//x/+v/8//w/+//8//q/+v/7//u/+r/7f/r//H/8v/0/+7/6f/y//f/8f/s//X/9//5//X//v/+/wcAEAAGAAAACQAIAPz/+//9/////f8EAPf//P//////AgAAAAwABgABAAUABAAGAAIAAQAKAAIABwAIAAQABgAEAAEAAQD+//7//v///wAA+f8AAAMAAwACAAIAAAAHAAUAAAD//wgACgAEAA8ACQAQAA8ADQAMAAQACwAMAAcAAwAHABQAFQAIAAEAAAD5//r/+f/0/wAAAwAAAP3/+//6/wAA/P8DAAUA+f/7//j/AAADAAEA/v///wYAAAADAAQAAwABAP//BQAEAAAACAAHAAEACAAFAP3/9/8EAAUAAgAOAAcAAQACAP7/AAD+//L//v/1////CQD4/wAABgD9//b/9//5//7/8v/y/+v/7P/w/+//+v/x//P/7v/v//T/8//3/+//7//u/+j/6P/l//T/8P/q//P/6v/m/+r/5v/e/+j/6//v/+//6//x/+j/5f/v/+L/4P/l/+H/5P/i/+b/3f/h/+n/4v/v/+7/4f/q/+X/5P/q/+f/7P/n/+T/7v/w/+r/5f/b/9z/3//c/9b/2f/W/9b/2P/S/9r/3P/Z/93/5v/k/+b/7P/j/9//7f/s/+T/7f/o/+X/6//m/+f/6v/m/+7/5f/k/+7/5//n/+T/4P/f/9//1//a/93/2f/j/9//4P/i/9//5P/g/+L/4//k/+b/5v/n/+b/4P/l/+n/4v/t/+r/3v/q/+X/4v/u/+T/5//X/9v/5P/o//D/6P/0/+b/7f/x/+7/8//v//n/9//6/wEA9v/1//L/9f/w/+///P/3//j/+f/6//f/AQABAAAAAAADAAMA+/8DAAEABgACAAEABgD9/wAAAwADAAMA/f8CAAUADAAFAPv/BwD//wcACQAAAAQAAAADAAgAAgALABAABgANAAcACwARABcAEAAIABIAGQATABIAGwAcAB4AJAAhAB8AIwAhACMAIAAmAB8AHAAeACYALQAkAB8AHgAvAC0ALAAyAC0AMwAwADEAMAA2AEUAPQA4AD0AQQA8AEMAQwAzAD0APwA+AEMAPgA6ADcANAA0ADkANAA2ADkAQgBHAD4ASwBHAE4AVQBQAE0AUQBTAFEAWgBTAFMAVABHAFQASwBLAFoATwBYAE0AUABRAEYATABLAFAAUQBNAE0ASgBJAE8ASwBNAFIAUQBQAFMAVABUAFUAXQBgAGYAZwBmAGUAWABeAFYAWgBfAFkAXQBWAFYAVgBcAFoAWABcAF8AVwBaAF8AVwBYAFoAUwBZAFoAVwBkAFYAWgBdAFkAXwBcAFEATwBbAGEAXgBfAFcATgBSAE8AUQBNAEsAUABOAEgATgBVAEwARgBGAEEASAA/AEAAQwA5ADwAQQBHAEkASgBHAEMAQgBEAEEASwBNAEUARQBNAE0ASQBDADwARwA4ADcAPwA3ADQANwA/ADoANAAwADYAPQAxADIANgA0AD8APwA7AEMAPAA5AD4AOwA1ADkAOAA7ADsANAA8AD0APwA1ADoANAArADEAHAAkACcAJgAqAC4AMAAmACQAIgAqACIAGgAfAB0AHgAlAB0AFwAXABMAGAAcAB8AIQAmACQAKQAmAB8AIQAdABwAJAAmACAAGgAiABsAFgAXAA4AGgANABcAFwASABkACQAPAAgABAAGAAAA//8FAAUAAAACAAMACQALABAADgAOAA4ACAAQABEADgAKAAcABgAHAAQACgAQABMAEAANABUAGAAPABYAFQATABwAGQAcACEAFAAQABkAEgAUABEADgATAA0ADAAQAAsADwANABUAFQASACEAFwAjACQAFwAdABgAFwAPAA4AFQASABgAHQARABAAFQASABkAGgAeACIAJQAkACUAIwAnACoAIgAuACsAHgAgACUAIwAlABYAIAApABsAIAAbABoAFwAaABwAHQASAA0AEAAPABkAFAAUABMAEAATABoAEgARABsAFgAbACIAIwAhACAAJQAeAB8AJQAdABgAFAAdABoAHgAjAB8AIQAnACkAIAAmACMAIQAeAB4AIgAWAB0AKAAhACEAJgAkACsAKQAiACoAHwAYABsAGAAhACEAIQAlAB4AIQAfAB8AGAAZAB8AHgAZABYAHgAdAB0AHAAkACUAKQAmABwAGgAYABEAFwAXABIAHwAaAB4AHwAVABkAHQAZABkAFAAbABUAEAAVABIAFwAUABYAGwAbABIACQARAA4ACQARAAwAEQATABoAEwASAA8ABAAPAA8ADgAKAAcACwAHAPv/AwAKAAEAAQAAAAYABAAEAAIA//8CAAsABAABAAwAAgAFAAYABwD9/wAAAwACAAEA//8QAAYAAwAHAPv//v/7//3/AADx//v/7//x//b/8f/3//X/7//s//L/7P/2//D/7v/v//D/+P/v/+z/8//u/+//7v/x//b/8P/1//f/9//2//L/9//1//H/8//t/+z/8P/r/+j/5f/l/+T/2//l/97/3P/j/+T/5f/l/+L/4f/e/9//4f/h/+P/3v/l/9z/4//b/9j/3//a/9z/1f/e/93/1f/d/+T/2f/X/9b/3v/m/+n/6v/h/9v/3//f/+D/3v/W/9f/2P/f/9f/zf/V/83/0P/Y/9j/4v/d/9f/2//c/9T/1//T/9//5//c/+P/2//b/+P/1v/U/9r/2f/X/9X/4P/X/9v/4v/R/9D/0//W/9f/1f/P/9f/1f/L/9L/zv/R/9X/1P/e/9n/3P/e/9z/4P/a/93/5P/Y/93/6v/m/+3/8P/t/+v/5v/l/+n/4v/s/+f/3f/i/+L/4v/e/+f/5f/n/9r/2//g/9P/2P/Y/9X/2//k/+H/2//c/+D/4f/i/+P/4P/W/9L/4P/f/9//3P/b/9//5f/l/+P/5f/q/+z/3v/o/+L/5P/h/9n/4f/n/+v/6//x/+r/5f/m/+3/5f/z//T/5v/s//T/6f/s//f/8/////L/+v/3/wAA/v/z/wAA8v/y//T/9v/y/+j/8//5//L/8P/2//f/6//1//b/8v/4//L/8f/x//f/+P/w/+//7P/y//H/+P/2//L//f/2//z///8GAAMA/P/7//7/AwD8//7/CQAMAAcAAQAHAAgAAwACAP3/AgD8/wAA/v///wYAAwAAAAgADwABAAgABwANAAYABwAKAAMACQAPAA4ACAASABYADgAHAAcACwAMAAQABQAQABAAAQAHAAwADAAPAAoABwAMABkAFAAUABMAGAAZABUAEQAQAAkABAAPAAwADQAKABYAEAAVABYACgARABQAHQAUABYAFQAQABgAGwAeABwAHAAaAB0AIQAaABsAFwAhACgAJQAeACIAJwAZACQAMQAuACkALAAkAC8ANQAyACsAKwAvACkALgAtADIAJwArACUALQAxAC0AMAAuADcAKwAvADkAMwA2ADgAPAA/AD0APQA4AD4APwAzADcAQAA1ADgAOQAwAD4AQwA2ADYALgAxADsAOAA2ADYAPQA+AEAAQwA/AD8ASwBGAE8ATwBIAEsARwBCAD8ASwBIAEYATABGAEYASQBKAEYARABJADgAQQBBAEgARwBBAFMAVgBRAFQATABLAFYASwBVAFIATwBMAEUATgBPAEwAUwBRAFAATQBKAFMATABRAE4ASwBKAE8ATwBIAE8ASABMAE0ARABGAD0ASABHAEAAPwA8AD4ARQBJADsAOwBCAE0ASABEAEYARwBFAEcARQBAAEAAQAA/AD4AQgA6AD0ASQBOAEcARgBAAEsASwA/AEYAOwA6AD4ANwA6ADsANQA2ACwAMQAuAC8ANQAnADoAOQA0ADUANAAyADUAOgAxADwAPgA9ADQANgA0ACoALwAuACwAKwAtADEALQAnAC4ALQA0ACkAMAAtACUAMQAiACwAKwApAC0AJwAjACEAJwAqACkAJQAnACwAKgApACwAKwAlACQAKwAnADMALQAqADIAKQArACcAKAApACgAEwAaAB8AGwAjACAAIgAYAB4AHAAaABUADgAOABgAGQARAAkABAAPAA0ACgAQAAwACwATAA0ADQATAA0ADQAIAAoADgADAAgACwAEAAgACQANAAoAAgAGAAQA/v8AAAUACwAHAAAABgAFAAQABgAIAAEA+////wAAAQABAAEAAAAEAAgADwAQABQADAAGAAQA//8HAAEA/v8AAAYADwAIAAUABgAJAAcAAQAAAAcAAQAGAAgA/v8EAAAA//8BAAAA+f/6//P/9P/7//z/9v/r//T/9P/u//D/8v/w/+z/9P/z//H/7P/r/+v/7//v/+r/9v/3/+z/7v/0//T/9P/y//L/6v/y//n/+f/3//D/AAD2/+3/8P/k/+n/7f/r/+T/5f/h/+r/7//i/+H/5v/p/+H/6//j/93/6//f/+D/3v/e/+D/3f/q/+f/4//r/+3/4P/s/+n/5P/r/+L/6v/j/+X/5P/e/+H/5//w/+b/6P/x/+3/6f/l/+j/6f/t/+r/7v/t/+f/6v/f/+L/5f/o/+j/4v/s/+3/9P/1/+7/8f/x//X/8//x/+7/8P/s/+r/7P/3//P/6v/z/+z/8//3//X/8//y//X/+//1//n//P/1/wAA+v/1//7/AAAAAPj/8f/4//D/8f/v//X/8//8//v/9f8AAPn/+f/s/+z/7v/v/+3/8v/3//P//v/8//j/9//2//3/+v/9/wIA/f/8//b//f/7////+//5/wAA+f8CAAIAAgAFAP//+v/3//L/8P/w/+//8f/y//P/+f/0/+7/8f/u/+3/8v/r/+n/8//t//H/+P/2//z////8/+n/6f/9//n/+f/7//L//f8AAPb/8v/p/+r/7v/l/+3/7f/p//T/6f/m/+X/6P/n/+b/4v/g/+3/5P/j/9v/5v/p/+j/5v/i/9v/1//j/9//5P/c/+j/4//l/+P/4f/q/+H/4v/k/+X/4//r/+H/2f/c/93/1//Y/9P/1f/f/9H/zP/W/9v/1P/Y/+H/5P/Y/9z/5P/d/+b/3v/c/+L/5v/t/+D/5v/m/+D/4P/j/9//2//g/9f/1f/R/9L/0P/W/9P/0v/U/87/2//U/9H/zv/T/9P/1f/W/9P/1P/O/87/zv/b/9T/0//T/9L/1P/J/9D/1P/X/9f/3P/m/+P/2v/S/9j/2f/X/9r/1//c/9T/1v/W/8v/0f/S/9f/1v/T/9P/0v/b/9r/1f/W/87/yP/L/9T/0//Z/9X/0P/Y/9T/1//X/9b/3P/j/9v/2v/a/9v/4P/c/+H/5P/o/+j/3//d/9r/2//b/93/7f/l/+D/4f/j/+P/2v/m/+T/4f/Z/9n/4P/p//H/7v/s/+f/7f/q/+H/6P/y/+//9v/u/+v/9//2//b/8//0//v/+v/4/////f/2//P/9v/0//j/AQADAAAA//8AAAQACAD///3/AwACAPL/9/8DAAUAAAD+/wIAAwABAAIADAAGAAMAAQACAAUAAAAMAA4ACAAIAAsAFgAYABkAHAAcABQAFgAcABwAFQAfABwADAAUABIAGAAbABoAJgAcABUAHQAZABsAGQARAA8AFQAcABcAHAAjACAAHwAkACoAJAAcACYAKQAbACUAIwAlACgAJAAsAC8ALwAnACwAKwApAC4AKgAsACkAIAAjACYAJwAsACkAMwAtADAAOgAyADUAKwArACwAMgA5ADAANQA3ADUAMgA3ADcAOAA/AEAAOAAsADAAMQA6AD4AOgA6ADsARAA7ADYANwAsADAAMwA6AD4AOgA6AEEAPgA5AEIAQgA9ADgAPAA1ADYAMAAsAD0AOwA0AD4ANQA+AD8ALwA3ADIAPwA+ADcAMgA3ADwAPABDAEMAOAAxACwAKgA2ADAANgA3ACkALgAzADEAMgAyADAAMAAxACgALQAsACkALAAmACMAKAAvADAALgAmACQAJQAlACoAJgAlAB0AHgArACQALwAkACIAKQAjAC4ALgAhABkAJQAgACUAHAAgAC8ALwAvAC4ANQA7ADgALAAwAC0AKQAmAB8AEgAdAB4AIAAjABgAEQAMABUAEQAQABAAEwAhABkAEgASAAYAAwD6/wgAFAAPAAwADAAZAA8ACgAKAAcACgADAAwACQAGAA4ACgALAAIADAARAAsAFQAJAP7//v/7/wQAEQAPAAUAAAADAAcABwAIAPj/9/8FAAgACgAAAP///v/7//b//f8HAAQAAgD///r/+P/1//v///8AAAQA//8CAAMAAgAFAPz/8v/9//f/9//4/wAABAD+/wAAAAADAPr///8BAAgAAgAEAAUA+v/9/wAAAgAAAP7/AwAAAP///f/7/wAA/v/8//P/AAADAPz/AAABAAEA/P/x//j/7//1//n/8v/3/+f/9f/x//P/9f/2/wMAAwAAAPj/+f8AAPf/9f/w/+///f/5//n/8//0//L/7//1//z/9v/z//X/7//u/+P/4v/u//j/9P/w//X/9v/2//P/8f/v/+T/7//5/+//9P/w/+3/5P/q//L/8P/5/+7/6v/h//P/8P/o//D/3P/g/93/4P/l/93/4v/m/9//3//f/+X/2f/Z/9f/0P/h/97/3P/R/87/2//X/9P/3//b/9//4v/Z/9//3P/Y/+L/3P/n/+X/4f/f/9T/3v/O/9z/2f/W/+P/3v/e/9z/3v/Y/9f/2//i/+L/5v/n/+n/5//i/+P/2P/Z/9v/0P/c/+T/3//a/9f/2//a/+H/3v/Z/9z/0v/S/9v/2P/f/9v/2v/c/9X/2P/W/9j/2v/d/9v/2f/V/9b/1P/S/9b/zv/c/97/3//h/9X/1f/N/9X/4f/Z/9L/yP/I/8b/w//Q/8z/0//N/8H/0P/G/8j/zP/I/8j/wf/S/8z/wv/L/8f/wv/C/77/w//G/8H/zP+//8P/xf+9/8j/xf+7/8D/zP/F/8z/z//L/83/xP+//8v/xv+9/7v/wP/E/8D/v//B/7r/wv+8/7z/wf+9/8j/vv/J/73/vP++/8P/wv+1/7b/sP+//73/t/+9/8X/x//G/7//wP+7/7j/sP+5/7//vP+6/8T/xv+2/7//u/+8/7//xf++/8L/yv/Q/8f/zv/V/83/1P/R/8z/zf/T/9T/1P/X/9j/0//d/9r/5f/e/9r/2//T/9r/1P/R/9T/2f/W/+L/6//h/+D/6v/r/+r/5v/n/+n/6//p/+n/8f/0/+7/8P/8//r/7v/w//X/7f/y//f//P8AAAEA+v/7/wIA8//y//T/+P/9/wAA9v/y//f/9/8BAPr///8AAAAABQD3/wAAAAD1//v/AAAGAAQACgANAAkADAAMAAsAEQAOAAcACgALAA8AEgAWABMAFQAQAAkADQAFAA0ADQANAAkACwARAAsABwAIAAkA/P8AAP////8JAAQAAQAEAAAAAQABAAAAAAD7/wAABQD9//r/+v/9//3/BgAKAAMA/f8BAAAA9v/5/+v/9v/2//v/AAD9/wAA+P8BAAAABAD5//7/AAD4//v/9v/6/wAAAAAAAAIA///5//b/+v/z//D/9P/3/wAA///7/wAABgAFAAIABQAIAAYABAAHAAMAAAD4//v/BgAGAAQACwALAAkACgAHAAAABgAGAP7/BAADAAYABAAFAAcAAwAHAAIAAAAJAAEAAQAFAAQABQAFAAcADQAEAAIABAD8/wgABwACAAAAAQAEAP//9v/7//b/+P/1//f//f/8//7////9//X//P/6//z//v/9//j/7v/y//H/9//8/wAA+//9//7/AQADAAAABwD9/wAA9P/2//z/9v/5/wAAAwD3//3/CgAKAAMABQAFAAMAEAAVAAsACQAPABEAEQAVABYAGAANABMAEwARAA8ACwATAAwADwAMAAwADwASAA4ABQAIAAMACQAMAAsADwAIAAMABAAFAA4ADQAHAA0ADQALABgAGQANAAkAFgAZABAAEgANABIACQALABgADwAYABMAEAAaABQAGAAWABoAHgARABQAFgAZABcAFQAVABgAHAAVABkAHgAkACMAHwAeACgAJgAeACEAJwAnACMAKAAlACYAHgAdACIAIwAgAB0AHwAeABcAFgAcABYAHQAgABIAHAAhABsAIAAnACEAHQAkACAAHQAeACEAKQAkACMAJQAmACcAIQAlACMAGwAcACkALwAnACoALAApACgAKwAnACgAJgAlACgAHAAmACoAKQA1AC8ALQAnACsAMAAxACsAMAAsADIANwAsAC8AIwAyADIALAAoACQAKAApACkAKQArACgAKwAxADcAOAAyADEAMgAqADEALQAiACcAKAAnACAAHgAlAB4AJgAiABkAHAAZAB8AHQAXABoAFQAZABUAFwAXABEAEwAWABMACgAOAAQABAAGAAYAAwAJAAMA/v8AAP7/AAD9/wAA/v////7//v8AAP//AAAAAAAAAAAAAP/////+/wAAAAAAAP//AQAAAP3/AAAAAP//AAD//wAAAAAAAP7/AAAAAP//AAD+////AAD///7///8AAAAAAAD//wAAAAAAAAAAAAAAAAAAAAAAAAAAAAAAAAAA//8AAAEA/////wAAAAD//wAAAAAAAAAAAAAAAAAAAAAAAAAA//8AAAAAAAAAAAAAAAAAAAAAAAAAAAAAAAAAAAAA//8AAP////8AAAAAAAAAAAAAAAAAAAAAAAAAAAAAAAAAAAAAAAAAAAAAAAAAAAAAAAAAAAAAAAAAAAAAAAAAAAAAAAAAAAAAAAAAAAAAAAAAAAAAAAAAAAAAAAAAAAAAAAAAAAAAAAAAAAAAAAAAAAAAAAAAAAAAAAAAAAAAAAAAAAAAAAAAAAAAAAAAAAAAAAAAAAAAAAAAAAAAAAAAAAAAAAAAAAAAAAAAAAAAAAAAAAAAAAAAAAAAAAAAAAAAAAAAAAAAAAAAAAAAAAAAAAAAAAAAAAAAAAAAAAAAAAAAAAAAAAAAAAAAAAAAAAAAAAAAAAAAAAAAAAAAAAAAAAAAAAAAAAAAAAAAAAAAAAAAAAAAAAAAAAAAAAAAAAAAAAAAAAAAAAAAAAAAAAAAAAAAAAAAAAAAAAA=\" type=\"audio/wav\" />\n",
       "                    Your browser does not support the audio element.\n",
       "                </audio>\n",
       "              "
      ],
      "text/plain": [
       "<IPython.lib.display.Audio object>"
      ]
     },
     "execution_count": 29,
     "metadata": {},
     "output_type": "execute_result"
    }
   ],
   "source": [
    "import IPython.display as ipd\n",
    "import numpy as np\n",
    "import random\n",
    "\n",
    "rand_int = random.randint(0, len(common_voice_train)-1)\n",
    "\n",
    "print(common_voice_train[rand_int][\"sentence\"])\n",
    "ipd.Audio(data=common_voice_train[rand_int][\"audio\"][\"array\"], autoplay=True, rate=16000)"
   ]
  },
  {
   "cell_type": "code",
   "execution_count": 30,
   "id": "4d95877d23a1e256",
   "metadata": {
    "collapsed": false
   },
   "outputs": [
    {
     "name": "stdout",
     "output_type": "stream",
     "text": [
      "Target text: na przyklad wymienilbym tu europejski program eurostars i sprawozdanie w sprawie zamuwieni przedkomercyjnych\n",
      "Input array shape: (146304,)\n",
      "Sampling rate: 16000\n"
     ]
    }
   ],
   "source": [
    "rand_int = random.randint(0, len(common_voice_train)-1)\n",
    "\n",
    "print(\"Target text:\", common_voice_train[rand_int][\"sentence\"])\n",
    "print(\"Input array shape:\", common_voice_train[rand_int][\"audio\"][\"array\"].shape)\n",
    "print(\"Sampling rate:\", common_voice_train[rand_int][\"audio\"][\"sampling_rate\"])"
   ]
  },
  {
   "cell_type": "code",
   "execution_count": 31,
   "id": "e7ee2281291e4d09",
   "metadata": {
    "collapsed": false
   },
   "outputs": [],
   "source": [
    "def prepare_dataset(batch):\n",
    "    audio = batch[\"audio\"]\n",
    "\n",
    "    # batched output is \"un-batched\"\n",
    "    batch[\"input_values\"] = processor(audio[\"array\"], sampling_rate=audio[\"sampling_rate\"]).input_values[0]\n",
    "    batch[\"input_length\"] = len(batch[\"input_values\"])\n",
    "    \n",
    "    with processor.as_target_processor():\n",
    "        batch[\"labels\"] = processor(batch[\"sentence\"]).input_ids\n",
    "    return batch"
   ]
  },
  {
   "cell_type": "code",
   "execution_count": 34,
   "id": "eff031b390b4c137",
   "metadata": {
    "collapsed": false
   },
   "outputs": [
    {
     "data": {
      "application/vnd.jupyter.widget-view+json": {
       "model_id": "8e0724f03f68444e8d14071c5cee7829",
       "version_major": 2,
       "version_minor": 0
      },
      "text/plain": [
       "Map:   0%|          | 0/20729 [00:00<?, ? examples/s]"
      ]
     },
     "metadata": {},
     "output_type": "display_data"
    },
    {
     "ename": "KeyError",
     "evalue": "'audio'",
     "output_type": "error",
     "traceback": [
      "\u001b[0;31m---------------------------------------------------------------------------\u001b[0m",
      "\u001b[0;31mKeyError\u001b[0m                                  Traceback (most recent call last)",
      "Cell \u001b[0;32mIn[34], line 1\u001b[0m\n\u001b[0;32m----> 1\u001b[0m common_voice_train \u001b[38;5;241m=\u001b[39m \u001b[43mcommon_voice_train\u001b[49m\u001b[38;5;241;43m.\u001b[39;49m\u001b[43mmap\u001b[49m\u001b[43m(\u001b[49m\u001b[43mprepare_dataset\u001b[49m\u001b[43m,\u001b[49m\u001b[43m \u001b[49m\u001b[43mremove_columns\u001b[49m\u001b[38;5;241;43m=\u001b[39;49m\u001b[43mcommon_voice_train\u001b[49m\u001b[38;5;241;43m.\u001b[39;49m\u001b[43mcolumn_names\u001b[49m\u001b[43m)\u001b[49m\n\u001b[1;32m      2\u001b[0m common_voice_test \u001b[38;5;241m=\u001b[39m common_voice_test\u001b[38;5;241m.\u001b[39mmap(prepare_dataset, remove_columns\u001b[38;5;241m=\u001b[39mcommon_voice_test\u001b[38;5;241m.\u001b[39mcolumn_names)\n\u001b[1;32m      3\u001b[0m common_voice_eval \u001b[38;5;241m=\u001b[39m common_voice_eval\u001b[38;5;241m.\u001b[39mmap(prepare_dataset, remove_columns\u001b[38;5;241m=\u001b[39mcommon_voice_eval\u001b[38;5;241m.\u001b[39mcolumn_names)\n",
      "File \u001b[0;32m~/repo/ZZSN_projekt/.venv/lib/python3.10/site-packages/datasets/arrow_dataset.py:602\u001b[0m, in \u001b[0;36mtransmit_tasks.<locals>.wrapper\u001b[0;34m(*args, **kwargs)\u001b[0m\n\u001b[1;32m    600\u001b[0m     \u001b[38;5;28mself\u001b[39m: \u001b[38;5;124m\"\u001b[39m\u001b[38;5;124mDataset\u001b[39m\u001b[38;5;124m\"\u001b[39m \u001b[38;5;241m=\u001b[39m kwargs\u001b[38;5;241m.\u001b[39mpop(\u001b[38;5;124m\"\u001b[39m\u001b[38;5;124mself\u001b[39m\u001b[38;5;124m\"\u001b[39m)\n\u001b[1;32m    601\u001b[0m \u001b[38;5;66;03m# apply actual function\u001b[39;00m\n\u001b[0;32m--> 602\u001b[0m out: Union[\u001b[38;5;124m\"\u001b[39m\u001b[38;5;124mDataset\u001b[39m\u001b[38;5;124m\"\u001b[39m, \u001b[38;5;124m\"\u001b[39m\u001b[38;5;124mDatasetDict\u001b[39m\u001b[38;5;124m\"\u001b[39m] \u001b[38;5;241m=\u001b[39m \u001b[43mfunc\u001b[49m\u001b[43m(\u001b[49m\u001b[38;5;28;43mself\u001b[39;49m\u001b[43m,\u001b[49m\u001b[43m \u001b[49m\u001b[38;5;241;43m*\u001b[39;49m\u001b[43margs\u001b[49m\u001b[43m,\u001b[49m\u001b[43m \u001b[49m\u001b[38;5;241;43m*\u001b[39;49m\u001b[38;5;241;43m*\u001b[39;49m\u001b[43mkwargs\u001b[49m\u001b[43m)\u001b[49m\n\u001b[1;32m    603\u001b[0m datasets: List[\u001b[38;5;124m\"\u001b[39m\u001b[38;5;124mDataset\u001b[39m\u001b[38;5;124m\"\u001b[39m] \u001b[38;5;241m=\u001b[39m \u001b[38;5;28mlist\u001b[39m(out\u001b[38;5;241m.\u001b[39mvalues()) \u001b[38;5;28;01mif\u001b[39;00m \u001b[38;5;28misinstance\u001b[39m(out, \u001b[38;5;28mdict\u001b[39m) \u001b[38;5;28;01melse\u001b[39;00m [out]\n\u001b[1;32m    604\u001b[0m \u001b[38;5;28;01mfor\u001b[39;00m dataset \u001b[38;5;129;01min\u001b[39;00m datasets:\n\u001b[1;32m    605\u001b[0m     \u001b[38;5;66;03m# Remove task templates if a column mapping of the template is no longer valid\u001b[39;00m\n",
      "File \u001b[0;32m~/repo/ZZSN_projekt/.venv/lib/python3.10/site-packages/datasets/arrow_dataset.py:567\u001b[0m, in \u001b[0;36mtransmit_format.<locals>.wrapper\u001b[0;34m(*args, **kwargs)\u001b[0m\n\u001b[1;32m    560\u001b[0m self_format \u001b[38;5;241m=\u001b[39m {\n\u001b[1;32m    561\u001b[0m     \u001b[38;5;124m\"\u001b[39m\u001b[38;5;124mtype\u001b[39m\u001b[38;5;124m\"\u001b[39m: \u001b[38;5;28mself\u001b[39m\u001b[38;5;241m.\u001b[39m_format_type,\n\u001b[1;32m    562\u001b[0m     \u001b[38;5;124m\"\u001b[39m\u001b[38;5;124mformat_kwargs\u001b[39m\u001b[38;5;124m\"\u001b[39m: \u001b[38;5;28mself\u001b[39m\u001b[38;5;241m.\u001b[39m_format_kwargs,\n\u001b[1;32m    563\u001b[0m     \u001b[38;5;124m\"\u001b[39m\u001b[38;5;124mcolumns\u001b[39m\u001b[38;5;124m\"\u001b[39m: \u001b[38;5;28mself\u001b[39m\u001b[38;5;241m.\u001b[39m_format_columns,\n\u001b[1;32m    564\u001b[0m     \u001b[38;5;124m\"\u001b[39m\u001b[38;5;124moutput_all_columns\u001b[39m\u001b[38;5;124m\"\u001b[39m: \u001b[38;5;28mself\u001b[39m\u001b[38;5;241m.\u001b[39m_output_all_columns,\n\u001b[1;32m    565\u001b[0m }\n\u001b[1;32m    566\u001b[0m \u001b[38;5;66;03m# apply actual function\u001b[39;00m\n\u001b[0;32m--> 567\u001b[0m out: Union[\u001b[38;5;124m\"\u001b[39m\u001b[38;5;124mDataset\u001b[39m\u001b[38;5;124m\"\u001b[39m, \u001b[38;5;124m\"\u001b[39m\u001b[38;5;124mDatasetDict\u001b[39m\u001b[38;5;124m\"\u001b[39m] \u001b[38;5;241m=\u001b[39m \u001b[43mfunc\u001b[49m\u001b[43m(\u001b[49m\u001b[38;5;28;43mself\u001b[39;49m\u001b[43m,\u001b[49m\u001b[43m \u001b[49m\u001b[38;5;241;43m*\u001b[39;49m\u001b[43margs\u001b[49m\u001b[43m,\u001b[49m\u001b[43m \u001b[49m\u001b[38;5;241;43m*\u001b[39;49m\u001b[38;5;241;43m*\u001b[39;49m\u001b[43mkwargs\u001b[49m\u001b[43m)\u001b[49m\n\u001b[1;32m    568\u001b[0m datasets: List[\u001b[38;5;124m\"\u001b[39m\u001b[38;5;124mDataset\u001b[39m\u001b[38;5;124m\"\u001b[39m] \u001b[38;5;241m=\u001b[39m \u001b[38;5;28mlist\u001b[39m(out\u001b[38;5;241m.\u001b[39mvalues()) \u001b[38;5;28;01mif\u001b[39;00m \u001b[38;5;28misinstance\u001b[39m(out, \u001b[38;5;28mdict\u001b[39m) \u001b[38;5;28;01melse\u001b[39;00m [out]\n\u001b[1;32m    569\u001b[0m \u001b[38;5;66;03m# re-apply format to the output\u001b[39;00m\n",
      "File \u001b[0;32m~/repo/ZZSN_projekt/.venv/lib/python3.10/site-packages/datasets/arrow_dataset.py:3161\u001b[0m, in \u001b[0;36mDataset.map\u001b[0;34m(self, function, with_indices, with_rank, input_columns, batched, batch_size, drop_last_batch, remove_columns, keep_in_memory, load_from_cache_file, cache_file_name, writer_batch_size, features, disable_nullable, fn_kwargs, num_proc, suffix_template, new_fingerprint, desc)\u001b[0m\n\u001b[1;32m   3155\u001b[0m \u001b[38;5;28;01mif\u001b[39;00m transformed_dataset \u001b[38;5;129;01mis\u001b[39;00m \u001b[38;5;28;01mNone\u001b[39;00m:\n\u001b[1;32m   3156\u001b[0m     \u001b[38;5;28;01mwith\u001b[39;00m hf_tqdm(\n\u001b[1;32m   3157\u001b[0m         unit\u001b[38;5;241m=\u001b[39m\u001b[38;5;124m\"\u001b[39m\u001b[38;5;124m examples\u001b[39m\u001b[38;5;124m\"\u001b[39m,\n\u001b[1;32m   3158\u001b[0m         total\u001b[38;5;241m=\u001b[39mpbar_total,\n\u001b[1;32m   3159\u001b[0m         desc\u001b[38;5;241m=\u001b[39mdesc \u001b[38;5;129;01mor\u001b[39;00m \u001b[38;5;124m\"\u001b[39m\u001b[38;5;124mMap\u001b[39m\u001b[38;5;124m\"\u001b[39m,\n\u001b[1;32m   3160\u001b[0m     ) \u001b[38;5;28;01mas\u001b[39;00m pbar:\n\u001b[0;32m-> 3161\u001b[0m         \u001b[38;5;28;01mfor\u001b[39;00m rank, done, content \u001b[38;5;129;01min\u001b[39;00m Dataset\u001b[38;5;241m.\u001b[39m_map_single(\u001b[38;5;241m*\u001b[39m\u001b[38;5;241m*\u001b[39mdataset_kwargs):\n\u001b[1;32m   3162\u001b[0m             \u001b[38;5;28;01mif\u001b[39;00m done:\n\u001b[1;32m   3163\u001b[0m                 shards_done \u001b[38;5;241m+\u001b[39m\u001b[38;5;241m=\u001b[39m \u001b[38;5;241m1\u001b[39m\n",
      "File \u001b[0;32m~/repo/ZZSN_projekt/.venv/lib/python3.10/site-packages/datasets/arrow_dataset.py:3522\u001b[0m, in \u001b[0;36mDataset._map_single\u001b[0;34m(shard, function, with_indices, with_rank, input_columns, batched, batch_size, drop_last_batch, remove_columns, keep_in_memory, cache_file_name, writer_batch_size, features, disable_nullable, fn_kwargs, new_fingerprint, rank, offset)\u001b[0m\n\u001b[1;32m   3520\u001b[0m _time \u001b[38;5;241m=\u001b[39m time\u001b[38;5;241m.\u001b[39mtime()\n\u001b[1;32m   3521\u001b[0m \u001b[38;5;28;01mfor\u001b[39;00m i, example \u001b[38;5;129;01min\u001b[39;00m shard_iterable:\n\u001b[0;32m-> 3522\u001b[0m     example \u001b[38;5;241m=\u001b[39m \u001b[43mapply_function_on_filtered_inputs\u001b[49m\u001b[43m(\u001b[49m\u001b[43mexample\u001b[49m\u001b[43m,\u001b[49m\u001b[43m \u001b[49m\u001b[43mi\u001b[49m\u001b[43m,\u001b[49m\u001b[43m \u001b[49m\u001b[43moffset\u001b[49m\u001b[38;5;241;43m=\u001b[39;49m\u001b[43moffset\u001b[49m\u001b[43m)\u001b[49m\n\u001b[1;32m   3523\u001b[0m     \u001b[38;5;28;01mif\u001b[39;00m update_data:\n\u001b[1;32m   3524\u001b[0m         \u001b[38;5;28;01mif\u001b[39;00m i \u001b[38;5;241m==\u001b[39m \u001b[38;5;241m0\u001b[39m:\n",
      "File \u001b[0;32m~/repo/ZZSN_projekt/.venv/lib/python3.10/site-packages/datasets/arrow_dataset.py:3421\u001b[0m, in \u001b[0;36mDataset._map_single.<locals>.apply_function_on_filtered_inputs\u001b[0;34m(pa_inputs, indices, check_same_num_examples, offset)\u001b[0m\n\u001b[1;32m   3419\u001b[0m \u001b[38;5;28;01mif\u001b[39;00m with_rank:\n\u001b[1;32m   3420\u001b[0m     additional_args \u001b[38;5;241m+\u001b[39m\u001b[38;5;241m=\u001b[39m (rank,)\n\u001b[0;32m-> 3421\u001b[0m processed_inputs \u001b[38;5;241m=\u001b[39m \u001b[43mfunction\u001b[49m\u001b[43m(\u001b[49m\u001b[38;5;241;43m*\u001b[39;49m\u001b[43mfn_args\u001b[49m\u001b[43m,\u001b[49m\u001b[43m \u001b[49m\u001b[38;5;241;43m*\u001b[39;49m\u001b[43madditional_args\u001b[49m\u001b[43m,\u001b[49m\u001b[43m \u001b[49m\u001b[38;5;241;43m*\u001b[39;49m\u001b[38;5;241;43m*\u001b[39;49m\u001b[43mfn_kwargs\u001b[49m\u001b[43m)\u001b[49m\n\u001b[1;32m   3422\u001b[0m \u001b[38;5;28;01mif\u001b[39;00m \u001b[38;5;28misinstance\u001b[39m(processed_inputs, LazyDict):\n\u001b[1;32m   3423\u001b[0m     processed_inputs \u001b[38;5;241m=\u001b[39m {\n\u001b[1;32m   3424\u001b[0m         k: v \u001b[38;5;28;01mfor\u001b[39;00m k, v \u001b[38;5;129;01min\u001b[39;00m processed_inputs\u001b[38;5;241m.\u001b[39mdata\u001b[38;5;241m.\u001b[39mitems() \u001b[38;5;28;01mif\u001b[39;00m k \u001b[38;5;129;01mnot\u001b[39;00m \u001b[38;5;129;01min\u001b[39;00m processed_inputs\u001b[38;5;241m.\u001b[39mkeys_to_format\n\u001b[1;32m   3425\u001b[0m     }\n",
      "Cell \u001b[0;32mIn[31], line 2\u001b[0m, in \u001b[0;36mprepare_dataset\u001b[0;34m(batch)\u001b[0m\n\u001b[1;32m      1\u001b[0m \u001b[38;5;28;01mdef\u001b[39;00m \u001b[38;5;21mprepare_dataset\u001b[39m(batch):\n\u001b[0;32m----> 2\u001b[0m     audio \u001b[38;5;241m=\u001b[39m \u001b[43mbatch\u001b[49m\u001b[43m[\u001b[49m\u001b[38;5;124;43m\"\u001b[39;49m\u001b[38;5;124;43maudio\u001b[39;49m\u001b[38;5;124;43m\"\u001b[39;49m\u001b[43m]\u001b[49m\n\u001b[1;32m      4\u001b[0m     \u001b[38;5;66;03m# batched output is \"un-batched\"\u001b[39;00m\n\u001b[1;32m      5\u001b[0m     batch[\u001b[38;5;124m\"\u001b[39m\u001b[38;5;124minput_values\u001b[39m\u001b[38;5;124m\"\u001b[39m] \u001b[38;5;241m=\u001b[39m processor(audio[\u001b[38;5;124m\"\u001b[39m\u001b[38;5;124marray\u001b[39m\u001b[38;5;124m\"\u001b[39m], sampling_rate\u001b[38;5;241m=\u001b[39maudio[\u001b[38;5;124m\"\u001b[39m\u001b[38;5;124msampling_rate\u001b[39m\u001b[38;5;124m\"\u001b[39m])\u001b[38;5;241m.\u001b[39minput_values[\u001b[38;5;241m0\u001b[39m]\n",
      "File \u001b[0;32m~/repo/ZZSN_projekt/.venv/lib/python3.10/site-packages/datasets/formatting/formatting.py:271\u001b[0m, in \u001b[0;36mLazyDict.__getitem__\u001b[0;34m(self, key)\u001b[0m\n\u001b[1;32m    270\u001b[0m \u001b[38;5;28;01mdef\u001b[39;00m \u001b[38;5;21m__getitem__\u001b[39m(\u001b[38;5;28mself\u001b[39m, key):\n\u001b[0;32m--> 271\u001b[0m     value \u001b[38;5;241m=\u001b[39m \u001b[38;5;28;43mself\u001b[39;49m\u001b[38;5;241;43m.\u001b[39;49m\u001b[43mdata\u001b[49m\u001b[43m[\u001b[49m\u001b[43mkey\u001b[49m\u001b[43m]\u001b[49m\n\u001b[1;32m    272\u001b[0m     \u001b[38;5;28;01mif\u001b[39;00m key \u001b[38;5;129;01min\u001b[39;00m \u001b[38;5;28mself\u001b[39m\u001b[38;5;241m.\u001b[39mkeys_to_format:\n\u001b[1;32m    273\u001b[0m         value \u001b[38;5;241m=\u001b[39m \u001b[38;5;28mself\u001b[39m\u001b[38;5;241m.\u001b[39mformat(key)\n",
      "\u001b[0;31mKeyError\u001b[0m: 'audio'"
     ]
    }
   ],
   "source": [
    "common_voice_train = common_voice_train.map(prepare_dataset, remove_columns=common_voice_train.column_names)\n",
    "common_voice_test = common_voice_test.map(prepare_dataset, remove_columns=common_voice_test.column_names)\n",
    "common_voice_eval = common_voice_eval.map(prepare_dataset, remove_columns=common_voice_eval.column_names)"
   ]
  },
  {
   "cell_type": "code",
   "execution_count": 36,
   "id": "6e8290b26e508942",
   "metadata": {
    "collapsed": false
   },
   "outputs": [
    {
     "name": "stdout",
     "output_type": "stream",
     "text": [
      "['input_values', 'input_length', 'labels']\n"
     ]
    }
   ],
   "source": [
    "print(common_voice_train.column_names)"
   ]
  },
  {
   "cell_type": "code",
   "execution_count": 37,
   "id": "3dc405d84e41fec7",
   "metadata": {
    "collapsed": false
   },
   "outputs": [],
   "source": [
    "import torch\n",
    "\n",
    "from dataclasses import dataclass, field\n",
    "from typing import Any, Dict, List, Optional, Union\n",
    "\n",
    "@dataclass\n",
    "class DataCollatorCTCWithPadding:\n",
    "    \"\"\"\n",
    "    Data collator that will dynamically pad the inputs received.\n",
    "    Args:\n",
    "        processor (:class:`~transformers.Wav2Vec2Processor`)\n",
    "            The processor used for proccessing the data.\n",
    "        padding (:obj:`bool`, :obj:`str` or :class:`~transformers.tokenization_utils_base.PaddingStrategy`, `optional`, defaults to :obj:`True`):\n",
    "            Select a strategy to pad the returned sequences (according to the model's padding side and padding index)\n",
    "            among:\n",
    "            * :obj:`True` or :obj:`'longest'`: Pad to the longest sequence in the batch (or no padding if only a single\n",
    "              sequence if provided).\n",
    "            * :obj:`'max_length'`: Pad to a maximum length specified with the argument :obj:`max_length` or to the\n",
    "              maximum acceptable input length for the model if that argument is not provided.\n",
    "            * :obj:`False` or :obj:`'do_not_pad'` (default): No padding (i.e., can output a batch with sequences of\n",
    "              different lengths).\n",
    "    \"\"\"\n",
    "\n",
    "    processor: Wav2Vec2Processor\n",
    "    padding: Union[bool, str] = True\n",
    "\n",
    "    def __call__(self, features: List[Dict[str, Union[List[int], torch.Tensor]]]) -> Dict[str, torch.Tensor]:\n",
    "        # split inputs and labels since they have to be of different lenghts and need\n",
    "        # different padding methods\n",
    "        input_features = [{\"input_values\": feature[\"input_values\"]} for feature in features]\n",
    "        label_features = [{\"input_ids\": feature[\"labels\"]} for feature in features]\n",
    "\n",
    "        batch = self.processor.pad(\n",
    "            input_features,\n",
    "            padding=self.padding,\n",
    "            return_tensors=\"pt\",\n",
    "        )\n",
    "        with self.processor.as_target_processor():\n",
    "            labels_batch = self.processor.pad(\n",
    "                label_features,\n",
    "                padding=self.padding,\n",
    "                return_tensors=\"pt\",\n",
    "            )\n",
    "\n",
    "        # replace padding with -100 to ignore loss correctly\n",
    "        labels = labels_batch[\"input_ids\"].masked_fill(labels_batch.attention_mask.ne(1), -100)\n",
    "\n",
    "        batch[\"labels\"] = labels\n",
    "\n",
    "        return batch"
   ]
  },
  {
   "cell_type": "code",
   "execution_count": 38,
   "id": "a388bae405696a06",
   "metadata": {
    "collapsed": false
   },
   "outputs": [],
   "source": [
    "data_collator = DataCollatorCTCWithPadding(processor=processor, padding=True)"
   ]
  },
  {
   "cell_type": "code",
   "execution_count": 39,
   "id": "8250c3bfbf7605ef",
   "metadata": {
    "collapsed": false
   },
   "outputs": [
    {
     "name": "stderr",
     "output_type": "stream",
     "text": [
      "/tmp/ipykernel_1993/24688115.py:1: FutureWarning: load_metric is deprecated and will be removed in the next major version of datasets. Use 'evaluate.load' instead, from the new library 🤗 Evaluate: https://huggingface.co/docs/evaluate\n",
      "  wer_metric = load_metric(\"wer\")\n"
     ]
    }
   ],
   "source": [
    "wer_metric = load_metric(\"wer\")"
   ]
  },
  {
   "cell_type": "code",
   "execution_count": 40,
   "id": "1535c1e3b9d8f2f9",
   "metadata": {
    "collapsed": false
   },
   "outputs": [],
   "source": [
    "def compute_metrics(pred):\n",
    "    pred_logits = pred.predictions\n",
    "    pred_ids = np.argmax(pred_logits, axis=-1)\n",
    "\n",
    "    pred.label_ids[pred.label_ids == -100] = processor.tokenizer.pad_token_id\n",
    "\n",
    "    pred_str = processor.batch_decode(pred_ids)\n",
    "    # we do not want to group tokens when computing the metrics\n",
    "    label_str = processor.batch_decode(pred.label_ids, group_tokens=False)\n",
    "\n",
    "    wer = wer_metric.compute(predictions=pred_str, references=label_str)\n",
    "\n",
    "    return {\"wer\": wer}"
   ]
  },
  {
   "cell_type": "code",
   "execution_count": 44,
   "id": "450c5dc04ec3d3b2",
   "metadata": {
    "collapsed": false
   },
   "outputs": [
    {
     "name": "stderr",
     "output_type": "stream",
     "text": [
      "Some weights of the model checkpoint at facebook/wav2vec2-base-960h were not used when initializing Wav2Vec2ForCTC: ['wav2vec2.encoder.pos_conv_embed.conv.weight_g', 'wav2vec2.encoder.pos_conv_embed.conv.weight_v']\n",
      "- This IS expected if you are initializing Wav2Vec2ForCTC from the checkpoint of a model trained on another task or with another architecture (e.g. initializing a BertForSequenceClassification model from a BertForPreTraining model).\n",
      "- This IS NOT expected if you are initializing Wav2Vec2ForCTC from the checkpoint of a model that you expect to be exactly identical (initializing a BertForSequenceClassification model from a BertForSequenceClassification model).\n",
      "Some weights of Wav2Vec2ForCTC were not initialized from the model checkpoint at facebook/wav2vec2-base-960h and are newly initialized: ['wav2vec2.encoder.pos_conv_embed.conv.parametrizations.weight.original0', 'wav2vec2.encoder.pos_conv_embed.conv.parametrizations.weight.original1', 'wav2vec2.masked_spec_embed']\n",
      "You should probably TRAIN this model on a down-stream task to be able to use it for predictions and inference.\n",
      "Some weights of Wav2Vec2ForCTC were not initialized from the model checkpoint at facebook/wav2vec2-base-960h and are newly initialized because the shapes did not match:\n",
      "- lm_head.bias: found shape torch.Size([32]) in the checkpoint and torch.Size([31]) in the model instantiated\n",
      "- lm_head.weight: found shape torch.Size([32, 768]) in the checkpoint and torch.Size([31, 768]) in the model instantiated\n",
      "You should probably TRAIN this model on a down-stream task to be able to use it for predictions and inference.\n"
     ]
    }
   ],
   "source": [
    "from transformers import Wav2Vec2ForCTC\n",
    "\n",
    "model = Wav2Vec2ForCTC.from_pretrained(\n",
    "    \"facebook/wav2vec2-base-960h\", \n",
    "    attention_dropout=0.0,\n",
    "    hidden_dropout=0.0,\n",
    "    feat_proj_dropout=0.0,\n",
    "    mask_time_prob=0.05,\n",
    "    layerdrop=0.0,\n",
    "    ctc_loss_reduction=\"mean\", \n",
    "    pad_token_id=processor.tokenizer.pad_token_id,\n",
    "    vocab_size=len(processor.tokenizer),\n",
    "    ignore_mismatched_sizes=True,\n",
    ")"
   ]
  },
  {
   "cell_type": "code",
   "execution_count": 45,
   "id": "2ed43e40b9127a1a",
   "metadata": {
    "collapsed": false
   },
   "outputs": [],
   "source": [
    "model.freeze_feature_extractor()"
   ]
  },
  {
   "cell_type": "code",
   "execution_count": 89,
   "id": "3f101175",
   "metadata": {},
   "outputs": [],
   "source": [
    "for param in model.parameters():\n",
    "    param.requires_grad = False\n",
    "\n",
    "for param in model.wav2vec2.encoder.layers[11].parameters():\n",
    "    param.requires_grad=True \n",
    "for param in model.dropout.parameters():\n",
    "    param.requires_grad=True \n",
    "for param in model.lm_head.parameters():\n",
    "    param.requires_grad=True "
   ]
  },
  {
   "cell_type": "code",
   "execution_count": 90,
   "id": "bcae25e41e6c44d7",
   "metadata": {
    "collapsed": false
   },
   "outputs": [
    {
     "name": "stderr",
     "output_type": "stream",
     "text": [
      "/home/mati/repo/ZZSN_projekt/.venv/lib/python3.10/site-packages/transformers/training_args.py:1474: FutureWarning: `evaluation_strategy` is deprecated and will be removed in version 4.46 of 🤗 Transformers. Use `eval_strategy` instead\n",
      "  warnings.warn(\n"
     ]
    }
   ],
   "source": [
    "from transformers import TrainingArguments\n",
    "\n",
    "training_args = TrainingArguments(\n",
    "  output_dir=\"out\",\n",
    "  group_by_length=True,\n",
    "  per_device_train_batch_size=16,\n",
    "  gradient_accumulation_steps=2,\n",
    "  evaluation_strategy=\"steps\",\n",
    "  num_train_epochs=30, # powinno być około 30 \n",
    "  gradient_checkpointing=True,\n",
    "  fp16=True,\n",
    "  save_steps=400,\n",
    "  eval_steps=400,\n",
    "  logging_steps=400,\n",
    "  learning_rate=3e-4,\n",
    "  warmup_steps=0,\n",
    "  save_total_limit=-1,\n",
    ")"
   ]
  },
  {
   "cell_type": "code",
   "execution_count": 91,
   "id": "a3da34147caccf64",
   "metadata": {
    "collapsed": false
   },
   "outputs": [],
   "source": [
    "from transformers import Trainer\n",
    "\n",
    "trainer = Trainer(\n",
    "    model=model,\n",
    "    data_collator=data_collator,\n",
    "    args=training_args,\n",
    "    compute_metrics=compute_metrics,\n",
    "    train_dataset=common_voice_train,\n",
    "    eval_dataset=common_voice_eval,\n",
    "    tokenizer=processor.feature_extractor,\n",
    ")"
   ]
  },
  {
   "cell_type": "code",
   "execution_count": 92,
   "id": "a84d9e9a3e315a92",
   "metadata": {
    "collapsed": false
   },
   "outputs": [
    {
     "ename": "KeyboardInterrupt",
     "evalue": "",
     "output_type": "error",
     "traceback": [
      "\u001b[0;31m---------------------------------------------------------------------------\u001b[0m",
      "\u001b[0;31mKeyboardInterrupt\u001b[0m                         Traceback (most recent call last)",
      "Cell \u001b[0;32mIn[92], line 1\u001b[0m\n\u001b[0;32m----> 1\u001b[0m \u001b[43mtrainer\u001b[49m\u001b[38;5;241;43m.\u001b[39;49m\u001b[43mtrain\u001b[49m\u001b[43m(\u001b[49m\u001b[43m)\u001b[49m\n",
      "File \u001b[0;32m~/repo/ZZSN_projekt/.venv/lib/python3.10/site-packages/transformers/trainer.py:1885\u001b[0m, in \u001b[0;36mTrainer.train\u001b[0;34m(self, resume_from_checkpoint, trial, ignore_keys_for_eval, **kwargs)\u001b[0m\n\u001b[1;32m   1883\u001b[0m         hf_hub_utils\u001b[38;5;241m.\u001b[39menable_progress_bars()\n\u001b[1;32m   1884\u001b[0m \u001b[38;5;28;01melse\u001b[39;00m:\n\u001b[0;32m-> 1885\u001b[0m     \u001b[38;5;28;01mreturn\u001b[39;00m \u001b[43minner_training_loop\u001b[49m\u001b[43m(\u001b[49m\n\u001b[1;32m   1886\u001b[0m \u001b[43m        \u001b[49m\u001b[43margs\u001b[49m\u001b[38;5;241;43m=\u001b[39;49m\u001b[43margs\u001b[49m\u001b[43m,\u001b[49m\n\u001b[1;32m   1887\u001b[0m \u001b[43m        \u001b[49m\u001b[43mresume_from_checkpoint\u001b[49m\u001b[38;5;241;43m=\u001b[39;49m\u001b[43mresume_from_checkpoint\u001b[49m\u001b[43m,\u001b[49m\n\u001b[1;32m   1888\u001b[0m \u001b[43m        \u001b[49m\u001b[43mtrial\u001b[49m\u001b[38;5;241;43m=\u001b[39;49m\u001b[43mtrial\u001b[49m\u001b[43m,\u001b[49m\n\u001b[1;32m   1889\u001b[0m \u001b[43m        \u001b[49m\u001b[43mignore_keys_for_eval\u001b[49m\u001b[38;5;241;43m=\u001b[39;49m\u001b[43mignore_keys_for_eval\u001b[49m\u001b[43m,\u001b[49m\n\u001b[1;32m   1890\u001b[0m \u001b[43m    \u001b[49m\u001b[43m)\u001b[49m\n",
      "File \u001b[0;32m~/repo/ZZSN_projekt/.venv/lib/python3.10/site-packages/transformers/trainer.py:1914\u001b[0m, in \u001b[0;36mTrainer._inner_training_loop\u001b[0;34m(self, batch_size, args, resume_from_checkpoint, trial, ignore_keys_for_eval)\u001b[0m\n\u001b[1;32m   1912\u001b[0m logger\u001b[38;5;241m.\u001b[39mdebug(\u001b[38;5;124mf\u001b[39m\u001b[38;5;124m\"\u001b[39m\u001b[38;5;124mCurrently training with a batch size of: \u001b[39m\u001b[38;5;132;01m{\u001b[39;00m\u001b[38;5;28mself\u001b[39m\u001b[38;5;241m.\u001b[39m_train_batch_size\u001b[38;5;132;01m}\u001b[39;00m\u001b[38;5;124m\"\u001b[39m)\n\u001b[1;32m   1913\u001b[0m \u001b[38;5;66;03m# Data loader and number of training steps\u001b[39;00m\n\u001b[0;32m-> 1914\u001b[0m train_dataloader \u001b[38;5;241m=\u001b[39m \u001b[38;5;28;43mself\u001b[39;49m\u001b[38;5;241;43m.\u001b[39;49m\u001b[43mget_train_dataloader\u001b[49m\u001b[43m(\u001b[49m\u001b[43m)\u001b[49m\n\u001b[1;32m   1915\u001b[0m \u001b[38;5;28;01mif\u001b[39;00m \u001b[38;5;28mself\u001b[39m\u001b[38;5;241m.\u001b[39mis_fsdp_xla_v2_enabled:\n\u001b[1;32m   1916\u001b[0m     train_dataloader \u001b[38;5;241m=\u001b[39m tpu_spmd_dataloader(train_dataloader)\n",
      "File \u001b[0;32m~/repo/ZZSN_projekt/.venv/lib/python3.10/site-packages/transformers/trainer.py:892\u001b[0m, in \u001b[0;36mTrainer.get_train_dataloader\u001b[0;34m(self)\u001b[0m\n\u001b[1;32m    883\u001b[0m dataloader_params \u001b[38;5;241m=\u001b[39m {\n\u001b[1;32m    884\u001b[0m     \u001b[38;5;124m\"\u001b[39m\u001b[38;5;124mbatch_size\u001b[39m\u001b[38;5;124m\"\u001b[39m: \u001b[38;5;28mself\u001b[39m\u001b[38;5;241m.\u001b[39m_train_batch_size,\n\u001b[1;32m    885\u001b[0m     \u001b[38;5;124m\"\u001b[39m\u001b[38;5;124mcollate_fn\u001b[39m\u001b[38;5;124m\"\u001b[39m: data_collator,\n\u001b[0;32m   (...)\u001b[0m\n\u001b[1;32m    888\u001b[0m     \u001b[38;5;124m\"\u001b[39m\u001b[38;5;124mpersistent_workers\u001b[39m\u001b[38;5;124m\"\u001b[39m: \u001b[38;5;28mself\u001b[39m\u001b[38;5;241m.\u001b[39margs\u001b[38;5;241m.\u001b[39mdataloader_persistent_workers,\n\u001b[1;32m    889\u001b[0m }\n\u001b[1;32m    891\u001b[0m \u001b[38;5;28;01mif\u001b[39;00m \u001b[38;5;129;01mnot\u001b[39;00m \u001b[38;5;28misinstance\u001b[39m(train_dataset, torch\u001b[38;5;241m.\u001b[39mutils\u001b[38;5;241m.\u001b[39mdata\u001b[38;5;241m.\u001b[39mIterableDataset):\n\u001b[0;32m--> 892\u001b[0m     dataloader_params[\u001b[38;5;124m\"\u001b[39m\u001b[38;5;124msampler\u001b[39m\u001b[38;5;124m\"\u001b[39m] \u001b[38;5;241m=\u001b[39m \u001b[38;5;28;43mself\u001b[39;49m\u001b[38;5;241;43m.\u001b[39;49m\u001b[43m_get_train_sampler\u001b[49m\u001b[43m(\u001b[49m\u001b[43m)\u001b[49m\n\u001b[1;32m    893\u001b[0m     dataloader_params[\u001b[38;5;124m\"\u001b[39m\u001b[38;5;124mdrop_last\u001b[39m\u001b[38;5;124m\"\u001b[39m] \u001b[38;5;241m=\u001b[39m \u001b[38;5;28mself\u001b[39m\u001b[38;5;241m.\u001b[39margs\u001b[38;5;241m.\u001b[39mdataloader_drop_last\n\u001b[1;32m    894\u001b[0m     dataloader_params[\u001b[38;5;124m\"\u001b[39m\u001b[38;5;124mworker_init_fn\u001b[39m\u001b[38;5;124m\"\u001b[39m] \u001b[38;5;241m=\u001b[39m seed_worker\n",
      "File \u001b[0;32m~/repo/ZZSN_projekt/.venv/lib/python3.10/site-packages/transformers/trainer.py:854\u001b[0m, in \u001b[0;36mTrainer._get_train_sampler\u001b[0;34m(self)\u001b[0m\n\u001b[1;32m    852\u001b[0m         lengths \u001b[38;5;241m=\u001b[39m \u001b[38;5;28;01mNone\u001b[39;00m\n\u001b[1;32m    853\u001b[0m     model_input_name \u001b[38;5;241m=\u001b[39m \u001b[38;5;28mself\u001b[39m\u001b[38;5;241m.\u001b[39mtokenizer\u001b[38;5;241m.\u001b[39mmodel_input_names[\u001b[38;5;241m0\u001b[39m] \u001b[38;5;28;01mif\u001b[39;00m \u001b[38;5;28mself\u001b[39m\u001b[38;5;241m.\u001b[39mtokenizer \u001b[38;5;129;01mis\u001b[39;00m \u001b[38;5;129;01mnot\u001b[39;00m \u001b[38;5;28;01mNone\u001b[39;00m \u001b[38;5;28;01melse\u001b[39;00m \u001b[38;5;28;01mNone\u001b[39;00m\n\u001b[0;32m--> 854\u001b[0m     \u001b[38;5;28;01mreturn\u001b[39;00m \u001b[43mLengthGroupedSampler\u001b[49m\u001b[43m(\u001b[49m\n\u001b[1;32m    855\u001b[0m \u001b[43m        \u001b[49m\u001b[38;5;28;43mself\u001b[39;49m\u001b[38;5;241;43m.\u001b[39;49m\u001b[43margs\u001b[49m\u001b[38;5;241;43m.\u001b[39;49m\u001b[43mtrain_batch_size\u001b[49m\u001b[43m \u001b[49m\u001b[38;5;241;43m*\u001b[39;49m\u001b[43m \u001b[49m\u001b[38;5;28;43mself\u001b[39;49m\u001b[38;5;241;43m.\u001b[39;49m\u001b[43margs\u001b[49m\u001b[38;5;241;43m.\u001b[39;49m\u001b[43mgradient_accumulation_steps\u001b[49m\u001b[43m,\u001b[49m\n\u001b[1;32m    856\u001b[0m \u001b[43m        \u001b[49m\u001b[43mdataset\u001b[49m\u001b[38;5;241;43m=\u001b[39;49m\u001b[38;5;28;43mself\u001b[39;49m\u001b[38;5;241;43m.\u001b[39;49m\u001b[43mtrain_dataset\u001b[49m\u001b[43m,\u001b[49m\n\u001b[1;32m    857\u001b[0m \u001b[43m        \u001b[49m\u001b[43mlengths\u001b[49m\u001b[38;5;241;43m=\u001b[39;49m\u001b[43mlengths\u001b[49m\u001b[43m,\u001b[49m\n\u001b[1;32m    858\u001b[0m \u001b[43m        \u001b[49m\u001b[43mmodel_input_name\u001b[49m\u001b[38;5;241;43m=\u001b[39;49m\u001b[43mmodel_input_name\u001b[49m\u001b[43m,\u001b[49m\n\u001b[1;32m    859\u001b[0m \u001b[43m    \u001b[49m\u001b[43m)\u001b[49m\n\u001b[1;32m    861\u001b[0m \u001b[38;5;28;01melse\u001b[39;00m:\n\u001b[1;32m    862\u001b[0m     \u001b[38;5;28;01mreturn\u001b[39;00m RandomSampler(\u001b[38;5;28mself\u001b[39m\u001b[38;5;241m.\u001b[39mtrain_dataset)\n",
      "File \u001b[0;32m~/repo/ZZSN_projekt/.venv/lib/python3.10/site-packages/transformers/trainer_pt_utils.py:654\u001b[0m, in \u001b[0;36mLengthGroupedSampler.__init__\u001b[0;34m(self, batch_size, dataset, lengths, model_input_name, generator)\u001b[0m\n\u001b[1;32m    646\u001b[0m     \u001b[38;5;28;01mif\u001b[39;00m (\n\u001b[1;32m    647\u001b[0m         \u001b[38;5;129;01mnot\u001b[39;00m (\u001b[38;5;28misinstance\u001b[39m(dataset[\u001b[38;5;241m0\u001b[39m], \u001b[38;5;28mdict\u001b[39m) \u001b[38;5;129;01mor\u001b[39;00m \u001b[38;5;28misinstance\u001b[39m(dataset[\u001b[38;5;241m0\u001b[39m], BatchEncoding))\n\u001b[1;32m    648\u001b[0m         \u001b[38;5;129;01mor\u001b[39;00m model_input_name \u001b[38;5;129;01mnot\u001b[39;00m \u001b[38;5;129;01min\u001b[39;00m dataset[\u001b[38;5;241m0\u001b[39m]\n\u001b[1;32m    649\u001b[0m     ):\n\u001b[1;32m    650\u001b[0m         \u001b[38;5;28;01mraise\u001b[39;00m \u001b[38;5;167;01mValueError\u001b[39;00m(\n\u001b[1;32m    651\u001b[0m             \u001b[38;5;124m\"\u001b[39m\u001b[38;5;124mCan only automatically infer lengths for datasets whose items are dictionaries with an \u001b[39m\u001b[38;5;124m\"\u001b[39m\n\u001b[1;32m    652\u001b[0m             \u001b[38;5;124mf\u001b[39m\u001b[38;5;124m\"\u001b[39m\u001b[38;5;124m'\u001b[39m\u001b[38;5;132;01m{\u001b[39;00mmodel_input_name\u001b[38;5;132;01m}\u001b[39;00m\u001b[38;5;124m'\u001b[39m\u001b[38;5;124m key.\u001b[39m\u001b[38;5;124m\"\u001b[39m\n\u001b[1;32m    653\u001b[0m         )\n\u001b[0;32m--> 654\u001b[0m     lengths \u001b[38;5;241m=\u001b[39m [\u001b[38;5;28mlen\u001b[39m(feature[model_input_name]) \u001b[38;5;28;01mfor\u001b[39;00m feature \u001b[38;5;129;01min\u001b[39;00m dataset]\n\u001b[1;32m    655\u001b[0m \u001b[38;5;28;01melif\u001b[39;00m \u001b[38;5;28misinstance\u001b[39m(lengths, torch\u001b[38;5;241m.\u001b[39mTensor):\n\u001b[1;32m    656\u001b[0m     logger\u001b[38;5;241m.\u001b[39minfo(\n\u001b[1;32m    657\u001b[0m         \u001b[38;5;124m\"\u001b[39m\u001b[38;5;124mIf lengths is a torch.Tensor, LengthGroupedSampler will be slow. Converting lengths to List[int]...\u001b[39m\u001b[38;5;124m\"\u001b[39m\n\u001b[1;32m    658\u001b[0m     )\n",
      "File \u001b[0;32m~/repo/ZZSN_projekt/.venv/lib/python3.10/site-packages/transformers/trainer_pt_utils.py:654\u001b[0m, in \u001b[0;36m<listcomp>\u001b[0;34m(.0)\u001b[0m\n\u001b[1;32m    646\u001b[0m     \u001b[38;5;28;01mif\u001b[39;00m (\n\u001b[1;32m    647\u001b[0m         \u001b[38;5;129;01mnot\u001b[39;00m (\u001b[38;5;28misinstance\u001b[39m(dataset[\u001b[38;5;241m0\u001b[39m], \u001b[38;5;28mdict\u001b[39m) \u001b[38;5;129;01mor\u001b[39;00m \u001b[38;5;28misinstance\u001b[39m(dataset[\u001b[38;5;241m0\u001b[39m], BatchEncoding))\n\u001b[1;32m    648\u001b[0m         \u001b[38;5;129;01mor\u001b[39;00m model_input_name \u001b[38;5;129;01mnot\u001b[39;00m \u001b[38;5;129;01min\u001b[39;00m dataset[\u001b[38;5;241m0\u001b[39m]\n\u001b[1;32m    649\u001b[0m     ):\n\u001b[1;32m    650\u001b[0m         \u001b[38;5;28;01mraise\u001b[39;00m \u001b[38;5;167;01mValueError\u001b[39;00m(\n\u001b[1;32m    651\u001b[0m             \u001b[38;5;124m\"\u001b[39m\u001b[38;5;124mCan only automatically infer lengths for datasets whose items are dictionaries with an \u001b[39m\u001b[38;5;124m\"\u001b[39m\n\u001b[1;32m    652\u001b[0m             \u001b[38;5;124mf\u001b[39m\u001b[38;5;124m\"\u001b[39m\u001b[38;5;124m'\u001b[39m\u001b[38;5;132;01m{\u001b[39;00mmodel_input_name\u001b[38;5;132;01m}\u001b[39;00m\u001b[38;5;124m'\u001b[39m\u001b[38;5;124m key.\u001b[39m\u001b[38;5;124m\"\u001b[39m\n\u001b[1;32m    653\u001b[0m         )\n\u001b[0;32m--> 654\u001b[0m     lengths \u001b[38;5;241m=\u001b[39m [\u001b[38;5;28mlen\u001b[39m(feature[model_input_name]) \u001b[38;5;28;01mfor\u001b[39;00m feature \u001b[38;5;129;01min\u001b[39;00m dataset]\n\u001b[1;32m    655\u001b[0m \u001b[38;5;28;01melif\u001b[39;00m \u001b[38;5;28misinstance\u001b[39m(lengths, torch\u001b[38;5;241m.\u001b[39mTensor):\n\u001b[1;32m    656\u001b[0m     logger\u001b[38;5;241m.\u001b[39minfo(\n\u001b[1;32m    657\u001b[0m         \u001b[38;5;124m\"\u001b[39m\u001b[38;5;124mIf lengths is a torch.Tensor, LengthGroupedSampler will be slow. Converting lengths to List[int]...\u001b[39m\u001b[38;5;124m\"\u001b[39m\n\u001b[1;32m    658\u001b[0m     )\n",
      "File \u001b[0;32m~/repo/ZZSN_projekt/.venv/lib/python3.10/site-packages/datasets/arrow_dataset.py:2445\u001b[0m, in \u001b[0;36mDataset.__iter__\u001b[0;34m(self)\u001b[0m\n\u001b[1;32m   2443\u001b[0m         \u001b[38;5;28;01mfor\u001b[39;00m i \u001b[38;5;129;01min\u001b[39;00m \u001b[38;5;28mrange\u001b[39m(pa_subtable\u001b[38;5;241m.\u001b[39mnum_rows):\n\u001b[1;32m   2444\u001b[0m             pa_subtable_ex \u001b[38;5;241m=\u001b[39m pa_subtable\u001b[38;5;241m.\u001b[39mslice(i, \u001b[38;5;241m1\u001b[39m)\n\u001b[0;32m-> 2445\u001b[0m             formatted_output \u001b[38;5;241m=\u001b[39m \u001b[43mformat_table\u001b[49m\u001b[43m(\u001b[49m\n\u001b[1;32m   2446\u001b[0m \u001b[43m                \u001b[49m\u001b[43mpa_subtable_ex\u001b[49m\u001b[43m,\u001b[49m\n\u001b[1;32m   2447\u001b[0m \u001b[43m                \u001b[49m\u001b[38;5;241;43m0\u001b[39;49m\u001b[43m,\u001b[49m\n\u001b[1;32m   2448\u001b[0m \u001b[43m                \u001b[49m\u001b[43mformatter\u001b[49m\u001b[38;5;241;43m=\u001b[39;49m\u001b[43mformatter\u001b[49m\u001b[43m,\u001b[49m\n\u001b[1;32m   2449\u001b[0m \u001b[43m                \u001b[49m\u001b[43mformat_columns\u001b[49m\u001b[38;5;241;43m=\u001b[39;49m\u001b[38;5;28;43mself\u001b[39;49m\u001b[38;5;241;43m.\u001b[39;49m\u001b[43m_format_columns\u001b[49m\u001b[43m,\u001b[49m\n\u001b[1;32m   2450\u001b[0m \u001b[43m                \u001b[49m\u001b[43moutput_all_columns\u001b[49m\u001b[38;5;241;43m=\u001b[39;49m\u001b[38;5;28;43mself\u001b[39;49m\u001b[38;5;241;43m.\u001b[39;49m\u001b[43m_output_all_columns\u001b[49m\u001b[43m,\u001b[49m\n\u001b[1;32m   2451\u001b[0m \u001b[43m            \u001b[49m\u001b[43m)\u001b[49m\n\u001b[1;32m   2452\u001b[0m             \u001b[38;5;28;01myield\u001b[39;00m formatted_output\n\u001b[1;32m   2453\u001b[0m \u001b[38;5;28;01melse\u001b[39;00m:\n",
      "File \u001b[0;32m~/repo/ZZSN_projekt/.venv/lib/python3.10/site-packages/datasets/formatting/formatting.py:633\u001b[0m, in \u001b[0;36mformat_table\u001b[0;34m(table, key, formatter, format_columns, output_all_columns)\u001b[0m\n\u001b[1;32m    631\u001b[0m python_formatter \u001b[38;5;241m=\u001b[39m PythonFormatter(features\u001b[38;5;241m=\u001b[39mformatter\u001b[38;5;241m.\u001b[39mfeatures)\n\u001b[1;32m    632\u001b[0m \u001b[38;5;28;01mif\u001b[39;00m format_columns \u001b[38;5;129;01mis\u001b[39;00m \u001b[38;5;28;01mNone\u001b[39;00m:\n\u001b[0;32m--> 633\u001b[0m     \u001b[38;5;28;01mreturn\u001b[39;00m \u001b[43mformatter\u001b[49m\u001b[43m(\u001b[49m\u001b[43mpa_table\u001b[49m\u001b[43m,\u001b[49m\u001b[43m \u001b[49m\u001b[43mquery_type\u001b[49m\u001b[38;5;241;43m=\u001b[39;49m\u001b[43mquery_type\u001b[49m\u001b[43m)\u001b[49m\n\u001b[1;32m    634\u001b[0m \u001b[38;5;28;01melif\u001b[39;00m query_type \u001b[38;5;241m==\u001b[39m \u001b[38;5;124m\"\u001b[39m\u001b[38;5;124mcolumn\u001b[39m\u001b[38;5;124m\"\u001b[39m:\n\u001b[1;32m    635\u001b[0m     \u001b[38;5;28;01mif\u001b[39;00m key \u001b[38;5;129;01min\u001b[39;00m format_columns:\n",
      "File \u001b[0;32m~/repo/ZZSN_projekt/.venv/lib/python3.10/site-packages/datasets/formatting/formatting.py:397\u001b[0m, in \u001b[0;36mFormatter.__call__\u001b[0;34m(self, pa_table, query_type)\u001b[0m\n\u001b[1;32m    395\u001b[0m \u001b[38;5;28;01mdef\u001b[39;00m \u001b[38;5;21m__call__\u001b[39m(\u001b[38;5;28mself\u001b[39m, pa_table: pa\u001b[38;5;241m.\u001b[39mTable, query_type: \u001b[38;5;28mstr\u001b[39m) \u001b[38;5;241m-\u001b[39m\u001b[38;5;241m>\u001b[39m Union[RowFormat, ColumnFormat, BatchFormat]:\n\u001b[1;32m    396\u001b[0m     \u001b[38;5;28;01mif\u001b[39;00m query_type \u001b[38;5;241m==\u001b[39m \u001b[38;5;124m\"\u001b[39m\u001b[38;5;124mrow\u001b[39m\u001b[38;5;124m\"\u001b[39m:\n\u001b[0;32m--> 397\u001b[0m         \u001b[38;5;28;01mreturn\u001b[39;00m \u001b[38;5;28;43mself\u001b[39;49m\u001b[38;5;241;43m.\u001b[39;49m\u001b[43mformat_row\u001b[49m\u001b[43m(\u001b[49m\u001b[43mpa_table\u001b[49m\u001b[43m)\u001b[49m\n\u001b[1;32m    398\u001b[0m     \u001b[38;5;28;01melif\u001b[39;00m query_type \u001b[38;5;241m==\u001b[39m \u001b[38;5;124m\"\u001b[39m\u001b[38;5;124mcolumn\u001b[39m\u001b[38;5;124m\"\u001b[39m:\n\u001b[1;32m    399\u001b[0m         \u001b[38;5;28;01mreturn\u001b[39;00m \u001b[38;5;28mself\u001b[39m\u001b[38;5;241m.\u001b[39mformat_column(pa_table)\n",
      "File \u001b[0;32m~/repo/ZZSN_projekt/.venv/lib/python3.10/site-packages/datasets/formatting/formatting.py:437\u001b[0m, in \u001b[0;36mPythonFormatter.format_row\u001b[0;34m(self, pa_table)\u001b[0m\n\u001b[1;32m    435\u001b[0m \u001b[38;5;28;01mif\u001b[39;00m \u001b[38;5;28mself\u001b[39m\u001b[38;5;241m.\u001b[39mlazy:\n\u001b[1;32m    436\u001b[0m     \u001b[38;5;28;01mreturn\u001b[39;00m LazyRow(pa_table, \u001b[38;5;28mself\u001b[39m)\n\u001b[0;32m--> 437\u001b[0m row \u001b[38;5;241m=\u001b[39m \u001b[38;5;28;43mself\u001b[39;49m\u001b[38;5;241;43m.\u001b[39;49m\u001b[43mpython_arrow_extractor\u001b[49m\u001b[43m(\u001b[49m\u001b[43m)\u001b[49m\u001b[38;5;241;43m.\u001b[39;49m\u001b[43mextract_row\u001b[49m\u001b[43m(\u001b[49m\u001b[43mpa_table\u001b[49m\u001b[43m)\u001b[49m\n\u001b[1;32m    438\u001b[0m row \u001b[38;5;241m=\u001b[39m \u001b[38;5;28mself\u001b[39m\u001b[38;5;241m.\u001b[39mpython_features_decoder\u001b[38;5;241m.\u001b[39mdecode_row(row)\n\u001b[1;32m    439\u001b[0m \u001b[38;5;28;01mreturn\u001b[39;00m row\n",
      "File \u001b[0;32m~/repo/ZZSN_projekt/.venv/lib/python3.10/site-packages/datasets/formatting/formatting.py:145\u001b[0m, in \u001b[0;36mPythonArrowExtractor.extract_row\u001b[0;34m(self, pa_table)\u001b[0m\n\u001b[1;32m    144\u001b[0m \u001b[38;5;28;01mdef\u001b[39;00m \u001b[38;5;21mextract_row\u001b[39m(\u001b[38;5;28mself\u001b[39m, pa_table: pa\u001b[38;5;241m.\u001b[39mTable) \u001b[38;5;241m-\u001b[39m\u001b[38;5;241m>\u001b[39m \u001b[38;5;28mdict\u001b[39m:\n\u001b[0;32m--> 145\u001b[0m     \u001b[38;5;28;01mreturn\u001b[39;00m _unnest(\u001b[43mpa_table\u001b[49m\u001b[38;5;241;43m.\u001b[39;49m\u001b[43mto_pydict\u001b[49m\u001b[43m(\u001b[49m\u001b[43m)\u001b[49m)\n",
      "\u001b[0;31mKeyboardInterrupt\u001b[0m: "
     ]
    }
   ],
   "source": [
    "trainer.train()"
   ]
  },
  {
   "cell_type": "code",
   "execution_count": null,
   "id": "d4e41cf2b7818be1",
   "metadata": {
    "collapsed": false,
    "is_executing": true
   },
   "outputs": [],
   "source": [
    "model = Wav2Vec2ForCTC.from_pretrained(\"out\").to(\"cuda\")\n",
    "processor = Wav2Vec2Processor.from_pretrained(\"out\")"
   ]
  },
  {
   "cell_type": "code",
   "execution_count": null,
   "id": "22da2c0e24f93202",
   "metadata": {
    "collapsed": false,
    "is_executing": true
   },
   "outputs": [],
   "source": [
    "input_dict = processor(common_voice_test[0][\"input_values\"], return_tensors=\"pt\", padding=True)\n",
    "\n",
    "logits = model(input_dict.input_values.to(\"cuda\")).logits\n",
    "\n",
    "pred_ids = torch.argmax(logits, dim=-1)[0]"
   ]
  },
  {
   "cell_type": "code",
   "execution_count": null,
   "id": "64104e8f1f2813d9",
   "metadata": {
    "collapsed": false,
    "is_executing": true
   },
   "outputs": [],
   "source": [
    "print(\"Prediction:\")\n",
    "print(processor.decode(pred_ids))"
   ]
  }
 ],
 "metadata": {
  "kernelspec": {
   "display_name": "Python 3",
   "language": "python",
   "name": "python3"
  },
  "language_info": {
   "codemirror_mode": {
    "name": "ipython",
    "version": 3
   },
   "file_extension": ".py",
   "mimetype": "text/x-python",
   "name": "python",
   "nbconvert_exporter": "python",
   "pygments_lexer": "ipython3",
   "version": "3.10.12"
  }
 },
 "nbformat": 4,
 "nbformat_minor": 5
}
